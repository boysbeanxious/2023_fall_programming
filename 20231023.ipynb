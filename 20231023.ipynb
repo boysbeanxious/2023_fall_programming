{
 "cells": [
  {
   "cell_type": "code",
   "execution_count": 1,
   "id": "93d0c427",
   "metadata": {},
   "outputs": [],
   "source": [
    "import pandas as pd\n",
    "df1 = pd.DataFrame({\n",
    "  'key': ['b', 'b', 'a', 'c', 'a', 'a', 'b'],\n",
    "  'data1': pd.Series(range(7))})\n",
    "df2 = pd.DataFrame({\n",
    "  'key': ['a', 'b', 'd'],\n",
    "  'data2': pd.Series([False, True, True])})"
   ]
  },
  {
   "cell_type": "code",
   "execution_count": 2,
   "id": "8c65a020",
   "metadata": {},
   "outputs": [
    {
     "name": "stdout",
     "output_type": "stream",
     "text": [
      "  key  data1\n",
      "0   b      0\n",
      "1   b      1\n",
      "2   a      2\n",
      "3   c      3\n",
      "4   a      4\n",
      "5   a      5\n",
      "6   b      6\n",
      "  key  data2\n",
      "0   a  False\n",
      "1   b   True\n",
      "2   d   True\n"
     ]
    }
   ],
   "source": [
    "print(df1)\n",
    "print(df2)"
   ]
  },
  {
   "cell_type": "code",
   "execution_count": 3,
   "id": "aa8e766e",
   "metadata": {},
   "outputs": [
    {
     "name": "stdout",
     "output_type": "stream",
     "text": [
      "  key  data1  data2\n",
      "0   b      0   True\n",
      "1   b      1   True\n",
      "2   b      6   True\n",
      "3   a      2  False\n",
      "4   a      4  False\n",
      "5   a      5  False\n"
     ]
    }
   ],
   "source": [
    "# 기본적으로 inner join \n",
    "df_join2 = pd.merge(df1, df2)\n",
    "print(df_join2)"
   ]
  },
  {
   "cell_type": "code",
   "execution_count": 4,
   "id": "48179539",
   "metadata": {},
   "outputs": [],
   "source": [
    "df3 = pd.DataFrame({\n",
    "  'key_l': ['b', 'b', 'a', 'c', 'a', 'a', 'b'],\n",
    "  'data1': pd.Series(range(7))})\n",
    "df4 = pd.DataFrame({\n",
    "  'key_r': ['a', 'b', 'd'],\n",
    "  'data2': pd.Series(range(3))})"
   ]
  },
  {
   "cell_type": "code",
   "execution_count": 5,
   "id": "ba807131",
   "metadata": {},
   "outputs": [
    {
     "name": "stdout",
     "output_type": "stream",
     "text": [
      "  key_l  data1 key_r  data2\n",
      "0     b      0     b      1\n",
      "1     b      1     b      1\n",
      "2     b      6     b      1\n",
      "3     a      2     a      0\n",
      "4     a      4     a      0\n",
      "5     a      5     a      0\n"
     ]
    }
   ],
   "source": [
    "df_join = pd.merge(df3, df4,\n",
    "                   left_on = 'key_l', right_on = 'key_r')\n",
    "print(df_join)"
   ]
  },
  {
   "cell_type": "code",
   "execution_count": 6,
   "id": "318fc529",
   "metadata": {},
   "outputs": [
    {
     "data": {
      "text/html": [
       "<div>\n",
       "<style scoped>\n",
       "    .dataframe tbody tr th:only-of-type {\n",
       "        vertical-align: middle;\n",
       "    }\n",
       "\n",
       "    .dataframe tbody tr th {\n",
       "        vertical-align: top;\n",
       "    }\n",
       "\n",
       "    .dataframe thead th {\n",
       "        text-align: right;\n",
       "    }\n",
       "</style>\n",
       "<table border=\"1\" class=\"dataframe\">\n",
       "  <thead>\n",
       "    <tr style=\"text-align: right;\">\n",
       "      <th></th>\n",
       "      <th>key_l</th>\n",
       "      <th>data1</th>\n",
       "      <th>key_r</th>\n",
       "      <th>data2</th>\n",
       "    </tr>\n",
       "  </thead>\n",
       "  <tbody>\n",
       "    <tr>\n",
       "      <th>0</th>\n",
       "      <td>b</td>\n",
       "      <td>0</td>\n",
       "      <td>b</td>\n",
       "      <td>1</td>\n",
       "    </tr>\n",
       "    <tr>\n",
       "      <th>1</th>\n",
       "      <td>b</td>\n",
       "      <td>1</td>\n",
       "      <td>b</td>\n",
       "      <td>1</td>\n",
       "    </tr>\n",
       "    <tr>\n",
       "      <th>2</th>\n",
       "      <td>b</td>\n",
       "      <td>6</td>\n",
       "      <td>b</td>\n",
       "      <td>1</td>\n",
       "    </tr>\n",
       "    <tr>\n",
       "      <th>3</th>\n",
       "      <td>a</td>\n",
       "      <td>2</td>\n",
       "      <td>a</td>\n",
       "      <td>0</td>\n",
       "    </tr>\n",
       "    <tr>\n",
       "      <th>4</th>\n",
       "      <td>a</td>\n",
       "      <td>4</td>\n",
       "      <td>a</td>\n",
       "      <td>0</td>\n",
       "    </tr>\n",
       "    <tr>\n",
       "      <th>5</th>\n",
       "      <td>a</td>\n",
       "      <td>5</td>\n",
       "      <td>a</td>\n",
       "      <td>0</td>\n",
       "    </tr>\n",
       "  </tbody>\n",
       "</table>\n",
       "</div>"
      ],
      "text/plain": [
       "  key_l  data1 key_r  data2\n",
       "0     b      0     b      1\n",
       "1     b      1     b      1\n",
       "2     b      6     b      1\n",
       "3     a      2     a      0\n",
       "4     a      4     a      0\n",
       "5     a      5     a      0"
      ]
     },
     "execution_count": 6,
     "metadata": {},
     "output_type": "execute_result"
    }
   ],
   "source": [
    "df_join"
   ]
  },
  {
   "cell_type": "code",
   "execution_count": 7,
   "id": "7b8b909b",
   "metadata": {},
   "outputs": [
    {
     "name": "stdout",
     "output_type": "stream",
     "text": [
      "  key  data1\n",
      "0   b      0\n",
      "1   b      1\n",
      "2   a      2\n",
      "3   c      3\n",
      "4   a      4\n",
      "5   a      5\n",
      "6   b      6\n",
      "  key  data2\n",
      "0   a  False\n",
      "1   b   True\n",
      "2   d   True\n"
     ]
    }
   ],
   "source": [
    "print(df1)\n",
    "print(df2)"
   ]
  },
  {
   "cell_type": "code",
   "execution_count": 8,
   "id": "250d7c77",
   "metadata": {
    "scrolled": true
   },
   "outputs": [
    {
     "name": "stdout",
     "output_type": "stream",
     "text": [
      "  key_l  data1 key_r  data2\n",
      "0     b    0.0     b    1.0\n",
      "1     b    1.0     b    1.0\n",
      "2     b    6.0     b    1.0\n",
      "3     a    2.0     a    0.0\n",
      "4     a    4.0     a    0.0\n",
      "5     a    5.0     a    0.0\n",
      "6     c    3.0   NaN    NaN\n",
      "7   NaN    NaN     d    2.0\n"
     ]
    }
   ],
   "source": [
    "df_join_outer = pd.merge(df3, df4, how = 'outer',\n",
    "                   left_on = 'key_l', right_on = 'key_r')\n",
    "print(df_join_outer)"
   ]
  },
  {
   "cell_type": "code",
   "execution_count": 14,
   "id": "ee77d595",
   "metadata": {},
   "outputs": [
    {
     "data": {
      "text/html": [
       "<div>\n",
       "<style scoped>\n",
       "    .dataframe tbody tr th:only-of-type {\n",
       "        vertical-align: middle;\n",
       "    }\n",
       "\n",
       "    .dataframe tbody tr th {\n",
       "        vertical-align: top;\n",
       "    }\n",
       "\n",
       "    .dataframe thead th {\n",
       "        text-align: right;\n",
       "    }\n",
       "</style>\n",
       "<table border=\"1\" class=\"dataframe\">\n",
       "  <thead>\n",
       "    <tr style=\"text-align: right;\">\n",
       "      <th></th>\n",
       "      <th>key</th>\n",
       "      <th>data1</th>\n",
       "    </tr>\n",
       "  </thead>\n",
       "  <tbody>\n",
       "    <tr>\n",
       "      <th>0</th>\n",
       "      <td>b</td>\n",
       "      <td>0</td>\n",
       "    </tr>\n",
       "    <tr>\n",
       "      <th>1</th>\n",
       "      <td>b</td>\n",
       "      <td>1</td>\n",
       "    </tr>\n",
       "    <tr>\n",
       "      <th>2</th>\n",
       "      <td>a</td>\n",
       "      <td>2</td>\n",
       "    </tr>\n",
       "    <tr>\n",
       "      <th>3</th>\n",
       "      <td>c</td>\n",
       "      <td>3</td>\n",
       "    </tr>\n",
       "    <tr>\n",
       "      <th>4</th>\n",
       "      <td>a</td>\n",
       "      <td>4</td>\n",
       "    </tr>\n",
       "    <tr>\n",
       "      <th>5</th>\n",
       "      <td>a</td>\n",
       "      <td>5</td>\n",
       "    </tr>\n",
       "    <tr>\n",
       "      <th>6</th>\n",
       "      <td>b</td>\n",
       "      <td>6</td>\n",
       "    </tr>\n",
       "  </tbody>\n",
       "</table>\n",
       "</div>"
      ],
      "text/plain": [
       "  key  data1\n",
       "0   b      0\n",
       "1   b      1\n",
       "2   a      2\n",
       "3   c      3\n",
       "4   a      4\n",
       "5   a      5\n",
       "6   b      6"
      ]
     },
     "execution_count": 14,
     "metadata": {},
     "output_type": "execute_result"
    }
   ],
   "source": [
    "df1"
   ]
  },
  {
   "cell_type": "code",
   "execution_count": 15,
   "id": "92ef1562",
   "metadata": {},
   "outputs": [
    {
     "data": {
      "text/html": [
       "<div>\n",
       "<style scoped>\n",
       "    .dataframe tbody tr th:only-of-type {\n",
       "        vertical-align: middle;\n",
       "    }\n",
       "\n",
       "    .dataframe tbody tr th {\n",
       "        vertical-align: top;\n",
       "    }\n",
       "\n",
       "    .dataframe thead th {\n",
       "        text-align: right;\n",
       "    }\n",
       "</style>\n",
       "<table border=\"1\" class=\"dataframe\">\n",
       "  <thead>\n",
       "    <tr style=\"text-align: right;\">\n",
       "      <th></th>\n",
       "      <th>key</th>\n",
       "      <th>data2</th>\n",
       "    </tr>\n",
       "  </thead>\n",
       "  <tbody>\n",
       "    <tr>\n",
       "      <th>0</th>\n",
       "      <td>a</td>\n",
       "      <td>False</td>\n",
       "    </tr>\n",
       "    <tr>\n",
       "      <th>1</th>\n",
       "      <td>b</td>\n",
       "      <td>True</td>\n",
       "    </tr>\n",
       "    <tr>\n",
       "      <th>2</th>\n",
       "      <td>d</td>\n",
       "      <td>True</td>\n",
       "    </tr>\n",
       "  </tbody>\n",
       "</table>\n",
       "</div>"
      ],
      "text/plain": [
       "  key  data2\n",
       "0   a  False\n",
       "1   b   True\n",
       "2   d   True"
      ]
     },
     "execution_count": 15,
     "metadata": {},
     "output_type": "execute_result"
    }
   ],
   "source": [
    "df2"
   ]
  },
  {
   "cell_type": "code",
   "execution_count": 10,
   "id": "2807df7f",
   "metadata": {},
   "outputs": [
    {
     "name": "stdout",
     "output_type": "stream",
     "text": [
      "  key  data1  data2\n",
      "0   b      0   True\n",
      "1   b      1   True\n",
      "2   a      2  False\n",
      "3   c      3    NaN\n",
      "4   a      4  False\n",
      "5   a      5  False\n",
      "6   b      6   True\n"
     ]
    }
   ],
   "source": [
    "df_join_left = pd.merge(df1, df2, how = 'left',\n",
    "                   on = 'key')\n",
    "print(df_join_left)"
   ]
  },
  {
   "cell_type": "code",
   "execution_count": 16,
   "id": "6b4cdc37",
   "metadata": {},
   "outputs": [
    {
     "name": "stdout",
     "output_type": "stream",
     "text": [
      "  key  data1  data2\n",
      "0   a    2.0  False\n",
      "1   a    4.0  False\n",
      "2   a    5.0  False\n",
      "3   b    0.0   True\n",
      "4   b    1.0   True\n",
      "5   b    6.0   True\n",
      "6   d    NaN   True\n"
     ]
    }
   ],
   "source": [
    "df_join_left = pd.merge(df1, df2, how = 'right',\n",
    "                   on = 'key')\n",
    "print(df_join_left)"
   ]
  },
  {
   "cell_type": "code",
   "execution_count": 11,
   "id": "7b1253be",
   "metadata": {},
   "outputs": [
    {
     "name": "stdout",
     "output_type": "stream",
     "text": [
      "   student_id     name    class\n",
      "0           1    Alice     Math\n",
      "1           2      Bob  History\n",
      "2           3  Charlie     Math\n",
      "3           4    David  Science\n",
      "   student_id    class grade\n",
      "0           1     Math     A\n",
      "1           2  History     B\n",
      "2           3  Science     A\n"
     ]
    }
   ],
   "source": [
    "students = pd.DataFrame({\n",
    "    'student_id': [1, 2, 3, 4],\n",
    "    'name': ['Alice', 'Bob', 'Charlie', 'David'],\n",
    "    'class': ['Math', 'History', 'Math', 'Science']})\n",
    "grades = pd.DataFrame({\n",
    "    'student_id': [1, 2, 3],\n",
    "    'class': ['Math', 'History', 'Science'],\n",
    "    'grade': ['A', 'B', 'A']})\n",
    "print(students)\n",
    "print(grades)"
   ]
  },
  {
   "cell_type": "code",
   "execution_count": 13,
   "id": "f0804672",
   "metadata": {},
   "outputs": [
    {
     "name": "stdout",
     "output_type": "stream",
     "text": [
      "   student_id     name    class grade\n",
      "0           1    Alice     Math     A\n",
      "1           2      Bob  History     B\n",
      "2           3  Charlie     Math   NaN\n",
      "3           4    David  Science   NaN\n"
     ]
    }
   ],
   "source": [
    "df_join_mult = pd.merge(students, grades,\n",
    "                        on = ['student_id', 'class'],\n",
    "                        how = 'left')\n",
    "print(df_join_mult)"
   ]
  },
  {
   "cell_type": "code",
   "execution_count": 17,
   "id": "ff5ae468",
   "metadata": {},
   "outputs": [
    {
     "name": "stdout",
     "output_type": "stream",
     "text": [
      "   respondent_id   opinion\n",
      "0              1     agree\n",
      "1              2  disagree\n",
      "2              3   neutral\n",
      "   respondent_id   opinion\n",
      "0              4   neutral\n",
      "1              5     agree\n",
      "2              6  disagree\n"
     ]
    }
   ],
   "source": [
    "survey_2022 = pd.DataFrame({\n",
    "    'respondent_id': [1, 2, 3],\n",
    "    'opinion': ['agree', 'disagree', 'neutral']})\n",
    "print(survey_2022)\n",
    "survey_2023 = pd.DataFrame({\n",
    "    'respondent_id': [4, 5, 6],\n",
    "    'opinion': ['neutral', 'agree', 'disagree']})\n",
    "print(survey_2023)"
   ]
  },
  {
   "cell_type": "code",
   "execution_count": 18,
   "id": "16239b41",
   "metadata": {},
   "outputs": [
    {
     "name": "stdout",
     "output_type": "stream",
     "text": [
      "   respondent_id   opinion\n",
      "0              1     agree\n",
      "1              2  disagree\n",
      "2              3   neutral\n",
      "3              4   neutral\n",
      "4              5     agree\n",
      "5              6  disagree\n"
     ]
    }
   ],
   "source": [
    "survey_concate_row = pd.concat(\n",
    "  [survey_2022, survey_2023],\n",
    "  axis = 0,\n",
    "  ignore_index = True) # new index가 생깁니다\n",
    "print(survey_concate_row)"
   ]
  },
  {
   "cell_type": "code",
   "execution_count": 19,
   "id": "c97c8dcb",
   "metadata": {},
   "outputs": [
    {
     "name": "stdout",
     "output_type": "stream",
     "text": [
      "   age gender\n",
      "1   25      M\n",
      "2   30      F\n",
      "3   35      F\n",
      "4   40      M\n",
      "    opinion\n",
      "1     agree\n",
      "2  disagree\n",
      "3   neutral\n",
      "4     agree\n"
     ]
    }
   ],
   "source": [
    "demographics = pd.DataFrame({\n",
    "    'age': [25, 30, 35, 40],\n",
    "    'gender': ['M', 'F', 'F', 'M']},\n",
    "    index=[1, 2, 3, 4])  # index is respondent_id\n",
    "print(demographics)\n",
    "responses = pd.DataFrame({\n",
    "    'opinion': ['agree', 'disagree', 'neutral', 'agree']},\n",
    "    index=[1, 2, 3, 4])  # index is respondent_id\n",
    "print(responses)"
   ]
  },
  {
   "cell_type": "code",
   "execution_count": 20,
   "id": "9a9e2905",
   "metadata": {},
   "outputs": [
    {
     "name": "stdout",
     "output_type": "stream",
     "text": [
      "   age gender   opinion\n",
      "1   25      M     agree\n",
      "2   30      F  disagree\n",
      "3   35      F   neutral\n",
      "4   40      M     agree\n"
     ]
    }
   ],
   "source": [
    "survey_concat_column = pd.concat(\n",
    "  [demographics, responses],\n",
    "  axis = 1)\n",
    "print(survey_concat_column)"
   ]
  },
  {
   "cell_type": "code",
   "execution_count": 21,
   "id": "35cc7b97",
   "metadata": {},
   "outputs": [
    {
     "name": "stdout",
     "output_type": "stream",
     "text": [
      "   age gender\n",
      "1   25      M\n",
      "2   30      F\n",
      "6   35      F\n",
      "8   40      M\n",
      "    opinion\n",
      "0     agree\n",
      "1  disagree\n",
      "2   neutral\n",
      "3     agree\n"
     ]
    }
   ],
   "source": [
    "demographics = pd.DataFrame({\n",
    "    'age': [25, 30, 35, 40],\n",
    "    'gender': ['M', 'F', 'F', 'M']},\n",
    "     index=[1, 2, 6, 8])  # index is respondent_id\n",
    "print(demographics)\n",
    "responses = pd.DataFrame({\n",
    "    'opinion': ['agree', 'disagree', 'neutral', 'agree']},\n",
    "     index=[0, 1, 2, 3])  # index is respondent_id\n",
    "print(responses)"
   ]
  },
  {
   "cell_type": "code",
   "execution_count": 22,
   "id": "e3b2df88",
   "metadata": {},
   "outputs": [
    {
     "name": "stdout",
     "output_type": "stream",
     "text": [
      "    age gender   opinion\n",
      "1  25.0      M  disagree\n",
      "2  30.0      F   neutral\n",
      "6  35.0      F       NaN\n",
      "8  40.0      M       NaN\n",
      "0   NaN    NaN     agree\n",
      "3   NaN    NaN     agree\n"
     ]
    }
   ],
   "source": [
    "survey_concat_column = pd.concat(\n",
    "  [demographics, responses],\n",
    "  axis = 1)\n",
    "print(survey_concat_column)\n",
    "# 인덱스 기준으로 concat이 진행된다 "
   ]
  },
  {
   "cell_type": "code",
   "execution_count": 23,
   "id": "b0ebad02",
   "metadata": {},
   "outputs": [
    {
     "name": "stdout",
     "output_type": "stream",
     "text": [
      "    age gender   opinion\n",
      "0  25.0      M  disagree\n",
      "1  30.0      F   neutral\n",
      "2  35.0      F       NaN\n",
      "3  40.0      M       NaN\n",
      "4   NaN    NaN     agree\n",
      "5   NaN    NaN     agree\n"
     ]
    }
   ],
   "source": [
    "survey_concat_column = pd.concat(\n",
    "  [demographics, responses], axis = 1).reset_index(drop = True)\n",
    "print(survey_concat_column)"
   ]
  },
  {
   "cell_type": "code",
   "execution_count": 24,
   "id": "69c01cbe",
   "metadata": {},
   "outputs": [
    {
     "name": "stdout",
     "output_type": "stream",
     "text": [
      "   age gender   opinion\n",
      "0   25      M     agree\n",
      "1   30      F  disagree\n",
      "2   35      F   neutral\n",
      "3   40      M     agree\n"
     ]
    }
   ],
   "source": [
    "survey_concat_column = pd.concat([\n",
    "  demographics.reset_index(drop = True),\n",
    "  responses.reset_index(drop = True)],\n",
    "  axis = 1)\n",
    "print(survey_concat_column)"
   ]
  },
  {
   "cell_type": "code",
   "execution_count": 25,
   "id": "815d8ef3",
   "metadata": {},
   "outputs": [
    {
     "name": "stdout",
     "output_type": "stream",
     "text": [
      "   age gender   opinion\n",
      "1   25      M  disagree\n",
      "2   30      F   neutral\n"
     ]
    }
   ],
   "source": [
    "survey_concat_column_inner = pd.concat(\n",
    "  [demographics, responses],\n",
    "  axis = 1,\n",
    "  join = 'inner')\n",
    "print(survey_concat_column_inner)\n",
    "#  NaN 삭제 "
   ]
  },
  {
   "cell_type": "code",
   "execution_count": 27,
   "id": "2357680c",
   "metadata": {},
   "outputs": [
    {
     "name": "stdout",
     "output_type": "stream",
     "text": [
      "    age gender   opinion\n",
      "1  25.0      M  disagree\n",
      "2  30.0      F   neutral\n",
      "6  35.0      F       NaN\n",
      "8  40.0      M       NaN\n",
      "0   NaN    NaN     agree\n",
      "3   NaN    NaN     agree\n"
     ]
    }
   ],
   "source": [
    "survey_concat_column_inner = pd.concat(\n",
    "  [demographics, responses],\n",
    "  axis = 1,\n",
    "  join = 'outer')\n",
    "print(survey_concat_column_inner)"
   ]
  },
  {
   "cell_type": "code",
   "execution_count": 28,
   "id": "9e1be225",
   "metadata": {},
   "outputs": [
    {
     "name": "stdout",
     "output_type": "stream",
     "text": [
      "    age gender   opinion\n",
      "1  25.0      M  disagree\n",
      "2  30.0      F   neutral\n",
      "6  35.0      F       NaN\n",
      "8  40.0      M       NaN\n",
      "0   NaN    NaN     agree\n",
      "3   NaN    NaN     agree\n"
     ]
    }
   ],
   "source": [
    "survey_concat_column_inner = pd.concat(\n",
    "  [demographics, responses],\n",
    "  axis = 1)\n",
    "print(survey_concat_column_inner)"
   ]
  },
  {
   "cell_type": "code",
   "execution_count": 29,
   "id": "79a85859",
   "metadata": {},
   "outputs": [
    {
     "name": "stdout",
     "output_type": "stream",
     "text": [
      "     text\n",
      "0  text1a\n",
      "1  text1b\n",
      "     text\n",
      "0  text2a\n",
      "1  text2b\n"
     ]
    }
   ],
   "source": [
    "manuscript_1 = pd.DataFrame(\n",
    "  {'text': ['text1a', 'text1b']}\n",
    "  )\n",
    "manuscript_2 = pd.DataFrame(\n",
    "  {'text': ['text2a', 'text2b']}\n",
    "  )\n",
    "print(manuscript_1)\n",
    "print(manuscript_2)"
   ]
  },
  {
   "cell_type": "code",
   "execution_count": 30,
   "id": "d2be9d00",
   "metadata": {},
   "outputs": [
    {
     "name": "stdout",
     "output_type": "stream",
     "text": [
      "        text\n",
      "m1 0  text1a\n",
      "   1  text1b\n",
      "m2 0  text2a\n",
      "   1  text2b\n"
     ]
    }
   ],
   "source": [
    "combined_texts = pd.concat([manuscript_1, manuscript_2],\n",
    "                           keys = ['m1', 'm2'])\n",
    "print(combined_texts)"
   ]
  },
  {
   "cell_type": "code",
   "execution_count": 31,
   "id": "38cc8e57",
   "metadata": {},
   "outputs": [
    {
     "data": {
      "text/plain": [
       "MultiIndex([('m1', 0),\n",
       "            ('m1', 1),\n",
       "            ('m2', 0),\n",
       "            ('m2', 1)],\n",
       "           )"
      ]
     },
     "execution_count": 31,
     "metadata": {},
     "output_type": "execute_result"
    }
   ],
   "source": [
    "combined_texts.index"
   ]
  },
  {
   "cell_type": "code",
   "execution_count": 34,
   "id": "27f18d5a",
   "metadata": {},
   "outputs": [
    {
     "data": {
      "text/html": [
       "<div>\n",
       "<style scoped>\n",
       "    .dataframe tbody tr th:only-of-type {\n",
       "        vertical-align: middle;\n",
       "    }\n",
       "\n",
       "    .dataframe tbody tr th {\n",
       "        vertical-align: top;\n",
       "    }\n",
       "\n",
       "    .dataframe thead th {\n",
       "        text-align: right;\n",
       "    }\n",
       "</style>\n",
       "<table border=\"1\" class=\"dataframe\">\n",
       "  <thead>\n",
       "    <tr style=\"text-align: right;\">\n",
       "      <th></th>\n",
       "      <th>text</th>\n",
       "    </tr>\n",
       "  </thead>\n",
       "  <tbody>\n",
       "    <tr>\n",
       "      <th>0</th>\n",
       "      <td>text1a</td>\n",
       "    </tr>\n",
       "    <tr>\n",
       "      <th>1</th>\n",
       "      <td>text1b</td>\n",
       "    </tr>\n",
       "  </tbody>\n",
       "</table>\n",
       "</div>"
      ],
      "text/plain": [
       "     text\n",
       "0  text1a\n",
       "1  text1b"
      ]
     },
     "execution_count": 34,
     "metadata": {},
     "output_type": "execute_result"
    }
   ],
   "source": [
    "combined_texts.loc['m1']"
   ]
  },
  {
   "cell_type": "code",
   "execution_count": 35,
   "id": "c71b1fc3",
   "metadata": {},
   "outputs": [
    {
     "name": "stdout",
     "output_type": "stream",
     "text": [
      "       2019  2020  2021\n",
      "USA     100   105   110\n",
      "UK       80    78    82\n",
      "China   120   130   135\n"
     ]
    }
   ],
   "source": [
    "trade_data = pd.DataFrame({\n",
    "    '2019': [100, 80, 120],\n",
    "    '2020': [105, 78, 130],\n",
    "    '2021': [110, 82, 135]},\n",
    "     index = ['USA', 'UK', 'China']\n",
    "    )\n",
    "print(trade_data)"
   ]
  },
  {
   "cell_type": "code",
   "execution_count": 36,
   "id": "b3900cb0",
   "metadata": {},
   "outputs": [
    {
     "name": "stdout",
     "output_type": "stream",
     "text": [
      "month  Jan  Feb  Mar\n",
      "state               \n",
      "CA      30   31   29\n",
      "NY      25   24   26\n"
     ]
    }
   ],
   "source": [
    "data_wide = {'Jan': [30, 25],\n",
    "             'Feb': [31, 24],\n",
    "             'Mar': [29, 26]}\n",
    "df_wide = pd.DataFrame(data_wide,\n",
    "                       pd.Index(['CA', 'NY'],\n",
    "                       name = 'state'))\n",
    "df_wide.columns.name = 'month'\n",
    "print(df_wide)\n",
    "# 열 : state 행 : month 내용 : usage "
   ]
  },
  {
   "cell_type": "code",
   "execution_count": 37,
   "id": "39fa10e6",
   "metadata": {},
   "outputs": [
    {
     "name": "stdout",
     "output_type": "stream",
     "text": [
      "  state month  usage\n",
      "0    CA   Jan     30\n",
      "1    CA   Feb     31\n",
      "2    CA   Mar     29\n",
      "3    NY   Jan     25\n",
      "4    NY   Feb     24\n",
      "5    NY   Mar     26\n"
     ]
    }
   ],
   "source": [
    "data_long = {\n",
    "  'state': ['CA', 'CA', 'CA', 'NY', 'NY', 'NY'],\n",
    "  'month': ['Jan', 'Feb', 'Mar', 'Jan', 'Feb', 'Mar'],\n",
    "  'usage': [30, 31, 29, 25, 24, 26]\n",
    "}\n",
    "df_long = pd.DataFrame(data_long)\n",
    "print(df_long)\n",
    "# 열 : state, month usage \n",
    "# nested data "
   ]
  },
  {
   "cell_type": "code",
   "execution_count": 38,
   "id": "723e103f",
   "metadata": {},
   "outputs": [
    {
     "name": "stdout",
     "output_type": "stream",
     "text": [
      "       2019  2020  2021\n",
      "USA     100   105   110\n",
      "UK       80    78    82\n",
      "China   120   130   135\n"
     ]
    }
   ],
   "source": [
    "trade_data = pd.DataFrame({\n",
    "    '2019': [100, 80, 120],\n",
    "    '2020': [105, 78, 130],\n",
    "    '2021': [110, 82, 135]},\n",
    "     index = ['USA', 'UK', 'China']\n",
    "    )\n",
    "print(trade_data)"
   ]
  },
  {
   "cell_type": "code",
   "execution_count": 39,
   "id": "04f4bb7c",
   "metadata": {},
   "outputs": [
    {
     "name": "stdout",
     "output_type": "stream",
     "text": [
      "USA    2019    100\n",
      "       2020    105\n",
      "       2021    110\n",
      "UK     2019     80\n",
      "       2020     78\n",
      "       2021     82\n",
      "China  2019    120\n",
      "       2020    130\n",
      "       2021    135\n",
      "dtype: int64\n",
      "<class 'pandas.core.series.Series'>\n"
     ]
    }
   ],
   "source": [
    "trade_data_s = trade_data.stack()\n",
    "print(trade_data_s)\n",
    "print(type(trade_data_s))"
   ]
  },
  {
   "cell_type": "code",
   "execution_count": 41,
   "id": "0541117a",
   "metadata": {},
   "outputs": [
    {
     "data": {
      "text/plain": [
       "pandas.core.series.Series"
      ]
     },
     "execution_count": 41,
     "metadata": {},
     "output_type": "execute_result"
    }
   ],
   "source": [
    "type(trade_data_s)"
   ]
  },
  {
   "cell_type": "code",
   "execution_count": 43,
   "id": "68d0ce86",
   "metadata": {},
   "outputs": [
    {
     "data": {
      "text/plain": [
       "MultiIndex([(  'USA', '2019'),\n",
       "            (  'USA', '2020'),\n",
       "            (  'USA', '2021'),\n",
       "            (   'UK', '2019'),\n",
       "            (   'UK', '2020'),\n",
       "            (   'UK', '2021'),\n",
       "            ('China', '2019'),\n",
       "            ('China', '2020'),\n",
       "            ('China', '2021')],\n",
       "           )"
      ]
     },
     "execution_count": 43,
     "metadata": {},
     "output_type": "execute_result"
    }
   ],
   "source": [
    "trade_data_s.index\n",
    "#  행과 열이 모두 인덱스화됨 "
   ]
  },
  {
   "cell_type": "code",
   "execution_count": 46,
   "id": "217cf738",
   "metadata": {},
   "outputs": [
    {
     "data": {
      "text/plain": [
       "2019    80\n",
       "2020    78\n",
       "2021    82\n",
       "dtype: int64"
      ]
     },
     "execution_count": 46,
     "metadata": {},
     "output_type": "execute_result"
    }
   ],
   "source": [
    "trade_data_s.loc['UK']"
   ]
  },
  {
   "cell_type": "code",
   "execution_count": 48,
   "id": "6e6ea976",
   "metadata": {},
   "outputs": [],
   "source": [
    "df = pd.DataFrame(trade_data_s)"
   ]
  },
  {
   "cell_type": "code",
   "execution_count": 49,
   "id": "881b6ef4",
   "metadata": {},
   "outputs": [
    {
     "data": {
      "text/plain": [
       "MultiIndex([(  'USA', '2019'),\n",
       "            (  'USA', '2020'),\n",
       "            (  'USA', '2021'),\n",
       "            (   'UK', '2019'),\n",
       "            (   'UK', '2020'),\n",
       "            (   'UK', '2021'),\n",
       "            ('China', '2019'),\n",
       "            ('China', '2020'),\n",
       "            ('China', '2021')],\n",
       "           )"
      ]
     },
     "execution_count": 49,
     "metadata": {},
     "output_type": "execute_result"
    }
   ],
   "source": [
    "df.index"
   ]
  },
  {
   "cell_type": "code",
   "execution_count": 50,
   "id": "6b93f6a4",
   "metadata": {},
   "outputs": [
    {
     "data": {
      "text/plain": [
       "pandas.core.frame.DataFrame"
      ]
     },
     "execution_count": 50,
     "metadata": {},
     "output_type": "execute_result"
    }
   ],
   "source": [
    "type(df)"
   ]
  },
  {
   "cell_type": "code",
   "execution_count": 51,
   "id": "99f7e43b",
   "metadata": {},
   "outputs": [
    {
     "name": "stdout",
     "output_type": "stream",
     "text": [
      "       2019  2020  2021\n",
      "USA     100   105   110\n",
      "UK       80    78    82\n",
      "China   120   130   135\n"
     ]
    }
   ],
   "source": [
    "# 기본이 -1임 그래서 마지막 인덱스를 가지고 unstack진행\n",
    "trade_data = trade_data_s.unstack()\n",
    "print(trade_data)"
   ]
  },
  {
   "cell_type": "code",
   "execution_count": 52,
   "id": "209f4cc8",
   "metadata": {},
   "outputs": [
    {
     "name": "stdout",
     "output_type": "stream",
     "text": [
      "      USA  UK  China\n",
      "2019  100  80    120\n",
      "2020  105  78    130\n",
      "2021  110  82    135\n"
     ]
    }
   ],
   "source": [
    "print(trade_data_s.unstack(level = 0))"
   ]
  },
  {
   "cell_type": "code",
   "execution_count": 53,
   "id": "9f71b3e2",
   "metadata": {},
   "outputs": [
    {
     "name": "stdout",
     "output_type": "stream",
     "text": [
      "  partner  year  volume\n",
      "0     USA  2019     100\n",
      "1     USA  2020     105\n",
      "2     USA  2021     110\n",
      "3      UK  2019      80\n",
      "4      UK  2020      78\n",
      "5      UK  2021      82\n",
      "6   China  2019     120\n",
      "7   China  2020     130\n",
      "8   China  2021     135\n"
     ]
    }
   ],
   "source": [
    "df_trade_data_s = trade_data_s.reset_index()\n",
    "df_trade_data_s.columns = ['partner', 'year', 'volume']\n",
    "print(df_trade_data_s)"
   ]
  },
  {
   "cell_type": "code",
   "execution_count": 54,
   "id": "d987179a",
   "metadata": {},
   "outputs": [
    {
     "name": "stdout",
     "output_type": "stream",
     "text": [
      "month  Jan  Feb  Mar\n",
      "state               \n",
      "CA      30   31   29\n",
      "NY      25   24   26\n"
     ]
    }
   ],
   "source": [
    "data_wide = {'Jan': [30, 25],\n",
    "             'Feb': [31, 24],\n",
    "             'Mar': [29, 26]}\n",
    "df_wide = pd.DataFrame(data_wide,\n",
    "                       pd.Index(['CA', 'NY'],\n",
    "                       name = 'state'))\n",
    "df_wide.columns.name = 'month'\n",
    "print(df_wide)"
   ]
  },
  {
   "cell_type": "code",
   "execution_count": 55,
   "id": "ee4e68af",
   "metadata": {},
   "outputs": [
    {
     "name": "stdout",
     "output_type": "stream",
     "text": [
      "  department   0   1   2\n",
      "0    biology   5   7  15\n",
      "1    history   2   3   9\n",
      "2    physics  10  16  20\n"
     ]
    }
   ],
   "source": [
    "coffee_data = pd.DataFrame({\n",
    "    'department': ['biology', 'history', 'physics'],\n",
    "    '0': [5, 2, 10], # not at all\n",
    "    '1': [7, 3, 16], # sometimes\n",
    "    '2': [15, 9, 20], # always\n",
    "    })\n",
    "print(coffee_data)"
   ]
  },
  {
   "cell_type": "code",
   "execution_count": 56,
   "id": "4229d62a",
   "metadata": {},
   "outputs": [],
   "source": [
    "long_format_coffee_data = coffee_data.melt(\n",
    "  id_vars = ['department'],\n",
    "  var_name = 'consumption',\n",
    "  value_name = 'num_students'\n",
    ")"
   ]
  },
  {
   "cell_type": "code",
   "execution_count": 57,
   "id": "7495790c",
   "metadata": {},
   "outputs": [
    {
     "name": "stdout",
     "output_type": "stream",
     "text": [
      "  department consumption  num_students\n",
      "0    biology           0             5\n",
      "1    history           0             2\n",
      "2    physics           0            10\n",
      "3    biology           1             7\n",
      "4    history           1             3\n",
      "5    physics           1            16\n",
      "6    biology           2            15\n",
      "7    history           2             9\n",
      "8    physics           2            20\n"
     ]
    }
   ],
   "source": [
    "print(long_format_coffee_data)"
   ]
  },
  {
   "cell_type": "code",
   "execution_count": 58,
   "id": "6e48491e",
   "metadata": {},
   "outputs": [
    {
     "name": "stdout",
     "output_type": "stream",
     "text": [
      "department   \n",
      "biology     0     5\n",
      "            1     7\n",
      "            2    15\n",
      "history     0     2\n",
      "            1     3\n",
      "            2     9\n",
      "physics     0    10\n",
      "            1    16\n",
      "            2    20\n",
      "dtype: int64\n"
     ]
    }
   ],
   "source": [
    "long_format = coffee_data.set_index('department').stack()\n",
    "print(long_format)"
   ]
  },
  {
   "cell_type": "code",
   "execution_count": 59,
   "id": "aa1f93ac",
   "metadata": {},
   "outputs": [
    {
     "name": "stdout",
     "output_type": "stream",
     "text": [
      "  product month  sales  stock\n",
      "0       A   Jan    100     32\n",
      "1       A   Feb    110     53\n",
      "2       B   Jan     90     23\n",
      "3       B   Feb     95     44\n"
     ]
    }
   ],
   "source": [
    "sales_dict = {'product': ['A', 'A', 'B', 'B'],\n",
    "              'month': ['Jan', 'Feb', 'Jan', 'Feb'],\n",
    "              'sales': [100, 110, 90, 95],\n",
    "              'stock': [32, 53, 23, 44]}\n",
    "sales_df = pd.DataFrame(sales_dict)\n",
    "print(sales_df)"
   ]
  },
  {
   "cell_type": "code",
   "execution_count": 61,
   "id": "a466da6a",
   "metadata": {},
   "outputs": [
    {
     "name": "stdout",
     "output_type": "stream",
     "text": [
      "product    A   B\n",
      "month           \n",
      "Feb      110  95\n",
      "Jan      100  90\n"
     ]
    }
   ],
   "source": [
    "p_sales1 = sales_df.pivot(index = 'month',\n",
    "                          columns = 'product',\n",
    "                          values = 'sales')\n",
    "print(p_sales1)\n"
   ]
  },
  {
   "cell_type": "code",
   "execution_count": 62,
   "id": "f568a0d6",
   "metadata": {},
   "outputs": [
    {
     "name": "stdout",
     "output_type": "stream",
     "text": [
      "  key1  key2     data1     data2\n",
      "0    a   2.0 -0.770288 -2.003775\n",
      "1    a   2.0 -1.608891  0.518658\n",
      "2    c   1.0 -1.291943 -1.077079\n",
      "3    b   2.0 -0.301811  0.030912\n",
      "4    b   1.0  0.875180  1.035928\n",
      "5    a   NaN  0.563141  0.148600\n",
      "6    a   1.0  1.495851 -1.938510\n"
     ]
    }
   ],
   "source": [
    "import numpy as np\n",
    "df = pd.DataFrame({\n",
    "  'key1' : ['a', 'a', 'c', 'b', 'b', 'a', 'a'],\n",
    "  'key2' : pd.Series([2, 2, 1, 2, 1, None, 1]),\n",
    "  'data1' : np.random.standard_normal(7),\n",
    "  'data2' : np.random.standard_normal(7)})\n",
    "print(df)"
   ]
  },
  {
   "cell_type": "code",
   "execution_count": 63,
   "id": "79c75a39",
   "metadata": {},
   "outputs": [
    {
     "name": "stdout",
     "output_type": "stream",
     "text": [
      "<class 'pandas.core.groupby.generic.DataFrameGroupBy'>\n"
     ]
    }
   ],
   "source": [
    "grouped = df.groupby(df['key1'])\n",
    "print(type(grouped))"
   ]
  },
  {
   "cell_type": "code",
   "execution_count": 66,
   "id": "5756c792",
   "metadata": {},
   "outputs": [
    {
     "name": "stdout",
     "output_type": "stream",
     "text": [
      "a\n",
      "  key1  key2     data1     data2\n",
      "0    a   2.0 -0.770288 -2.003775\n",
      "1    a   2.0 -1.608891  0.518658\n",
      "5    a   NaN  0.563141  0.148600\n",
      "6    a   1.0  1.495851 -1.938510\n",
      "b\n",
      "  key1  key2     data1     data2\n",
      "3    b   2.0 -0.301811  0.030912\n",
      "4    b   1.0  0.875180  1.035928\n",
      "c\n",
      "  key1  key2     data1     data2\n",
      "2    c   1.0 -1.291943 -1.077079\n"
     ]
    },
    {
     "name": "stderr",
     "output_type": "stream",
     "text": [
      "/var/folders/ps/mmfjqxl52pb1b3b_0bbt37gr0000gn/T/ipykernel_34798/4291522195.py:1: FutureWarning: In a future version of pandas, a length 1 tuple will be returned when iterating over a groupby with a grouper equal to a list of length 1. Don't supply a list with a single grouper to avoid this warning.\n",
      "  for x, y in df.groupby(['key1']):\n"
     ]
    }
   ],
   "source": [
    "for x, y in df.groupby(['key1']):\n",
    "    print(x)\n",
    "    print(y)"
   ]
  },
  {
   "cell_type": "code",
   "execution_count": 67,
   "id": "b3112684",
   "metadata": {},
   "outputs": [
    {
     "name": "stdout",
     "output_type": "stream",
     "text": [
      "key1\n",
      "a   -0.080047\n",
      "b    0.286684\n",
      "c   -1.291943\n",
      "Name: data1, dtype: float64\n",
      "         data1     data2\n",
      "key1                    \n",
      "a    -0.080047 -0.818757\n",
      "b     0.286684  0.533420\n",
      "c    -1.291943 -1.077079\n"
     ]
    }
   ],
   "source": [
    "print(grouped['data1'].mean())\n",
    "print(grouped[['data1','data2']].mean())"
   ]
  },
  {
   "cell_type": "code",
   "execution_count": 68,
   "id": "4a110c29",
   "metadata": {},
   "outputs": [
    {
     "data": {
      "text/html": [
       "<div>\n",
       "<style scoped>\n",
       "    .dataframe tbody tr th:only-of-type {\n",
       "        vertical-align: middle;\n",
       "    }\n",
       "\n",
       "    .dataframe tbody tr th {\n",
       "        vertical-align: top;\n",
       "    }\n",
       "\n",
       "    .dataframe thead th {\n",
       "        text-align: right;\n",
       "    }\n",
       "</style>\n",
       "<table border=\"1\" class=\"dataframe\">\n",
       "  <thead>\n",
       "    <tr style=\"text-align: right;\">\n",
       "      <th></th>\n",
       "      <th>key1</th>\n",
       "      <th>key2</th>\n",
       "      <th>data1</th>\n",
       "      <th>data2</th>\n",
       "    </tr>\n",
       "  </thead>\n",
       "  <tbody>\n",
       "    <tr>\n",
       "      <th>0</th>\n",
       "      <td>a</td>\n",
       "      <td>2.0</td>\n",
       "      <td>-0.770288</td>\n",
       "      <td>-2.003775</td>\n",
       "    </tr>\n",
       "    <tr>\n",
       "      <th>1</th>\n",
       "      <td>a</td>\n",
       "      <td>2.0</td>\n",
       "      <td>-1.608891</td>\n",
       "      <td>0.518658</td>\n",
       "    </tr>\n",
       "    <tr>\n",
       "      <th>2</th>\n",
       "      <td>c</td>\n",
       "      <td>1.0</td>\n",
       "      <td>-1.291943</td>\n",
       "      <td>-1.077079</td>\n",
       "    </tr>\n",
       "    <tr>\n",
       "      <th>3</th>\n",
       "      <td>b</td>\n",
       "      <td>2.0</td>\n",
       "      <td>-0.301811</td>\n",
       "      <td>0.030912</td>\n",
       "    </tr>\n",
       "    <tr>\n",
       "      <th>4</th>\n",
       "      <td>b</td>\n",
       "      <td>1.0</td>\n",
       "      <td>0.875180</td>\n",
       "      <td>1.035928</td>\n",
       "    </tr>\n",
       "    <tr>\n",
       "      <th>5</th>\n",
       "      <td>a</td>\n",
       "      <td>NaN</td>\n",
       "      <td>0.563141</td>\n",
       "      <td>0.148600</td>\n",
       "    </tr>\n",
       "    <tr>\n",
       "      <th>6</th>\n",
       "      <td>a</td>\n",
       "      <td>1.0</td>\n",
       "      <td>1.495851</td>\n",
       "      <td>-1.938510</td>\n",
       "    </tr>\n",
       "  </tbody>\n",
       "</table>\n",
       "</div>"
      ],
      "text/plain": [
       "  key1  key2     data1     data2\n",
       "0    a   2.0 -0.770288 -2.003775\n",
       "1    a   2.0 -1.608891  0.518658\n",
       "2    c   1.0 -1.291943 -1.077079\n",
       "3    b   2.0 -0.301811  0.030912\n",
       "4    b   1.0  0.875180  1.035928\n",
       "5    a   NaN  0.563141  0.148600\n",
       "6    a   1.0  1.495851 -1.938510"
      ]
     },
     "execution_count": 68,
     "metadata": {},
     "output_type": "execute_result"
    }
   ],
   "source": [
    "df"
   ]
  },
  {
   "cell_type": "code",
   "execution_count": 72,
   "id": "61d0af43",
   "metadata": {},
   "outputs": [],
   "source": [
    "grouped2 = df.groupby(\n",
    "  [df['key1'], df['key2']],\n",
    "  dropna = False)"
   ]
  },
  {
   "cell_type": "code",
   "execution_count": 73,
   "id": "51f7126d",
   "metadata": {},
   "outputs": [
    {
     "name": "stdout",
     "output_type": "stream",
     "text": [
      "('a', 1.0)\n",
      "1.0\n",
      "('a', 2.0)\n",
      "2.0\n",
      "('a', nan)\n",
      "nan\n",
      "('b', 1.0)\n",
      "1.0\n",
      "('b', 2.0)\n",
      "2.0\n",
      "('c', 1.0)\n",
      "1.0\n"
     ]
    }
   ],
   "source": [
    "for (x, y), z in grouped2:\n",
    "    print((x, y))\n",
    "    print(y)"
   ]
  },
  {
   "cell_type": "code",
   "execution_count": 74,
   "id": "0a05831f",
   "metadata": {},
   "outputs": [],
   "source": [
    "grouped2 = df.groupby(\n",
    "  [df['key1'], df['key2']])"
   ]
  },
  {
   "cell_type": "code",
   "execution_count": 75,
   "id": "65d14e0f",
   "metadata": {},
   "outputs": [
    {
     "name": "stdout",
     "output_type": "stream",
     "text": [
      "('a', 1.0)\n",
      "1.0\n",
      "('a', 2.0)\n",
      "2.0\n",
      "('b', 1.0)\n",
      "1.0\n",
      "('b', 2.0)\n",
      "2.0\n",
      "('c', 1.0)\n",
      "1.0\n"
     ]
    }
   ],
   "source": [
    "for (x, y), z in grouped2:\n",
    "    print((x, y))\n",
    "    print(y)"
   ]
  },
  {
   "cell_type": "code",
   "execution_count": 76,
   "id": "0788775e",
   "metadata": {},
   "outputs": [
    {
     "name": "stdout",
     "output_type": "stream",
     "text": [
      "  region district  turnout\n",
      "0     R1        A     0.61\n",
      "1     R1        B     0.46\n",
      "2     R2        C     0.64\n",
      "3     R2        D     0.75\n",
      "4     R3        E     0.63\n",
      "5     R3        F     0.55\n"
     ]
    }
   ],
   "source": [
    "dict_to = {\n",
    "  'region': ['R1', 'R1', 'R2', 'R2', 'R3', 'R3'],\n",
    "  'district': ['A', 'B', 'C', 'D', 'E', 'F'],\n",
    "  'turnout': [0.61, 0.46, 0.64, 0.75, 0.63, 0.55]\n",
    "  }\n",
    "df_to = pd.DataFrame(dict_to)\n",
    "print(df_to)"
   ]
  },
  {
   "cell_type": "code",
   "execution_count": 77,
   "id": "9e60b6aa",
   "metadata": {},
   "outputs": [
    {
     "name": "stdout",
     "output_type": "stream",
     "text": [
      "         min   max\n",
      "region            \n",
      "R1      0.46  0.61\n",
      "R2      0.64  0.75\n",
      "R3      0.55  0.63\n"
     ]
    }
   ],
   "source": [
    "print(\n",
    "  df_to.groupby('region')['turnout'].agg(\n",
    "  ['min', 'max'])\n",
    "  )"
   ]
  },
  {
   "cell_type": "code",
   "execution_count": 79,
   "id": "7ba21996",
   "metadata": {},
   "outputs": [
    {
     "name": "stdout",
     "output_type": "stream",
     "text": [
      "<class 'pandas.core.series.Series'>\n",
      "<class 'pandas.core.series.Series'>\n",
      "<class 'pandas.core.series.Series'>\n",
      "        min_max_diff   min   max\n",
      "region                          \n",
      "R1              0.15  0.46  0.61\n",
      "R2              0.11  0.64  0.75\n",
      "R3              0.08  0.55  0.63\n"
     ]
    }
   ],
   "source": [
    "def min_max_diff(arr):\n",
    "    print(type(arr))\n",
    "    return arr.max() - arr.min()\n",
    "\n",
    "df_to_agg = df_to.groupby('region')['turnout'].agg(\n",
    "    [min_max_diff, 'min', 'max']\n",
    "    )\n",
    "print(df_to_agg)"
   ]
  },
  {
   "cell_type": "code",
   "execution_count": 80,
   "id": "afa35bd0",
   "metadata": {},
   "outputs": [
    {
     "name": "stdout",
     "output_type": "stream",
     "text": [
      "<class 'pandas.core.series.Series'>\n",
      "<class 'pandas.core.series.Series'>\n",
      "<class 'pandas.core.series.Series'>\n",
      "        min_max_diff   min   max\n",
      "region                          \n",
      "R1              0.15  0.46  0.61\n",
      "R2              0.11  0.64  0.75\n",
      "R3              0.08  0.55  0.63\n"
     ]
    }
   ],
   "source": [
    "df_to_agg_index_col = df_to.groupby(\n",
    "  'region', as_index = False)['turnout'].agg(\n",
    "    [min_max_diff, 'min', 'max']\n",
    "    )\n",
    "\n",
    "print(df_to_agg_index_col)"
   ]
  },
  {
   "cell_type": "code",
   "execution_count": 81,
   "id": "98e5dd1b",
   "metadata": {},
   "outputs": [
    {
     "data": {
      "text/plain": [
       "Index(['R1', 'R2', 'R3'], dtype='object', name='region')"
      ]
     },
     "execution_count": 81,
     "metadata": {},
     "output_type": "execute_result"
    }
   ],
   "source": [
    "df_to_agg_index_col.index"
   ]
  },
  {
   "cell_type": "code",
   "execution_count": 82,
   "id": "fb85680b",
   "metadata": {},
   "outputs": [
    {
     "data": {
      "text/plain": [
       "Index(['R1', 'R2', 'R3'], dtype='object', name='region')"
      ]
     },
     "execution_count": 82,
     "metadata": {},
     "output_type": "execute_result"
    }
   ],
   "source": [
    "df_to_agg.index"
   ]
  },
  {
   "cell_type": "code",
   "execution_count": null,
   "id": "afad2592",
   "metadata": {},
   "outputs": [],
   "source": [
    "# strim line chat gpt에 옵션으로 넣어주면 좋다."
   ]
  }
 ],
 "metadata": {
  "kernelspec": {
   "display_name": "Python 3 (ipykernel)",
   "language": "python",
   "name": "python3"
  },
  "language_info": {
   "codemirror_mode": {
    "name": "ipython",
    "version": 3
   },
   "file_extension": ".py",
   "mimetype": "text/x-python",
   "name": "python",
   "nbconvert_exporter": "python",
   "pygments_lexer": "ipython3",
   "version": "3.11.4"
  }
 },
 "nbformat": 4,
 "nbformat_minor": 5
}
