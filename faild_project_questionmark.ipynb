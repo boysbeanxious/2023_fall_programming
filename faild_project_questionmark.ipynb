{
 "cells": [
  {
   "cell_type": "markdown",
   "id": "14ae2c11",
   "metadata": {},
   "source": [
    "# Purpose of this project\n",
    "\n",
    "* ## Is ther any kind of correlaion between the drama script and content completion rate? "
   ]
  },
  {
   "cell_type": "markdown",
   "id": "fc7b6f49",
   "metadata": {},
   "source": [
    "---\n",
    "---\n",
    "---"
   ]
  },
  {
   "cell_type": "markdown",
   "id": "df8d218f",
   "metadata": {},
   "source": [
    "https://www.whats-on-netflix.com/news/are-completion-rates-key-to-netflix-cancelations/\n",
    "<img src=\"./image/1.PNG\" width=\"700\" />\n",
    "<img src=\"./image/3.PNG\" width=\"700\" />"
   ]
  },
  {
   "cell_type": "markdown",
   "id": "04e220f9",
   "metadata": {},
   "source": [
    "---\n",
    "---\n",
    "---"
   ]
  },
  {
   "cell_type": "markdown",
   "id": "37ae64e2",
   "metadata": {},
   "source": [
    "# Can we measure the completion rate through the transcript?"
   ]
  },
  {
   "cell_type": "markdown",
   "id": "ed86e925",
   "metadata": {},
   "source": [
    "## 1. Gather two transcript data \n",
    "* The Irregulars : the lowest completion rate in upper image\n",
    "* Squid Game : the highest completion rate in upper image > This is what I'm going to present \n",
    " "
   ]
  },
  {
   "cell_type": "markdown",
   "id": "e7d8fd7c",
   "metadata": {},
   "source": [
    "## 2. Get dialogues without actions\n",
    "* dropout actions : measure the depth between the characters using network analysis, not mise en scene(in the scene)\n",
    "* make dataframe : make a dataframe with charector and dialogue\n",
    "\n",
    " "
   ]
  },
  {
   "cell_type": "markdown",
   "id": "076c96d7",
   "metadata": {},
   "source": [
    "## 3. Measure the depth of emotions \n",
    "* run a network analysis : Using the dataframe, do a network analysis with each of episode of two drama-The Irregulars and Squid Game\n",
    "* Compare the firues "
   ]
  },
  {
   "cell_type": "markdown",
   "id": "8b7a8edb",
   "metadata": {},
   "source": [
    "---\n",
    "---\n",
    "---"
   ]
  },
  {
   "cell_type": "markdown",
   "id": "ea93cd9f",
   "metadata": {},
   "source": [
    "## Step 1. Gather two transcript data \n",
    "* The Irregulars : the lowest completion rate in upper image\n",
    "* Squid Game : the highest completion rate in upper image > This is what I'm going to present "
   ]
  },
  {
   "cell_type": "code",
   "execution_count": 1,
   "id": "19c805e5",
   "metadata": {},
   "outputs": [],
   "source": [
    "# install used pakages \n",
    "# pip install selenium"
   ]
  },
  {
   "cell_type": "code",
   "execution_count": 2,
   "id": "5bbce241",
   "metadata": {},
   "outputs": [],
   "source": [
    "# import modules I'm going to use\n",
    "\n",
    "import selenium\n",
    "import numpy as np\n",
    "import pandas as pd\n",
    "\n",
    "# for automation in further data gathering, I used selenium to crawle the transcript\n",
    "from selenium.webdriver.common.by import By\n",
    "from selenium import webdriver\n",
    "from selenium.webdriver.support.ui import WebDriverWait\n",
    "from selenium.webdriver.support import expected_conditions as EC\n",
    "\n",
    "# Here is a useful link about the usage of selenium!\n",
    "# https://jackerlab.com/python-selenium/"
   ]
  },
  {
   "cell_type": "code",
   "execution_count": 3,
   "id": "28c84c69",
   "metadata": {},
   "outputs": [],
   "source": [
    "def dynamic_web_crawler(url, xpath):\n",
    "    \"\"\"\n",
    "    function name : dynamic_web_crawler\n",
    "    input parameter : url, xpath \n",
    "    output parameter : crawled data\n",
    "    \"\"\"\n",
    "\n",
    "    # to avoid unexpected exception, I used try-catch-finally \n",
    "    try:\n",
    "        # go to web page\n",
    "        driver.get(url)\n",
    "\n",
    "        # wait until the transcript page id loaded \n",
    "        wait = WebDriverWait(driver, 10)\n",
    "        wait.until(EC.presence_of_element_located((By.XPATH, xpath)))\n",
    "\n",
    "        # find the element by xpath in html\n",
    "        # which contains the transcript data\n",
    "        elements = driver.find_elements(By.XPATH, xpath)\n",
    "        # extract the text data\n",
    "        data = [element.text for element in elements]\n",
    "        # if all done, return the text data \n",
    "        return data\n",
    "    except:\n",
    "        # if error comes up while running the code, shut down the driver\n",
    "        print(\"error occures\")\n",
    "        driver.quit()\n",
    "    finally:\n",
    "        # if all done, shut down the driver \n",
    "        driver.quit()\n",
    "        "
   ]
  },
  {
   "cell_type": "code",
   "execution_count": 4,
   "id": "330d7294",
   "metadata": {},
   "outputs": [],
   "source": [
    "# Before calling the function, defind the input parameters \n",
    "url = 'https://scrapsfromtheloft.com/tv-series/squid-game-s01e09-one-lucky-day-transcript/'\n",
    "xpath = '//*[@id=\"main\"]/div/section/div/div/div/div[7]/div'"
   ]
  },
  {
   "cell_type": "code",
   "execution_count": 5,
   "id": "f72581df",
   "metadata": {},
   "outputs": [],
   "source": [
    "# define the webdriver as driver to open Chrome browser\n",
    "driver = webdriver.Chrome()"
   ]
  },
  {
   "cell_type": "code",
   "execution_count": 6,
   "id": "a26a3b35",
   "metadata": {},
   "outputs": [
    {
     "name": "stdout",
     "output_type": "stream",
     "text": [
      "error occures\n"
     ]
    }
   ],
   "source": [
    "# call the function I made\n",
    "script = dynamic_web_crawler(url, xpath)"
   ]
  },
  {
   "cell_type": "code",
   "execution_count": 7,
   "id": "8d9387c3",
   "metadata": {
    "scrolled": false
   },
   "outputs": [
    {
     "name": "stdout",
     "output_type": "stream",
     "text": [
      "type of script variable is <class 'NoneType'> \n",
      "\n"
     ]
    },
    {
     "ename": "TypeError",
     "evalue": "object of type 'NoneType' has no len()",
     "output_type": "error",
     "traceback": [
      "\u001b[0;31m---------------------------------------------------------------------------\u001b[0m",
      "\u001b[0;31mTypeError\u001b[0m                                 Traceback (most recent call last)",
      "Cell \u001b[0;32mIn[7], line 3\u001b[0m\n\u001b[1;32m      1\u001b[0m \u001b[38;5;66;03m# check the return value of the function \u001b[39;00m\n\u001b[1;32m      2\u001b[0m \u001b[38;5;28mprint\u001b[39m(\u001b[38;5;124m\"\u001b[39m\u001b[38;5;124mtype of script variable is\u001b[39m\u001b[38;5;124m\"\u001b[39m, \u001b[38;5;28mtype\u001b[39m(script), \u001b[38;5;124m'\u001b[39m\u001b[38;5;130;01m\\n\u001b[39;00m\u001b[38;5;124m'\u001b[39m)\n\u001b[0;32m----> 3\u001b[0m \u001b[38;5;28mprint\u001b[39m(\u001b[38;5;124m\"\u001b[39m\u001b[38;5;124mlength of script variable is\u001b[39m\u001b[38;5;124m\"\u001b[39m, \u001b[38;5;28mlen\u001b[39m(script), \u001b[38;5;124m'\u001b[39m\u001b[38;5;130;01m\\n\u001b[39;00m\u001b[38;5;124m'\u001b[39m)\n\u001b[1;32m      4\u001b[0m \u001b[38;5;28mprint\u001b[39m(\u001b[38;5;124m\"\u001b[39m\u001b[38;5;124mcontents of script variable is \u001b[39m\u001b[38;5;130;01m\\n\u001b[39;00m\u001b[38;5;124m\"\u001b[39m, script)\n",
      "\u001b[0;31mTypeError\u001b[0m: object of type 'NoneType' has no len()"
     ]
    }
   ],
   "source": [
    "# check the return value of the function \n",
    "print(\"type of script variable is\", type(script), '\\n')\n",
    "print(\"length of script variable is\", len(script), '\\n')\n",
    "print(\"contents of script variable is \\n\", script)"
   ]
  },
  {
   "cell_type": "markdown",
   "id": "6cc0462d",
   "metadata": {},
   "source": [
    "## Step 2. Get dialogues without actions\n",
    "* dropout actions : measure the depth between the characters using network analysis, not mise en scene(in the scene)\n",
    "* make dataframe : make a dataframe with charector and dialogue"
   ]
  },
  {
   "cell_type": "markdown",
   "id": "6628a5af",
   "metadata": {},
   "source": [
    "## make a function named 'pp1'(preprocessing1)\n",
    "* delete the text that matches the condition\n",
    "    * first line of the script : release date\n",
    "    * second paragraph of the transcript : summary of the episode \n",
    "    * the actual transcript starts with the three star marks (* * *)\n"
   ]
  },
  {
   "cell_type": "markdown",
   "id": "34a7eb96",
   "metadata": {},
   "source": [
    "<img src=\"./image/4.PNG\" width=\"700\" />"
   ]
  },
  {
   "cell_type": "code",
   "execution_count": null,
   "id": "b3264731",
   "metadata": {},
   "outputs": [],
   "source": [
    "def pp1(script) :  \n",
    "    \"\"\"\n",
    "    function name : pp1\n",
    "    input parameter : script\n",
    "    output parameter : preprocessed script(erase the text which is not script)\n",
    "    \"\"\"\n",
    "\n",
    "    # first line of the transcript : release date,  \n",
    "    full_script = script[0]  \n",
    "    # second line(paragraph) of the transcript : summary of the episode\n",
    "    full_script = full_script.split('\\n', 2)[2]\n",
    "    # the actual transcript starts with the three star marks (* * *)\n",
    "    full_script = full_script.split('*', 3)[3]\n",
    "    return full_script"
   ]
  },
  {
   "cell_type": "code",
   "execution_count": null,
   "id": "7bc68e75",
   "metadata": {},
   "outputs": [],
   "source": [
    "# call pp1\n",
    "pp1_script = pp1(script)"
   ]
  },
  {
   "cell_type": "code",
   "execution_count": null,
   "id": "e5a772c1",
   "metadata": {},
   "outputs": [],
   "source": [
    "# result of pp1 \n",
    "pp1_script "
   ]
  },
  {
   "cell_type": "markdown",
   "id": "fb7f39c4",
   "metadata": {},
   "source": [
    "## make a function named 'pp2'(preprocessing2)\n",
    "* dropout the actions in the script\n",
    "    * split the text data with the newline delimeter('\\n[')\n",
    "    * if there is just a bracelet(ex. []) with no other line, then that's an Action(in korean 지문)\n",
    "    * if there is a bracelet with some lines, then that is a dialogue(in korean 대사)\n",
    "        * in this case, the words in bracelet is the character's name "
   ]
  },
  {
   "cell_type": "markdown",
   "id": "e33683e7",
   "metadata": {},
   "source": [
    "<img src=\"./image/5.jpg\" width=\"700\" />"
   ]
  },
  {
   "cell_type": "code",
   "execution_count": null,
   "id": "43733615",
   "metadata": {},
   "outputs": [],
   "source": [
    "def isDialogue(line) : \n",
    "    \"\"\"\n",
    "    function name : isDialogue\n",
    "    input parameter : line\n",
    "    output parameter : Boolean\n",
    "    \"\"\"\n",
    "    bracelet_idx = line.find(']')\n",
    "    line_len = len(line)\n",
    "    # check if line has no words\n",
    "    if (line_len < 1) |\\\n",
    "        ((bracelet_idx>0) & ((bracelet_idx+1)==line_len)):\n",
    "        #check if there is just action with braclet \n",
    "        # then, it is an action so return False \n",
    "        return False \n",
    "    else :  \n",
    "        return True"
   ]
  },
  {
   "cell_type": "code",
   "execution_count": null,
   "id": "42748761",
   "metadata": {},
   "outputs": [],
   "source": [
    "def pp2(script) :  \n",
    "    \"\"\"\n",
    "    function name : pp2\n",
    "    input parameter : script\n",
    "    output parameter : preprocessed script(dropout Actions)\n",
    "    \"\"\"\n",
    "    # split the text data with the newline delimeter('\\n[')\n",
    "    # I used the delimeter '\\n[' because there is newline('\\n') between some dialogues \n",
    "    full_script = script.split('\\n[')\n",
    "    # using list comprehension, dropout actions, gather dialogues\n",
    "    full_script = [line for line in full_script if isDialogue(line)]\n",
    "    return full_script"
   ]
  },
  {
   "cell_type": "code",
   "execution_count": null,
   "id": "05e5f951",
   "metadata": {},
   "outputs": [],
   "source": [
    "# pp2(pp1_script)\n",
    "pp2_script = pp2(pp1_script)"
   ]
  },
  {
   "cell_type": "code",
   "execution_count": null,
   "id": "5195917a",
   "metadata": {},
   "outputs": [],
   "source": [
    "pp2_script"
   ]
  },
  {
   "cell_type": "markdown",
   "id": "658eb2a1",
   "metadata": {},
   "source": [
    "* I'll use the function name 'pp3'(preprocessing3)\n",
    "    * split the text data with the newline delimeter(']')\n",
    "    * put this data in DataFrame (columns = ['character', 'dialogue'])"
   ]
  },
  {
   "cell_type": "code",
   "execution_count": null,
   "id": "41a44d8e",
   "metadata": {},
   "outputs": [],
   "source": [
    "def pp3(script) :\n",
    "    \"\"\"\n",
    "    function name : pp3\n",
    "    input parameter : script\n",
    "    output parameter : dataframe of script\n",
    "    \"\"\"    \n",
    "    # using split methods, devide the line into character and diagloue\n",
    "    # and make it as an pandas dataframe \n",
    "    script_df = pd.DataFrame({  'character':[line.split(']')[0].strip() for line in script]\n",
    "                              , 'dialogue':[line.split(']')[1].lstrip().replace('\\n', '') for line in script]})\n",
    "    return script_df"
   ]
  },
  {
   "cell_type": "code",
   "execution_count": null,
   "id": "cc021d4b",
   "metadata": {},
   "outputs": [],
   "source": [
    "pp3_script = pp3(pp2_script)"
   ]
  },
  {
   "cell_type": "code",
   "execution_count": null,
   "id": "5a583303",
   "metadata": {
    "scrolled": false
   },
   "outputs": [],
   "source": [
    "pp3_script.head(10)"
   ]
  },
  {
   "cell_type": "markdown",
   "id": "9dd65a1c",
   "metadata": {},
   "source": [
    "## make a function named 'modify_dialogue'(modify_dialogue)\n",
    "* There are some errors in the dataFrame\n",
    "    * some line don't follow the rules \n",
    "    * find the irregular one and modify like below "
   ]
  },
  {
   "cell_type": "markdown",
   "id": "d9abbce2",
   "metadata": {},
   "source": [
    "<img src=\"./image/6.jpg\" width=\"500\" />"
   ]
  },
  {
   "cell_type": "code",
   "execution_count": null,
   "id": "86b7bd72",
   "metadata": {},
   "outputs": [],
   "source": [
    "#check the dataframe column 'character' which does not have a character's name \n",
    "pp3_script['character'].value_counts().index.to_list()"
   ]
  },
  {
   "cell_type": "code",
   "execution_count": null,
   "id": "bfb12b48",
   "metadata": {},
   "outputs": [],
   "source": [
    "# extract some actions in character column\n",
    "notcharectors_list = ['Korean', 'English', 'gasps', 'grunts', 'grunts', 'inhales'\n",
    "               , 'angrily', 'automated']\n",
    "\n",
    "\n",
    "# join the noncharacters_list with join function \n",
    "nochar_str = '|'.join(notcharectors_list)"
   ]
  },
  {
   "cell_type": "code",
   "execution_count": null,
   "id": "a1d70b46",
   "metadata": {},
   "outputs": [],
   "source": [
    "# using the condition I made in upper cell(nonchar_str), get the rows to be modifed \n",
    "redo_index = pp3_script[pp3_script['character'].str.contains(nochar_str)].index"
   ]
  },
  {
   "cell_type": "code",
   "execution_count": null,
   "id": "4e446447",
   "metadata": {},
   "outputs": [],
   "source": [
    "def modify_dialogue(line):\n",
    "    \"\"\"\n",
    "    function name : modify_dialogue\n",
    "    input parameter : line\n",
    "    output parameter : None \n",
    "    \"\"\"    \n",
    "    print(\"!\")\n",
    "    # get the index of the parameter\n",
    "    append_tar = line.index\n",
    "    # using + operator, concat the problem line with the line before the problem line\n",
    "    for i in append_tar:\n",
    "        pp3_script.loc[i-1, 'dialogue'] = pp3_script.loc[i-1, 'dialogue'] + pp3_script.loc[i, 'dialogue']\n",
    "        \n"
   ]
  },
  {
   "cell_type": "code",
   "execution_count": null,
   "id": "7166f906",
   "metadata": {},
   "outputs": [],
   "source": [
    "# call modify_dialogue function\n",
    "modify_dialogue(pp3_script[pp3_script['character'].str.contains(nochar_str)])"
   ]
  },
  {
   "cell_type": "code",
   "execution_count": null,
   "id": "ec3e0365",
   "metadata": {},
   "outputs": [],
   "source": [
    "# pd.options.display.max_colwidth = 2000\n",
    "# check the result \n",
    "pp3_script['dialogue'].head(11)"
   ]
  },
  {
   "cell_type": "code",
   "execution_count": null,
   "id": "1da7dfa1",
   "metadata": {},
   "outputs": [],
   "source": [
    "# remove the action line in the dataframe\n",
    "pp3_script.drop(redo_index).reset_index(inplace=True)"
   ]
  },
  {
   "cell_type": "code",
   "execution_count": null,
   "id": "ff2d7f89",
   "metadata": {},
   "outputs": [],
   "source": [
    "# check the result \n",
    "pp3_script.head(11)"
   ]
  },
  {
   "cell_type": "code",
   "execution_count": null,
   "id": "5c10b576",
   "metadata": {},
   "outputs": [],
   "source": []
  }
 ],
 "metadata": {
  "kernelspec": {
   "display_name": "Python 3 (ipykernel)",
   "language": "python",
   "name": "python3"
  },
  "language_info": {
   "codemirror_mode": {
    "name": "ipython",
    "version": 3
   },
   "file_extension": ".py",
   "mimetype": "text/x-python",
   "name": "python",
   "nbconvert_exporter": "python",
   "pygments_lexer": "ipython3",
   "version": "3.11.4"
  }
 },
 "nbformat": 4,
 "nbformat_minor": 5
}
