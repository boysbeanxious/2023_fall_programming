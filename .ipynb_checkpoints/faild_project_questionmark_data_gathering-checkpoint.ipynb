{
 "cells": [
  {
   "cell_type": "markdown",
   "id": "14ae2c11",
   "metadata": {},
   "source": [
    "# Purpose of this project\n",
    "\n",
    "* ## find a correlaion between the drama script and content completion rate"
   ]
  },
  {
   "cell_type": "markdown",
   "id": "fc7b6f49",
   "metadata": {},
   "source": [
    "---\n",
    "---\n",
    "---"
   ]
  },
  {
   "cell_type": "markdown",
   "id": "df8d218f",
   "metadata": {},
   "source": [
    "https://www.whats-on-netflix.com/news/are-completion-rates-key-to-netflix-cancelations/\n",
    "<img src=\"./image/1.PNG\" width=\"700\" />\n",
    "<img src=\"./image/3.PNG\" width=\"700\" />"
   ]
  },
  {
   "cell_type": "markdown",
   "id": "04e220f9",
   "metadata": {},
   "source": [
    "---\n",
    "---\n",
    "---"
   ]
  },
  {
   "cell_type": "markdown",
   "id": "37ae64e2",
   "metadata": {},
   "source": [
    "# Can we measure the completion rate through the script?"
   ]
  },
  {
   "cell_type": "markdown",
   "id": "ed86e925",
   "metadata": {},
   "source": [
    "## 1. Gather two script data \n",
    "* The Irregulars : the lowest completion rate in upper image\n",
    "* Squid Game : the highest completion rate in upper image > This is what I'm going to present \n",
    " "
   ]
  },
  {
   "cell_type": "markdown",
   "id": "e7d8fd7c",
   "metadata": {},
   "source": [
    "## 2. Get dialogues without actions\n",
    "* dropout actions : measure the depth between the characters using network analysis, not mise en scene(in the scene)\n",
    "* make dataframe : make a dataframe with charector and dialogue\n",
    "\n",
    " "
   ]
  },
  {
   "cell_type": "markdown",
   "id": "076c96d7",
   "metadata": {},
   "source": [
    "## 3. Measure the depth of emotions \n",
    "* run a network analysis : Using the dataframe, do a network analysis with each of episode of two drama-The Irregulars and Squid Game\n",
    "* Compare the firues "
   ]
  },
  {
   "cell_type": "markdown",
   "id": "8b7a8edb",
   "metadata": {},
   "source": [
    "---\n",
    "---\n",
    "---"
   ]
  },
  {
   "cell_type": "markdown",
   "id": "ea93cd9f",
   "metadata": {},
   "source": [
    "## Step 1. Gather two script data \n",
    "* The Irregulars : the lowest completion rate in upper image\n",
    "* Squid Game : the highest completion rate in upper image > This is what I'm going to present "
   ]
  },
  {
   "cell_type": "code",
   "execution_count": null,
   "id": "19c805e5",
   "metadata": {},
   "outputs": [],
   "source": [
    "# install used pakages \n",
    "# pip install selenium"
   ]
  },
  {
   "cell_type": "code",
   "execution_count": 1,
   "id": "5bbce241",
   "metadata": {},
   "outputs": [],
   "source": [
    "# import modules I'm going to use\n",
    "\n",
    "import selenium\n",
    "import numpy as np\n",
    "import pandas as pd\n",
    "\n",
    "# for automation in further data gathering, I used selenium to crawl the script data \n",
    "from selenium.webdriver.common.by import By\n",
    "from selenium import webdriver\n",
    "from selenium.webdriver.support.ui import WebDriverWait\n",
    "from selenium.webdriver.support import expected_conditions as EC\n",
    "\n",
    "# Here is a useful link about the usage of selenium!\n",
    "# https://jackerlab.com/python-selenium/\n",
    "# It's a kind of dynamic crawler that help to gather the data after some kind of action, \n",
    "# ex)you've loged in or scroll down "
   ]
  },
  {
   "cell_type": "code",
   "execution_count": 33,
   "id": "28c84c69",
   "metadata": {},
   "outputs": [
    {
     "ename": "NoSuchElementException",
     "evalue": "Message: no such element: Unable to locate element: {\"method\":\"xpath\",\"selector\":\"//*[@id=\"content\"]/div/div/section[2]/div/div/div/div/div/div[1]/article[2]/div/h3/a\"}\n  (Session info: chrome=117.0.5938.149); For documentation on this error, please visit: https://www.selenium.dev/documentation/webdriver/troubleshooting/errors#no-such-element-exception\nStacktrace:\n0   chromedriver                        0x0000000100692d98 chromedriver + 4337048\n1   chromedriver                        0x000000010068ae14 chromedriver + 4304404\n2   chromedriver                        0x00000001002b7a5c chromedriver + 293468\n3   chromedriver                        0x00000001002fcd50 chromedriver + 576848\n4   chromedriver                        0x0000000100337908 chromedriver + 817416\n5   chromedriver                        0x00000001002f0a5c chromedriver + 526940\n6   chromedriver                        0x00000001002f1908 chromedriver + 530696\n7   chromedriver                        0x0000000100658de4 chromedriver + 4099556\n8   chromedriver                        0x000000010065d2a0 chromedriver + 4117152\n9   chromedriver                        0x000000010066352c chromedriver + 4142380\n10  chromedriver                        0x000000010065dda0 chromedriver + 4119968\n11  chromedriver                        0x0000000100635a74 chromedriver + 3955316\n12  chromedriver                        0x000000010067aa48 chromedriver + 4237896\n13  chromedriver                        0x000000010067abc4 chromedriver + 4238276\n14  chromedriver                        0x000000010068aa8c chromedriver + 4303500\n15  libsystem_pthread.dylib             0x000000018d5effa8 _pthread_start + 148\n16  libsystem_pthread.dylib             0x000000018d5eada0 thread_start + 8\n",
     "output_type": "error",
     "traceback": [
      "\u001b[0;31m---------------------------------------------------------------------------\u001b[0m",
      "\u001b[0;31mNoSuchElementException\u001b[0m                    Traceback (most recent call last)",
      "Cell \u001b[0;32mIn[33], line 19\u001b[0m\n\u001b[1;32m     16\u001b[0m wait\u001b[38;5;241m.\u001b[39muntil(EC\u001b[38;5;241m.\u001b[39mpresence_of_element_located((By\u001b[38;5;241m.\u001b[39mXPATH, script_xpath_list[\u001b[38;5;241m0\u001b[39m])))\n\u001b[1;32m     18\u001b[0m \u001b[38;5;28;01mfor\u001b[39;00m i \u001b[38;5;129;01min\u001b[39;00m \u001b[38;5;28mrange\u001b[39m(\u001b[38;5;28mlen\u001b[39m(script_xpath_list)):\n\u001b[0;32m---> 19\u001b[0m     click_target \u001b[38;5;241m=\u001b[39m driver\u001b[38;5;241m.\u001b[39mfind_element(By\u001b[38;5;241m.\u001b[39mXPATH, script_xpath_list[i])\n\u001b[1;32m     20\u001b[0m     click_target\u001b[38;5;241m.\u001b[39msend_keys(\u001b[38;5;124m'\u001b[39m\u001b[38;5;130;01m\\n\u001b[39;00m\u001b[38;5;124m'\u001b[39m)\n\u001b[1;32m     22\u001b[0m     wait\u001b[38;5;241m.\u001b[39muntil(EC\u001b[38;5;241m.\u001b[39mpresence_of_element_located((By\u001b[38;5;241m.\u001b[39mXPATH, xpath)))   \n",
      "File \u001b[0;32m~/anaconda3/lib/python3.11/site-packages/selenium/webdriver/remote/webdriver.py:738\u001b[0m, in \u001b[0;36mWebDriver.find_element\u001b[0;34m(self, by, value)\u001b[0m\n\u001b[1;32m    735\u001b[0m     by \u001b[38;5;241m=\u001b[39m By\u001b[38;5;241m.\u001b[39mCSS_SELECTOR\n\u001b[1;32m    736\u001b[0m     value \u001b[38;5;241m=\u001b[39m \u001b[38;5;124mf\u001b[39m\u001b[38;5;124m'\u001b[39m\u001b[38;5;124m[name=\u001b[39m\u001b[38;5;124m\"\u001b[39m\u001b[38;5;132;01m{\u001b[39;00mvalue\u001b[38;5;132;01m}\u001b[39;00m\u001b[38;5;124m\"\u001b[39m\u001b[38;5;124m]\u001b[39m\u001b[38;5;124m'\u001b[39m\n\u001b[0;32m--> 738\u001b[0m \u001b[38;5;28;01mreturn\u001b[39;00m \u001b[38;5;28mself\u001b[39m\u001b[38;5;241m.\u001b[39mexecute(Command\u001b[38;5;241m.\u001b[39mFIND_ELEMENT, {\u001b[38;5;124m\"\u001b[39m\u001b[38;5;124musing\u001b[39m\u001b[38;5;124m\"\u001b[39m: by, \u001b[38;5;124m\"\u001b[39m\u001b[38;5;124mvalue\u001b[39m\u001b[38;5;124m\"\u001b[39m: value})[\u001b[38;5;124m\"\u001b[39m\u001b[38;5;124mvalue\u001b[39m\u001b[38;5;124m\"\u001b[39m]\n",
      "File \u001b[0;32m~/anaconda3/lib/python3.11/site-packages/selenium/webdriver/remote/webdriver.py:344\u001b[0m, in \u001b[0;36mWebDriver.execute\u001b[0;34m(self, driver_command, params)\u001b[0m\n\u001b[1;32m    342\u001b[0m response \u001b[38;5;241m=\u001b[39m \u001b[38;5;28mself\u001b[39m\u001b[38;5;241m.\u001b[39mcommand_executor\u001b[38;5;241m.\u001b[39mexecute(driver_command, params)\n\u001b[1;32m    343\u001b[0m \u001b[38;5;28;01mif\u001b[39;00m response:\n\u001b[0;32m--> 344\u001b[0m     \u001b[38;5;28mself\u001b[39m\u001b[38;5;241m.\u001b[39merror_handler\u001b[38;5;241m.\u001b[39mcheck_response(response)\n\u001b[1;32m    345\u001b[0m     response[\u001b[38;5;124m\"\u001b[39m\u001b[38;5;124mvalue\u001b[39m\u001b[38;5;124m\"\u001b[39m] \u001b[38;5;241m=\u001b[39m \u001b[38;5;28mself\u001b[39m\u001b[38;5;241m.\u001b[39m_unwrap_value(response\u001b[38;5;241m.\u001b[39mget(\u001b[38;5;124m\"\u001b[39m\u001b[38;5;124mvalue\u001b[39m\u001b[38;5;124m\"\u001b[39m, \u001b[38;5;28;01mNone\u001b[39;00m))\n\u001b[1;32m    346\u001b[0m     \u001b[38;5;28;01mreturn\u001b[39;00m response\n",
      "File \u001b[0;32m~/anaconda3/lib/python3.11/site-packages/selenium/webdriver/remote/errorhandler.py:229\u001b[0m, in \u001b[0;36mErrorHandler.check_response\u001b[0;34m(self, response)\u001b[0m\n\u001b[1;32m    227\u001b[0m         alert_text \u001b[38;5;241m=\u001b[39m value[\u001b[38;5;124m\"\u001b[39m\u001b[38;5;124malert\u001b[39m\u001b[38;5;124m\"\u001b[39m]\u001b[38;5;241m.\u001b[39mget(\u001b[38;5;124m\"\u001b[39m\u001b[38;5;124mtext\u001b[39m\u001b[38;5;124m\"\u001b[39m)\n\u001b[1;32m    228\u001b[0m     \u001b[38;5;28;01mraise\u001b[39;00m exception_class(message, screen, stacktrace, alert_text)  \u001b[38;5;66;03m# type: ignore[call-arg]  # mypy is not smart enough here\u001b[39;00m\n\u001b[0;32m--> 229\u001b[0m \u001b[38;5;28;01mraise\u001b[39;00m exception_class(message, screen, stacktrace)\n",
      "\u001b[0;31mNoSuchElementException\u001b[0m: Message: no such element: Unable to locate element: {\"method\":\"xpath\",\"selector\":\"//*[@id=\"content\"]/div/div/section[2]/div/div/div/div/div/div[1]/article[2]/div/h3/a\"}\n  (Session info: chrome=117.0.5938.149); For documentation on this error, please visit: https://www.selenium.dev/documentation/webdriver/troubleshooting/errors#no-such-element-exception\nStacktrace:\n0   chromedriver                        0x0000000100692d98 chromedriver + 4337048\n1   chromedriver                        0x000000010068ae14 chromedriver + 4304404\n2   chromedriver                        0x00000001002b7a5c chromedriver + 293468\n3   chromedriver                        0x00000001002fcd50 chromedriver + 576848\n4   chromedriver                        0x0000000100337908 chromedriver + 817416\n5   chromedriver                        0x00000001002f0a5c chromedriver + 526940\n6   chromedriver                        0x00000001002f1908 chromedriver + 530696\n7   chromedriver                        0x0000000100658de4 chromedriver + 4099556\n8   chromedriver                        0x000000010065d2a0 chromedriver + 4117152\n9   chromedriver                        0x000000010066352c chromedriver + 4142380\n10  chromedriver                        0x000000010065dda0 chromedriver + 4119968\n11  chromedriver                        0x0000000100635a74 chromedriver + 3955316\n12  chromedriver                        0x000000010067aa48 chromedriver + 4237896\n13  chromedriver                        0x000000010067abc4 chromedriver + 4238276\n14  chromedriver                        0x000000010068aa8c chromedriver + 4303500\n15  libsystem_pthread.dylib             0x000000018d5effa8 _pthread_start + 148\n16  libsystem_pthread.dylib             0x000000018d5eada0 thread_start + 8\n"
     ]
    }
   ],
   "source": [
    "# def dynamic_web_crawler(url, script_xpath_list, xpath):\n",
    "#     \"\"\"\n",
    "#     function name : dynamic_web_crawler\n",
    "#     input parameter : url, script_xpath_list, xpath \n",
    "#     output parameter : crawled data\n",
    "#     \"\"\"\n",
    "full_script = []\n",
    "# to avoid unexpected exception, I used try-except-finally \n",
    "#     try:\n",
    "# go to web page\n",
    "driver.get(url)\n",
    "\n",
    "# wait until the script page id loaded \n",
    "wait = WebDriverWait(driver, 10)\n",
    "\n",
    "wait.until(EC.presence_of_element_located((By.XPATH, script_xpath_list[0])))\n",
    "\n",
    "for i in range(len(script_xpath_list)):\n",
    "    click_target = driver.find_element(By.XPATH, script_xpath_list[i])\n",
    "    click_target.send_keys('\\n')\n",
    "\n",
    "    wait.until(EC.presence_of_element_located((By.XPATH, xpath)))   \n",
    "\n",
    "    # find the element by xpath in html\n",
    "    # which contains the script data\n",
    "    elements = driver.find_elements(By.XPATH, xpath)\n",
    "\n",
    "    # extract the text data using list comprehension\n",
    "    data = [element.text for element in elements]\n",
    "\n",
    "    full_script.append(data[0])\n",
    "    driver.back()\n",
    "    # if all done, return the text data \n",
    "#     return full_script\n",
    "#     except:Exception\n",
    "#         # if error comes up while running the code, shut down the driver\n",
    "#         print(\"error occures\")\n",
    "#         driver.quit()\n",
    "#     finally:\n",
    "#         # if all done normally, shut down the driver \n",
    "#         driver.quit()\n",
    "\n",
    "\n",
    "//*[@id=\"content\"]/div/div/section[2]/div/div/div/div/div/div[1]/article[2]/div/h3/a  \n",
    "//*[@id=\"content\"]/div/div/section[2]/div/div/div/div/div/div[1]/article[2]/div/h3/a"
   ]
  },
  {
   "cell_type": "code",
   "execution_count": 23,
   "id": "9f0c11f1",
   "metadata": {},
   "outputs": [],
   "source": [
    "# //*[@id=\"content\"]/div/div/section[2]/div/div/div/div/div/div[1]/article[1]/div/h3/a\n",
    "front = \"\"\"//*[@id=\"content\"]/div/div/section[2]/div/div/div/div/div/div[1]/article[\"\"\"\n",
    "end = \"\"\"]/div/h3/a\"\"\" \n",
    " \n",
    "script_xpath_list = [front+str(x)+end for x in range(1,10)]"
   ]
  },
  {
   "cell_type": "code",
   "execution_count": 15,
   "id": "330d7294",
   "metadata": {},
   "outputs": [],
   "source": [
    "# Before calling the function, defind the input parameters \n",
    "url = 'https://scrapsfromtheloft.com/?s=SQUID+GAME'\n",
    "# script data location in html\n",
    "xpath = '//*[@id=\"main\"]/div/section/div/div/div/div[7]/div'"
   ]
  },
  {
   "cell_type": "code",
   "execution_count": 16,
   "id": "f72581df",
   "metadata": {},
   "outputs": [],
   "source": [
    "# define the webdriver as driver to open Chrome browser as a global variable\n",
    "driver = webdriver.Chrome()"
   ]
  },
  {
   "cell_type": "code",
   "execution_count": 17,
   "id": "a26a3b35",
   "metadata": {},
   "outputs": [
    {
     "ename": "InvalidSelectorException",
     "evalue": "Message: invalid selector: The result of the xpath expression \"/\" is: [object HTMLDocument]. It should be an element.\n  (Session info: chrome=117.0.5938.149); For documentation on this error, please visit: https://www.selenium.dev/documentation/webdriver/troubleshooting/errors#invalid-selector-exception\nStacktrace:\n0   chromedriver                        0x0000000100692d98 chromedriver + 4337048\n1   chromedriver                        0x000000010068ae14 chromedriver + 4304404\n2   chromedriver                        0x00000001002b7a5c chromedriver + 293468\n3   chromedriver                        0x00000001002bccc8 chromedriver + 314568\n4   chromedriver                        0x00000001002be8dc chromedriver + 321756\n5   chromedriver                        0x00000001002bea08 chromedriver + 322056\n6   chromedriver                        0x00000001002fcaf4 chromedriver + 576244\n7   chromedriver                        0x0000000100337908 chromedriver + 817416\n8   chromedriver                        0x00000001002f0a5c chromedriver + 526940\n9   chromedriver                        0x00000001002f1908 chromedriver + 530696\n10  chromedriver                        0x0000000100658de4 chromedriver + 4099556\n11  chromedriver                        0x000000010065d2a0 chromedriver + 4117152\n12  chromedriver                        0x000000010066352c chromedriver + 4142380\n13  chromedriver                        0x000000010065dda0 chromedriver + 4119968\n14  chromedriver                        0x0000000100635a74 chromedriver + 3955316\n15  chromedriver                        0x000000010067aa48 chromedriver + 4237896\n16  chromedriver                        0x000000010067abc4 chromedriver + 4238276\n17  chromedriver                        0x000000010068aa8c chromedriver + 4303500\n18  libsystem_pthread.dylib             0x000000018d5effa8 _pthread_start + 148\n19  libsystem_pthread.dylib             0x000000018d5eada0 thread_start + 8\n",
     "output_type": "error",
     "traceback": [
      "\u001b[0;31m---------------------------------------------------------------------------\u001b[0m",
      "\u001b[0;31mInvalidSelectorException\u001b[0m                  Traceback (most recent call last)",
      "Cell \u001b[0;32mIn[17], line 2\u001b[0m\n\u001b[1;32m      1\u001b[0m \u001b[38;5;66;03m# call the function I made\u001b[39;00m\n\u001b[0;32m----> 2\u001b[0m script \u001b[38;5;241m=\u001b[39m dynamic_web_crawler(url, script_xpath_list, xpath)\n",
      "Cell \u001b[0;32mIn[13], line 15\u001b[0m, in \u001b[0;36mdynamic_web_crawler\u001b[0;34m(url, script_xpath_list, xpath)\u001b[0m\n\u001b[1;32m     13\u001b[0m     \u001b[38;5;66;03m# wait until the script page id loaded \u001b[39;00m\n\u001b[1;32m     14\u001b[0m     wait \u001b[38;5;241m=\u001b[39m WebDriverWait(driver, \u001b[38;5;241m10\u001b[39m)\n\u001b[0;32m---> 15\u001b[0m     wait\u001b[38;5;241m.\u001b[39muntil(EC\u001b[38;5;241m.\u001b[39mpresence_of_element_located((By\u001b[38;5;241m.\u001b[39mXPATH, script_xpath_list[\u001b[38;5;241m0\u001b[39m])))\n\u001b[1;32m     17\u001b[0m \u001b[38;5;66;03m#         for i in range(len(script_xpath_list)):\u001b[39;00m\n\u001b[1;32m     18\u001b[0m     \u001b[38;5;28;01mfor\u001b[39;00m i \u001b[38;5;129;01min\u001b[39;00m \u001b[38;5;28mrange\u001b[39m(\u001b[38;5;241m1\u001b[39m, \u001b[38;5;241m2\u001b[39m):\n",
      "File \u001b[0;32m~/anaconda3/lib/python3.11/site-packages/selenium/webdriver/support/wait.py:86\u001b[0m, in \u001b[0;36mWebDriverWait.until\u001b[0;34m(self, method, message)\u001b[0m\n\u001b[1;32m     84\u001b[0m \u001b[38;5;28;01mwhile\u001b[39;00m \u001b[38;5;28;01mTrue\u001b[39;00m:\n\u001b[1;32m     85\u001b[0m     \u001b[38;5;28;01mtry\u001b[39;00m:\n\u001b[0;32m---> 86\u001b[0m         value \u001b[38;5;241m=\u001b[39m method(\u001b[38;5;28mself\u001b[39m\u001b[38;5;241m.\u001b[39m_driver)\n\u001b[1;32m     87\u001b[0m         \u001b[38;5;28;01mif\u001b[39;00m value:\n\u001b[1;32m     88\u001b[0m             \u001b[38;5;28;01mreturn\u001b[39;00m value\n",
      "File \u001b[0;32m~/anaconda3/lib/python3.11/site-packages/selenium/webdriver/support/expected_conditions.py:81\u001b[0m, in \u001b[0;36mpresence_of_element_located.<locals>._predicate\u001b[0;34m(driver)\u001b[0m\n\u001b[1;32m     80\u001b[0m \u001b[38;5;28;01mdef\u001b[39;00m \u001b[38;5;21m_predicate\u001b[39m(driver):\n\u001b[0;32m---> 81\u001b[0m     \u001b[38;5;28;01mreturn\u001b[39;00m driver\u001b[38;5;241m.\u001b[39mfind_element(\u001b[38;5;241m*\u001b[39mlocator)\n",
      "File \u001b[0;32m~/anaconda3/lib/python3.11/site-packages/selenium/webdriver/remote/webdriver.py:738\u001b[0m, in \u001b[0;36mWebDriver.find_element\u001b[0;34m(self, by, value)\u001b[0m\n\u001b[1;32m    735\u001b[0m     by \u001b[38;5;241m=\u001b[39m By\u001b[38;5;241m.\u001b[39mCSS_SELECTOR\n\u001b[1;32m    736\u001b[0m     value \u001b[38;5;241m=\u001b[39m \u001b[38;5;124mf\u001b[39m\u001b[38;5;124m'\u001b[39m\u001b[38;5;124m[name=\u001b[39m\u001b[38;5;124m\"\u001b[39m\u001b[38;5;132;01m{\u001b[39;00mvalue\u001b[38;5;132;01m}\u001b[39;00m\u001b[38;5;124m\"\u001b[39m\u001b[38;5;124m]\u001b[39m\u001b[38;5;124m'\u001b[39m\n\u001b[0;32m--> 738\u001b[0m \u001b[38;5;28;01mreturn\u001b[39;00m \u001b[38;5;28mself\u001b[39m\u001b[38;5;241m.\u001b[39mexecute(Command\u001b[38;5;241m.\u001b[39mFIND_ELEMENT, {\u001b[38;5;124m\"\u001b[39m\u001b[38;5;124musing\u001b[39m\u001b[38;5;124m\"\u001b[39m: by, \u001b[38;5;124m\"\u001b[39m\u001b[38;5;124mvalue\u001b[39m\u001b[38;5;124m\"\u001b[39m: value})[\u001b[38;5;124m\"\u001b[39m\u001b[38;5;124mvalue\u001b[39m\u001b[38;5;124m\"\u001b[39m]\n",
      "File \u001b[0;32m~/anaconda3/lib/python3.11/site-packages/selenium/webdriver/remote/webdriver.py:344\u001b[0m, in \u001b[0;36mWebDriver.execute\u001b[0;34m(self, driver_command, params)\u001b[0m\n\u001b[1;32m    342\u001b[0m response \u001b[38;5;241m=\u001b[39m \u001b[38;5;28mself\u001b[39m\u001b[38;5;241m.\u001b[39mcommand_executor\u001b[38;5;241m.\u001b[39mexecute(driver_command, params)\n\u001b[1;32m    343\u001b[0m \u001b[38;5;28;01mif\u001b[39;00m response:\n\u001b[0;32m--> 344\u001b[0m     \u001b[38;5;28mself\u001b[39m\u001b[38;5;241m.\u001b[39merror_handler\u001b[38;5;241m.\u001b[39mcheck_response(response)\n\u001b[1;32m    345\u001b[0m     response[\u001b[38;5;124m\"\u001b[39m\u001b[38;5;124mvalue\u001b[39m\u001b[38;5;124m\"\u001b[39m] \u001b[38;5;241m=\u001b[39m \u001b[38;5;28mself\u001b[39m\u001b[38;5;241m.\u001b[39m_unwrap_value(response\u001b[38;5;241m.\u001b[39mget(\u001b[38;5;124m\"\u001b[39m\u001b[38;5;124mvalue\u001b[39m\u001b[38;5;124m\"\u001b[39m, \u001b[38;5;28;01mNone\u001b[39;00m))\n\u001b[1;32m    346\u001b[0m     \u001b[38;5;28;01mreturn\u001b[39;00m response\n",
      "File \u001b[0;32m~/anaconda3/lib/python3.11/site-packages/selenium/webdriver/remote/errorhandler.py:229\u001b[0m, in \u001b[0;36mErrorHandler.check_response\u001b[0;34m(self, response)\u001b[0m\n\u001b[1;32m    227\u001b[0m         alert_text \u001b[38;5;241m=\u001b[39m value[\u001b[38;5;124m\"\u001b[39m\u001b[38;5;124malert\u001b[39m\u001b[38;5;124m\"\u001b[39m]\u001b[38;5;241m.\u001b[39mget(\u001b[38;5;124m\"\u001b[39m\u001b[38;5;124mtext\u001b[39m\u001b[38;5;124m\"\u001b[39m)\n\u001b[1;32m    228\u001b[0m     \u001b[38;5;28;01mraise\u001b[39;00m exception_class(message, screen, stacktrace, alert_text)  \u001b[38;5;66;03m# type: ignore[call-arg]  # mypy is not smart enough here\u001b[39;00m\n\u001b[0;32m--> 229\u001b[0m \u001b[38;5;28;01mraise\u001b[39;00m exception_class(message, screen, stacktrace)\n",
      "\u001b[0;31mInvalidSelectorException\u001b[0m: Message: invalid selector: The result of the xpath expression \"/\" is: [object HTMLDocument]. It should be an element.\n  (Session info: chrome=117.0.5938.149); For documentation on this error, please visit: https://www.selenium.dev/documentation/webdriver/troubleshooting/errors#invalid-selector-exception\nStacktrace:\n0   chromedriver                        0x0000000100692d98 chromedriver + 4337048\n1   chromedriver                        0x000000010068ae14 chromedriver + 4304404\n2   chromedriver                        0x00000001002b7a5c chromedriver + 293468\n3   chromedriver                        0x00000001002bccc8 chromedriver + 314568\n4   chromedriver                        0x00000001002be8dc chromedriver + 321756\n5   chromedriver                        0x00000001002bea08 chromedriver + 322056\n6   chromedriver                        0x00000001002fcaf4 chromedriver + 576244\n7   chromedriver                        0x0000000100337908 chromedriver + 817416\n8   chromedriver                        0x00000001002f0a5c chromedriver + 526940\n9   chromedriver                        0x00000001002f1908 chromedriver + 530696\n10  chromedriver                        0x0000000100658de4 chromedriver + 4099556\n11  chromedriver                        0x000000010065d2a0 chromedriver + 4117152\n12  chromedriver                        0x000000010066352c chromedriver + 4142380\n13  chromedriver                        0x000000010065dda0 chromedriver + 4119968\n14  chromedriver                        0x0000000100635a74 chromedriver + 3955316\n15  chromedriver                        0x000000010067aa48 chromedriver + 4237896\n16  chromedriver                        0x000000010067abc4 chromedriver + 4238276\n17  chromedriver                        0x000000010068aa8c chromedriver + 4303500\n18  libsystem_pthread.dylib             0x000000018d5effa8 _pthread_start + 148\n19  libsystem_pthread.dylib             0x000000018d5eada0 thread_start + 8\n"
     ]
    }
   ],
   "source": [
    "# call the function I made\n",
    "script = dynamic_web_crawler(url, script_xpath_list, xpath)"
   ]
  },
  {
   "cell_type": "code",
   "execution_count": null,
   "id": "93349445",
   "metadata": {},
   "outputs": [],
   "source": [
    "script"
   ]
  },
  {
   "cell_type": "code",
   "execution_count": null,
   "id": "8d9387c3",
   "metadata": {
    "scrolled": false
   },
   "outputs": [],
   "source": [
    "# check the return value of the function \n",
    "print(\"type of script variable is\", type(script), '\\n')\n",
    "print(\"length of script variable is\", len(script), '\\n')\n",
    "print(\"contents of script variable is \\n\", script)"
   ]
  },
  {
   "cell_type": "markdown",
   "id": "6cc0462d",
   "metadata": {},
   "source": [
    "## Step 2. Get dialogues without actions\n",
    "* dropout actions : measure the depth between the characters using network analysis, not mise en scene(in the scene)\n",
    "* make dataframe : make a dataframe with charector and dialogue"
   ]
  },
  {
   "cell_type": "markdown",
   "id": "6628a5af",
   "metadata": {},
   "source": [
    "## make a function named 'pp1'(preprocessing1)\n",
    "* delete the text that matches the condition\n",
    "    * first line of the script : release date\n",
    "    * second paragraph of the script : summary of the episode \n",
    "    * the actual script starts with the three star marks (* * *)\n"
   ]
  },
  {
   "cell_type": "markdown",
   "id": "34a7eb96",
   "metadata": {},
   "source": [
    "<img src=\"./image/4.PNG\" width=\"700\" />"
   ]
  },
  {
   "cell_type": "code",
   "execution_count": null,
   "id": "b3264731",
   "metadata": {},
   "outputs": [],
   "source": [
    "def pp1(script) :  \n",
    "    \"\"\"\n",
    "    function name : pp1\n",
    "    input parameter : script\n",
    "    output parameter : preprocessed script(erase the text which is not script)\n",
    "    \"\"\"\n",
    "\n",
    "    full_script = script[0]  \n",
    "    # second paragraph of the script : summary of the episode \n",
    "    full_script = full_script.split('\\n', 2)[2]\n",
    "    # the actual script starts with the three star marks (* * *)\n",
    "    full_script = full_script.split('*', 3)[3]\n",
    "    return full_script"
   ]
  },
  {
   "cell_type": "code",
   "execution_count": null,
   "id": "7bc68e75",
   "metadata": {},
   "outputs": [],
   "source": [
    "# call pp1\n",
    "pp1_script = pp1(script)"
   ]
  },
  {
   "cell_type": "code",
   "execution_count": null,
   "id": "e5a772c1",
   "metadata": {},
   "outputs": [],
   "source": [
    "# result of pp1 \n",
    "pp1_script "
   ]
  },
  {
   "cell_type": "markdown",
   "id": "fb7f39c4",
   "metadata": {},
   "source": [
    "## make a function named 'pp2'(preprocessing2)\n",
    "* dropout the actions in the script\n",
    "    * split the text data with the newline delimeter('\\n[')\n",
    "    * if there is just a bracelet(ex. []) with no other line, then that's an Action(in korean 지문)\n",
    "    * if there is a bracelet with some lines, then that is a dialogue(in korean 대사)\n",
    "        * in this case, the words in bracelet is the character's name "
   ]
  },
  {
   "cell_type": "markdown",
   "id": "e33683e7",
   "metadata": {},
   "source": [
    "<img src=\"./image/5.jpg\" width=\"700\" />"
   ]
  },
  {
   "cell_type": "code",
   "execution_count": null,
   "id": "43733615",
   "metadata": {},
   "outputs": [],
   "source": [
    "def isDialogue(line) : \n",
    "    \"\"\"\n",
    "    function name : isDialogue\n",
    "    input parameter : line\n",
    "    output parameter : Boolean\n",
    "    \"\"\"\n",
    "    bracelet_idx = line.find(']')\n",
    "    line_len = len(line)\n",
    "    print(line, bracelet_idx, line_len )\n",
    "    # check if line has no words\n",
    "    if (line_len < 1) |\\\n",
    "        ((bracelet_idx>0) & ((bracelet_idx+1)==line_len)):\n",
    "        #check if there is just action with braclet \n",
    "        # then, it is an action so return False \n",
    "        return False \n",
    "    else :  \n",
    "        return True"
   ]
  },
  {
   "cell_type": "code",
   "execution_count": null,
   "id": "42748761",
   "metadata": {},
   "outputs": [],
   "source": [
    "def pp2(script) :  \n",
    "    \"\"\"\n",
    "    function name : pp2\n",
    "    input parameter : script\n",
    "    output parameter : preprocessed script(dropout Actions)\n",
    "    \"\"\"\n",
    "    # split the text data with the newline delimeter('\\n[')\n",
    "    # I used the delimeter '\\n[' because there is newline('\\n') between some dialogues \n",
    "    full_script = script.split('\\n[')\n",
    "    # using list comprehension, dropout actions, gather dialogues\n",
    "    full_script = [line for line in full_script if isDialogue(line)]\n",
    "    return full_script"
   ]
  },
  {
   "cell_type": "code",
   "execution_count": null,
   "id": "05e5f951",
   "metadata": {},
   "outputs": [],
   "source": [
    "# pp2(pp1_script)\n",
    "pp2_script = pp2(pp1_script)"
   ]
  },
  {
   "cell_type": "code",
   "execution_count": null,
   "id": "5195917a",
   "metadata": {},
   "outputs": [],
   "source": [
    "pp2_script"
   ]
  },
  {
   "cell_type": "markdown",
   "id": "ca135b28",
   "metadata": {},
   "source": [
    "## make a function named 'pp3'(preprocessing3)"
   ]
  },
  {
   "cell_type": "markdown",
   "id": "658eb2a1",
   "metadata": {},
   "source": [
    "* I'll use the function name 'pp3'(preprocessing3)\n",
    "    * split the text data with the newline delimeter(']')\n",
    "    * put this data in DataFrame (columns = ['character', 'dialogue'])"
   ]
  },
  {
   "cell_type": "code",
   "execution_count": null,
   "id": "41a44d8e",
   "metadata": {},
   "outputs": [],
   "source": [
    "def pp3(script) :\n",
    "    \"\"\"\n",
    "    function name : pp3\n",
    "    input parameter : script\n",
    "    output parameter : dataframe of script\n",
    "    \"\"\"    \n",
    "    # using split methods, devide the line into character and diagloue\n",
    "    # and make it as an pandas dataframe \n",
    "    script_df = pd.DataFrame({  'character':[line.split(']')[0].strip() for line in script]\n",
    "                              , 'dialogue':[line.split(']')[1].lstrip().replace('\\n', '') for line in script]})\n",
    "    return script_df"
   ]
  },
  {
   "cell_type": "code",
   "execution_count": null,
   "id": "cc021d4b",
   "metadata": {},
   "outputs": [],
   "source": [
    "pp3_script = pp3(pp2_script)"
   ]
  },
  {
   "cell_type": "code",
   "execution_count": null,
   "id": "5a583303",
   "metadata": {
    "scrolled": false
   },
   "outputs": [],
   "source": [
    "pp3_script.head(10)"
   ]
  },
  {
   "cell_type": "markdown",
   "id": "9dd65a1c",
   "metadata": {},
   "source": [
    "## make a function named 'modify_dialogue'(modify_dialogue)\n",
    "* There are some errors in the dataFrame\n",
    "    * some line don't follow the rules \n",
    "    * find the irregular one and modify like below "
   ]
  },
  {
   "cell_type": "markdown",
   "id": "d9abbce2",
   "metadata": {},
   "source": [
    "<img src=\"./image/6.jpg\" width=\"500\" />"
   ]
  },
  {
   "cell_type": "code",
   "execution_count": null,
   "id": "86b7bd72",
   "metadata": {},
   "outputs": [],
   "source": [
    "#check the dataframe column 'character' which does not have a character's name \n",
    "pp3_script['character'].value_counts().index.to_list()"
   ]
  },
  {
   "cell_type": "code",
   "execution_count": null,
   "id": "bfb12b48",
   "metadata": {},
   "outputs": [],
   "source": [
    "# extract some actions in character column\n",
    "notcharectors_list = [\n",
    " 'breathes deeply',\n",
    " 'gasps',\n",
    " 'grunts',\n",
    " 'sighs',\n",
    " 'in Korean',\n",
    " 'inhales',\n",
    " 'chuckles',\n",
    " 'pensive music continues',\n",
    " 'inhales sharply',\n",
    " 'in English',\n",
    " 'shaky breathing',\n",
    " 'inhales deeply',\n",
    " 'exhales',\n",
    " 'somber music',\n",
    " 'Il-nam breathing heavily',\n",
    " 'man groans',\n",
    " 'clicks tongue',\n",
    " 'tense music',\n",
    " 'Il-nam exhales',\n",
    " 'upbeat music on TV',\n",
    " 'Il-nam gulping water',\n",
    " 'Gi-hun gasps',\n",
    " 'ticking',\n",
    " 'shouts angrily',\n",
    " 'Il-nam grunting',\n",
    " 'clock ticking',\n",
    " 'dramatic music continues',\n",
    " 'heart rate monitor beeping',\n",
    " 'bank manager chuckles',\n",
    " 'Gi-hun sighs',\n",
    " 'labored breathing',\n",
    " 'sucks teeth, inhales',\n",
    " 'Gi-hun breathing heavily',\n",
    " 'nervous chuckle',\n",
    " 'whimpering',\n",
    " 'rain pouring',\n",
    " 'yelps',\n",
    " 'dramatic music',\n",
    " 'groans',\n",
    " 'Sang-woo cries in pain',\n",
    " 'dramatic music swells',\n",
    " 'heavy breath',\n",
    " 'pants',\n",
    " 'somber music continues',\n",
    " 'Sang-woo gags',\n",
    " 'Gi-hun whimpers',\n",
    " 'Gi-hun crying',\n",
    " 'gulps',\n",
    " 'wailing',\n",
    " 'chokes',\n",
    " 'evangelist',\n",
    " 'suspenseful music',\n",
    " 'heavy breathing',\n",
    " 'automated voice',\n",
    " 'beeps',\n",
    " 'beeping',\n",
    " 'panting',\n",
    " 'pensive music',\n",
    "]\n",
    "\n",
    "\n",
    "# join the noncharacters_list with join function \n",
    "nochar_str = '|'.join(notcharectors_list)"
   ]
  },
  {
   "cell_type": "code",
   "execution_count": null,
   "id": "a1d70b46",
   "metadata": {},
   "outputs": [],
   "source": [
    "# using the condition I made in upper cell(nonchar_str), get the rows to be modifed \n",
    "redo_index = pp3_script[pp3_script['character'].str.contains(nochar_str)].index"
   ]
  },
  {
   "cell_type": "code",
   "execution_count": null,
   "id": "f1bf77ec",
   "metadata": {},
   "outputs": [],
   "source": [
    "redo_index"
   ]
  },
  {
   "cell_type": "code",
   "execution_count": null,
   "id": "4e446447",
   "metadata": {},
   "outputs": [],
   "source": [
    "def modify_dialogue(line):\n",
    "    \"\"\"\n",
    "    function name : modify_dialogue\n",
    "    input parameter : line\n",
    "    output parameter : None \n",
    "    \"\"\"    \n",
    "    print(\"!\")\n",
    "    # get the index of the parameter\n",
    "    append_tar = line.index\n",
    "    # using + operator, concat the problem line with the line before the problem line\n",
    "    for i in append_tar:\n",
    "        pp3_script.loc[i-1, 'dialogue'] = pp3_script.loc[i-1, 'dialogue'] + pp3_script.loc[i, 'dialogue']\n",
    "        \n"
   ]
  },
  {
   "cell_type": "code",
   "execution_count": null,
   "id": "7166f906",
   "metadata": {},
   "outputs": [],
   "source": [
    "# call modify_dialogue function\n",
    "modify_dialogue(pp3_script[pp3_script['character'].str.contains(nochar_str)])"
   ]
  },
  {
   "cell_type": "code",
   "execution_count": null,
   "id": "ec3e0365",
   "metadata": {},
   "outputs": [],
   "source": [
    "# pd.options.display.max_colwidth = 2000\n",
    "# check the result \n",
    "pp3_script['dialogue'].head(11)"
   ]
  },
  {
   "cell_type": "code",
   "execution_count": null,
   "id": "e7566cde",
   "metadata": {},
   "outputs": [],
   "source": [
    "pp3_script"
   ]
  },
  {
   "cell_type": "code",
   "execution_count": null,
   "id": "1da7dfa1",
   "metadata": {},
   "outputs": [],
   "source": [
    "# remove the action line in the dataframe\n",
    "pp3_script.drop(redo_index, inplace=True)\n",
    "pp3_script.reset_index(inplace=True, drop=True)"
   ]
  },
  {
   "cell_type": "code",
   "execution_count": null,
   "id": "ff2d7f89",
   "metadata": {},
   "outputs": [],
   "source": [
    "# check the result \n",
    "pp3_script.head(11)"
   ]
  },
  {
   "cell_type": "code",
   "execution_count": null,
   "id": "77110724",
   "metadata": {},
   "outputs": [],
   "source": [
    "from nltk import word_tokenize, pos_tag, ne_chunk"
   ]
  },
  {
   "cell_type": "code",
   "execution_count": null,
   "id": "55f00d03",
   "metadata": {},
   "outputs": [],
   "source": [
    "ne_chunk(pp3_script['dialogue'][0])\n",
    "# print(ner_sentence)"
   ]
  },
  {
   "cell_type": "code",
   "execution_count": null,
   "id": "b0df1dcc",
   "metadata": {},
   "outputs": [],
   "source": [
    "import nltk\n",
    "nltk.download()"
   ]
  },
  {
   "cell_type": "code",
   "execution_count": null,
   "id": "be073553",
   "metadata": {},
   "outputs": [],
   "source": []
  }
 ],
 "metadata": {
  "kernelspec": {
   "display_name": "Python 3 (ipykernel)",
   "language": "python",
   "name": "python3"
  },
  "language_info": {
   "codemirror_mode": {
    "name": "ipython",
    "version": 3
   },
   "file_extension": ".py",
   "mimetype": "text/x-python",
   "name": "python",
   "nbconvert_exporter": "python",
   "pygments_lexer": "ipython3",
   "version": "3.11.4"
  }
 },
 "nbformat": 4,
 "nbformat_minor": 5
}
