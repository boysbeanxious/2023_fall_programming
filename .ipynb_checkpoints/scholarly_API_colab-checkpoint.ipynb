{
 "cells": [
  {
   "cell_type": "markdown",
   "id": "005e333e",
   "metadata": {
    "id": "005e333e"
   },
   "source": [
    "# meta 분석을 위한 논문 데이터 크롤링"
   ]
  },
  {
   "cell_type": "markdown",
   "id": "e2fc5a97",
   "metadata": {
    "id": "e2fc5a97"
   },
   "source": [
    " * ### 현재 진행하는 프로젝트에서 기업문화의 DE&I(Diversity Equity and In)를 위한 메타 분석 진행\n",
    " * ### Diversity와 organization을 키워드로 하여 어떤 논문들이 출판되었는지 확인을 위해 데이터 수집\n",
    " * ### Google Scholar에서 제공하는 API를 활용"
   ]
  },
  {
   "cell_type": "code",
   "execution_count": null,
   "id": "3uIl4y5TeH3q",
   "metadata": {
    "colab": {
     "base_uri": "https://localhost:8080/"
    },
    "id": "3uIl4y5TeH3q",
    "outputId": "392e1abd-cb0a-458d-c733-0db2d4981505"
   },
   "outputs": [],
   "source": [
    "# !pip3 install -U git+https://github.com/scholarly-python-package/scholarly.git"
   ]
  },
  {
   "cell_type": "code",
   "execution_count": null,
   "id": "B0G0YI_Tgn5U",
   "metadata": {
    "colab": {
     "base_uri": "https://localhost:8080/"
    },
    "id": "B0G0YI_Tgn5U",
    "outputId": "64409b27-9f6c-4c36-f66c-ac66438f0c78"
   },
   "outputs": [],
   "source": [
    "# !pip install fake-useragent --upgrade"
   ]
  },
  {
   "cell_type": "code",
   "execution_count": null,
   "id": "ONFxWGUHjo4z",
   "metadata": {
    "colab": {
     "base_uri": "https://localhost:8080/"
    },
    "id": "ONFxWGUHjo4z",
    "outputId": "3d99d641-b886-4556-9d21-433b57c2bf4f"
   },
   "outputs": [],
   "source": [
    "# !pip install FreeProxy"
   ]
  },
  {
   "cell_type": "code",
   "execution_count": null,
   "id": "b0a208f7",
   "metadata": {
    "id": "b0a208f7"
   },
   "outputs": [],
   "source": [
    "# https://pypi.org/project/scholarly/\n",
    "# scholarlyORG에서 API패키지 제공\n",
    "from scholarly import scholarly\n",
    "\n",
    "#출력을 위하여 pprint import\n",
    "import pprint\n",
    "pp = pprint.PrettyPrinter(width=100, compact=True)\n",
    "\n",
    "import pandas as pd\n",
    "\n",
    "import json\n",
    "\n",
    "import time\n",
    "\n",
    "from scholarly import ProxyGenerator"
   ]
  },
  {
   "cell_type": "code",
   "execution_count": null,
   "id": "dd63cfe1",
   "metadata": {
    "colab": {
     "base_uri": "https://localhost:8080/"
    },
    "id": "dd63cfe1",
    "outputId": "280a0586-9572-4252-b193-04d9554ee5fa"
   },
   "outputs": [],
   "source": [
    "# scholarly 패키지에서 사용할 수 있는 함수 보고 싶은 경우 import 후 help 실행하면 확인 가능\n",
    "help(scholarly)"
   ]
  },
  {
   "cell_type": "code",
   "execution_count": null,
   "id": "d0e1a391",
   "metadata": {
    "id": "d0e1a391",
    "outputId": "0174ca8c-b317-4e2b-d8e5-a3699c901145"
   },
   "outputs": [],
   "source": [
    "# API페이지에 나와있는 예시 소스코드로 테스트\n",
    "## 에러 발생! > 에러내용을 살펴보면 __next__에서 에러가 난것으로 검색결과가 없어서 next호출 도중에 문제가 발생한것을 알 수 있음\n",
    "search_query = scholarly.search_pubs('Perception of physical stability and center of mass of 3D objects')\n",
    "scholarly.pprint(next(search_query))"
   ]
  },
  {
   "cell_type": "code",
   "execution_count": null,
   "id": "ac7a5423",
   "metadata": {
    "colab": {
     "base_uri": "https://localhost:8080/"
    },
    "id": "ac7a5423",
    "outputId": "0dc5525e-bb1d-4b67-9ab7-b620a4f00f3b"
   },
   "outputs": [],
   "source": [
    "# try catch 구문을 사용하여 처리 가능\n",
    "## 위 에러메시지에서 출력한 StopIteration 클래스를 except 구문에 넣어 에러 조치\n",
    "search_query = scholarly.search_pubs('Perception of physical stability and center of mass of 3D objects')\n",
    "try :\n",
    "    scholarly.pprint(next(search_query))\n",
    "except StopIteration:\n",
    "    print(\"더이상 논문이 존재하지 않습니다\")\n"
   ]
  },
  {
   "cell_type": "code",
   "execution_count": null,
   "id": "aaf39371",
   "metadata": {
    "colab": {
     "base_uri": "https://localhost:8080/"
    },
    "id": "aaf39371",
    "outputId": "57614255-87b9-49df-eed9-de0d4aae5cc7"
   },
   "outputs": [],
   "source": [
    "# try-catch구문을 사용하여 diversity와 organization 키워드가 들어있는 논문 검색\n",
    "\n",
    "try :\n",
    "    search_query = scholarly.search_pubs('diversity organization')\n",
    "    pub = next(search_query)\n",
    "\n",
    "except StopIteration:\n",
    "    print(\"더이상 논문이 존재하지 않습니다\")\n",
    "\n",
    "\n",
    "pp.pprint(pub)"
   ]
  },
  {
   "cell_type": "code",
   "execution_count": null,
   "id": "ec1574e3",
   "metadata": {
    "colab": {
     "base_uri": "https://localhost:8080/",
     "height": 36
    },
    "id": "ec1574e3",
    "outputId": "5af84518-84da-433a-997a-ef70a550f797"
   },
   "outputs": [],
   "source": [
    "pub['bib']['title']"
   ]
  },
  {
   "cell_type": "code",
   "execution_count": null,
   "id": "55bfb753",
   "metadata": {
    "colab": {
     "base_uri": "https://localhost:8080/"
    },
    "id": "55bfb753",
    "outputId": "f8e7d237-37e9-4090-e0ca-b5da465b5216"
   },
   "outputs": [],
   "source": [
    "type(pub)"
   ]
  },
  {
   "cell_type": "code",
   "execution_count": null,
   "id": "c64a3da0",
   "metadata": {
    "colab": {
     "base_uri": "https://localhost:8080/"
    },
    "id": "c64a3da0",
    "outputId": "3b995b26-7899-49a7-ba8d-d5fcde572653"
   },
   "outputs": [],
   "source": [
    "type(pub['bib'])"
   ]
  },
  {
   "cell_type": "code",
   "execution_count": null,
   "id": "_gzcEK7Ypxit",
   "metadata": {
    "id": "_gzcEK7Ypxit"
   },
   "outputs": [],
   "source": [
    "pg = ProxyGenerator()\n",
    "pg.FreeProxies()\n",
    "scholarly.use_proxy(pg)"
   ]
  },
  {
   "cell_type": "code",
   "execution_count": null,
   "id": "OhEOZ8uuqGfP",
   "metadata": {
    "id": "OhEOZ8uuqGfP"
   },
   "outputs": [],
   "source": [
    "proxy_works = scholarly.use_proxy(pg)"
   ]
  },
  {
   "cell_type": "code",
   "execution_count": null,
   "id": "Ns-WebJ0qKz6",
   "metadata": {
    "colab": {
     "base_uri": "https://localhost:8080/"
    },
    "id": "Ns-WebJ0qKz6",
    "outputId": "dffcbb90-409f-4b6d-e0b5-32f6a3ec739a"
   },
   "outputs": [],
   "source": [
    "print(proxy_works)"
   ]
  },
  {
   "cell_type": "code",
   "execution_count": null,
   "id": "ce00c049",
   "metadata": {
    "colab": {
     "base_uri": "https://localhost:8080/",
     "height": 400
    },
    "id": "ce00c049",
    "outputId": "6adac4fc-84cc-4102-f3ea-23d3e72b9c5c",
    "scrolled": true
   },
   "outputs": [],
   "source": [
    "# # try-catch구문을 사용하여 diversity와 organization 키워드가 들어있는 논문 검색\n",
    "\n",
    "# # 전체 정보를 저장하기 위한 데이터 프레임 생성\n",
    "# df_do = pd.DataFrame()\n",
    "\n",
    "# # bibiograph정보를 저장하기 위한 데이터 프레인 생성\n",
    "# df_bib = pd.DataFrame()\n",
    "\n",
    "# try :\n",
    "#     # 논문 크롤링 진척률을 확인하기 위해 텍스트 파일 생성\n",
    "#     file = open('title.txt', 'w')\n",
    "\n",
    "\n",
    "\n",
    "#     # scholarly 패기지의 search_pubs 함수를 활용하여 diversity organization을 키워드로 논문 검색\n",
    "#     search_query = scholarly.search_pubs('diversity organization')\n",
    "\n",
    "#     # 검색 결과가 없을때까지 search_query에 저장된 논문정보 꺼내오기\n",
    "#     while True :\n",
    "#         # 다음이 있는경우\n",
    "#         pub = next(search_query).fill() # dictionary type data\n",
    "#         # 전체 정보를 저장\n",
    "#         # 한 행을 데이터 프레임에 입력할 경우 []를 사용하여 행이라는 표시를 해주어야 에러 없이 입력되므로\n",
    "#         # [pub.items()]로 작성하여 신규 데이터 프레임 생성\n",
    "#         # 출처 : https://stackoverflow.com/questions/50185926/valueerror-shape-of-passed-values-is-1-6-indices-imply-6-6\n",
    "#         df = pd.DataFrame([pub.items()], columns=list(pub.keys()))\n",
    "#         df_do = pd.concat([df_do, df] , axis = 0 )\n",
    "\n",
    "#         # bibiograph정보를 저장\n",
    "#         bib = pub['bib']\n",
    "\n",
    "#         df = pd.DataFrame([bib.items()], columns=list(bib.keys()))\n",
    "#         df_bib = pd.concat([df_bib, df] , axis = 0 )\n",
    "\n",
    "#         # 파일에 작업한 논문의 제목 저장\n",
    "#         file.write(pub['bib']['title'])\n",
    "\n",
    "# # 더이상 논문이 없는경우 문자열 출력하고 종료\n",
    "# except StopIteration:\n",
    "#     print(\"더이상 논문이 존재하지 않습니다\")\n",
    "#     #논문 크롤링이 끝난 경우 파일 닫기\n",
    "#     file.close()\n",
    "\n",
    "\n",
    "# pp.pprint(pub)"
   ]
  },
  {
   "cell_type": "code",
   "execution_count": null,
   "id": "-DGeHlYGgh6c",
   "metadata": {
    "id": "-DGeHlYGgh6c"
   },
   "outputs": [],
   "source": [
    "def set_new_proxy():\n",
    "    # while True:\n",
    "    pg = ProxyGenerator()\n",
    "    pg.FreeProxies()\n",
    "    proxy_works = scholarly.use_proxy(pg)\n",
    "\n",
    "    # if proxy_works:\n",
    "    #     break\n",
    "    print(\"Working proxy:\", pg)\n",
    "    return pg\n"
   ]
  },
  {
   "cell_type": "code",
   "execution_count": null,
   "id": "_J4BBddSihKU",
   "metadata": {
    "id": "_J4BBddSihKU"
   },
   "outputs": [],
   "source": [
    "def get_articleInfo(title):\n",
    "    while True:\n",
    "        try:\n",
    "            search_query = scholarly.search_pubs(title)\n",
    "            print(\"Got the results of the query\")\n",
    "            break\n",
    "        except Exception as e:\n",
    "            print(\"Trying new proxy\")\n",
    "            set_new_proxy()\n",
    "\n",
    "    file = open('title.txt', 'w')\n",
    "\n",
    "\n",
    "    while True:\n",
    "        try:\n",
    "            pub = next(search_query)\n",
    "            df = pd.DataFrame([pub.items()], columns=list(pub.keys()))\n",
    "            df_do = pd.concat([df_do, df] , axis = 0 )\n",
    "\n",
    "            # bibiograph정보를 저장\n",
    "            bib = pub['bib']\n",
    "\n",
    "            df = pd.DataFrame([bib.items()], columns=list(bib.keys()))\n",
    "            df_bib = pd.concat([df_bib, df] , axis = 0 )\n",
    "\n",
    "            # 파일에 작업한 논문의 제목 저장\n",
    "            file.write(pub['bib']['title'])\n",
    "        except StopIteration:\n",
    "            print(\"더이상 논문이 존재하지 않습니다\")\n",
    "            #논문 크롤링이 끝난 경우 파일 닫기\n",
    "            file.close()\n",
    "            is_crawling = False\n",
    "            break\n",
    "        except Exception as e:\n",
    "            print(\"Trying new proxy : \", e)\n",
    "            set_new_proxy()\n",
    "    return pub"
   ]
  },
  {
   "cell_type": "code",
   "execution_count": null,
   "id": "Au85tjqDgkQE",
   "metadata": {
    "colab": {
     "base_uri": "https://localhost:8080/",
     "height": 489
    },
    "id": "Au85tjqDgkQE",
    "outputId": "e7fd0a24-728f-4e14-e53f-9f7c1d893d7d"
   },
   "outputs": [],
   "source": [
    "# source_data = open(\"iclr_year_conf_title_author_url_biburl_final_2017-2019.txt\")\n",
    "# line = source_data.readline()\n",
    "# 전체 정보를 저장하기 위한 데이터 프레임 생성\n",
    "df_do = pd.DataFrame()\n",
    "\n",
    "# bibiograph정보를 저장하기 위한 데이터 프레인 생성\n",
    "df_bib = pd.DataFrame()\n",
    "\n",
    "is_crawling = True\n",
    "while is_crawling:\n",
    "    nowTime = time.strftime(\"%Y-%m-%d %H:%M:%S\")\n",
    "    print(\"-------------------------------------------------\")\n",
    "    print(nowTime)\n",
    "    print(get_articleInfo('diversity organization'))\n",
    "    print()"
   ]
  },
  {
   "cell_type": "code",
   "execution_count": null,
   "id": "013c441e",
   "metadata": {
    "colab": {
     "base_uri": "https://localhost:8080/",
     "height": 329
    },
    "id": "013c441e",
    "outputId": "2287dad3-5cb1-4751-9890-70cc09a5393a"
   },
   "outputs": [],
   "source": [
    " search_query = scholarly.search_pubs('diversity organization')"
   ]
  },
  {
   "cell_type": "code",
   "execution_count": null,
   "id": "c1a03eac",
   "metadata": {
    "id": "c1a03eac",
    "outputId": "6744d3c3-0833-493f-d467-9f6ade86cee4"
   },
   "outputs": [],
   "source": [
    "pd.DataFrame(pub)"
   ]
  },
  {
   "cell_type": "code",
   "execution_count": null,
   "id": "75b6d50e",
   "metadata": {
    "id": "75b6d50e",
    "outputId": "2f3169fb-4b8c-4965-ca9b-b60be0dab876"
   },
   "outputs": [],
   "source": [
    "print(type(pub.keys()))\n",
    "print(type(pub.items()))"
   ]
  },
  {
   "cell_type": "code",
   "execution_count": null,
   "id": "c8ba180a",
   "metadata": {
    "id": "c8ba180a"
   },
   "outputs": [],
   "source": [
    "# You want [data] for pandas to understand they're rows.\n",
    "# https://stackoverflow.com/questions/50185926/valueerror-shape-of-passed-values-is-1-6-indices-imply-6-6\n",
    "df = pd.DataFrame([pub.items()], columns=list(pub.keys()))"
   ]
  },
  {
   "cell_type": "code",
   "execution_count": null,
   "id": "e0cfcb9e",
   "metadata": {
    "id": "e0cfcb9e",
    "scrolled": true
   },
   "outputs": [],
   "source": [
    "df_do = pd.DataFrame()"
   ]
  },
  {
   "cell_type": "code",
   "execution_count": null,
   "id": "9581d865",
   "metadata": {
    "id": "9581d865",
    "outputId": "952a4b19-00a9-430a-9598-93d452605f1d"
   },
   "outputs": [],
   "source": [
    "pd.concat([df_do, df] , axis = 0 )"
   ]
  },
  {
   "cell_type": "code",
   "execution_count": null,
   "id": "2bfc41f7",
   "metadata": {
    "id": "2bfc41f7",
    "outputId": "8b52246d-1d5e-4d7c-f2a5-242996cba000"
   },
   "outputs": [],
   "source": [
    "# pd.DataFrame(columns = list(pub.keys()), data = list(pub.values()))\n",
    "\n",
    "pd.DataFrame(pd.Series(list(pub.values()), index=list(pub.keys()), ignore_index = True))\n"
   ]
  },
  {
   "cell_type": "code",
   "execution_count": null,
   "id": "d8c9c237",
   "metadata": {
    "id": "d8c9c237",
    "outputId": "c7fc5159-69c0-48c7-ec06-4f221c67b5d9"
   },
   "outputs": [],
   "source": [
    "list(pub.values())"
   ]
  },
  {
   "cell_type": "code",
   "execution_count": null,
   "id": "9a460377",
   "metadata": {
    "id": "9a460377"
   },
   "outputs": [],
   "source": [
    "pd.DataFrame(pub, columns = list(pub.keys()) )"
   ]
  },
  {
   "cell_type": "code",
   "execution_count": null,
   "id": "819ed0a4",
   "metadata": {
    "id": "819ed0a4"
   },
   "outputs": [],
   "source": [
    "pub['author_id']\n",
    "pub['author_id']"
   ]
  },
  {
   "cell_type": "code",
   "execution_count": null,
   "id": "1a3ef49f",
   "metadata": {
    "id": "1a3ef49f"
   },
   "outputs": [],
   "source": [
    "pp.pprint(scholarly.bibtex(pub))"
   ]
  },
  {
   "cell_type": "code",
   "execution_count": null,
   "id": "58317ce6",
   "metadata": {
    "id": "58317ce6"
   },
   "outputs": [],
   "source": [
    "from scholarly import scholarly\n",
    "\n",
    "# Retrieve the author's data, fill-in, and print\n",
    "# Get an iterator for the author results\n",
    "search_query = scholarly.search_author('Steven A Cholewiak')\n",
    "# Retrieve the first result from the iterator\n",
    "first_author_result = next(search_query)\n",
    "scholarly.pprint(first_author_result)\n",
    "\n",
    "# Retrieve all the details for the author\n",
    "author = scholarly.fill(first_author_result )\n",
    "scholarly.pprint(author)\n",
    "\n",
    "# Take a closer look at the first publication\n",
    "first_publication = author['publications'][0]\n",
    "first_publication_filled = scholarly.fill(first_publication)\n",
    "scholarly.pprint(first_publication_filled)\n",
    "\n",
    "# Print the titles of the author's publications\n",
    "publication_titles = [pub['bib']['title'] for pub in author['publications']]\n",
    "print(publication_titles)\n",
    "\n",
    "# Which papers cited that publication?\n",
    "citations = [citation['bib']['title'] for citation in scholarly.citedby(first_publication_filled)]\n",
    "print(citations)"
   ]
  },
  {
   "cell_type": "code",
   "execution_count": null,
   "id": "ec935a2b",
   "metadata": {
    "id": "ec935a2b"
   },
   "outputs": [],
   "source": [
    "search_query = scholarly.search_keyword('diversity')\n",
    "scholarly.pprint(next(search_query))"
   ]
  },
  {
   "cell_type": "code",
   "execution_count": null,
   "id": "e30a868d",
   "metadata": {
    "id": "e30a868d"
   },
   "outputs": [],
   "source": [
    "search_query = scholarly.search_pubs('diversity')\n",
    "scholarly.pprint(next(search_query))"
   ]
  },
  {
   "cell_type": "code",
   "execution_count": null,
   "id": "17cf9298",
   "metadata": {
    "id": "17cf9298"
   },
   "outputs": [],
   "source": []
  }
 ],
 "metadata": {
  "colab": {
   "provenance": []
  },
  "kernelspec": {
   "display_name": "Python 3 (ipykernel)",
   "language": "python",
   "name": "python3"
  },
  "language_info": {
   "codemirror_mode": {
    "name": "ipython",
    "version": 3
   },
   "file_extension": ".py",
   "mimetype": "text/x-python",
   "name": "python",
   "nbconvert_exporter": "python",
   "pygments_lexer": "ipython3",
   "version": "3.11.4"
  }
 },
 "nbformat": 4,
 "nbformat_minor": 5
}
