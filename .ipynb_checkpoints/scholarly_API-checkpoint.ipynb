{
 "cells": [
  {
   "cell_type": "markdown",
   "id": "4707f92c",
   "metadata": {},
   "source": [
    "# meta 분석을 위한 논문 데이터 크롤링 "
   ]
  },
  {
   "cell_type": "markdown",
   "id": "80bef083",
   "metadata": {},
   "source": [
    " * ### 현재 진행하는 프로젝트에서 기업문화의 DE&I(Diversity Equity and In)를 위한 메타 분석 진행 \n",
    " * ### Diversity와 organization을 키워드로 하여 어떤 논문들이 출판되었는지 확인을 위해 데이터 수집 \n",
    " * ### Google Scholar에서 제공하는 API를 활용 "
   ]
  },
  {
   "cell_type": "code",
   "execution_count": 1,
   "id": "ae1fd68c",
   "metadata": {},
   "outputs": [],
   "source": [
    "# scholarlyORG에서 API패키지 제공\n",
    "from scholarly import scholarly\n",
    "\n",
    "#출력을 위하여 pprint import\n",
    "import pprint\n",
    "pp = pprint.PrettyPrinter(width=100, compact=True)\n",
    "\n",
    "import pandas as pd\n",
    "\n",
    "import json"
   ]
  },
  {
   "cell_type": "code",
   "execution_count": 2,
   "id": "0ec104e8",
   "metadata": {},
   "outputs": [
    {
     "name": "stdout",
     "output_type": "stream",
     "text": [
      "Help on _Scholarly in module scholarly._scholarly object:\n",
      "\n",
      "class _Scholarly(builtins.object)\n",
      " |  Class that manages the API for scholarly\n",
      " |  \n",
      " |  Methods defined here:\n",
      " |  \n",
      " |  __init__(self)\n",
      " |      Initialize self.  See help(type(self)) for accurate signature.\n",
      " |  \n",
      " |  bibtex(self, object: scholarly.data_types.Publication) -> str\n",
      " |      Returns a bibtex entry for a publication that has either Scholar source\n",
      " |      or citation source\n",
      " |      \n",
      " |      :param object: The Publication object for the bibtex exportation\n",
      " |      :type object: Publication\n",
      " |  \n",
      " |  citedby(self, object: scholarly.data_types.Publication) -> scholarly.publication_parser._SearchScholarIterator\n",
      " |      Searches Google Scholar for other articles that cite this Publication\n",
      " |      and returns a Publication generator.\n",
      " |      \n",
      " |      :param object: The Publication object for the bibtex exportation\n",
      " |      :type object: Publication\n",
      " |  \n",
      " |  download_mandates_csv(self, filename: str, overwrite: bool = False, include_links: bool = True)\n",
      " |      Download the CSV file of the current mandates.\n",
      " |  \n",
      " |  fill(self, object: dict, sections=[], sortby: str = 'citedby', publication_limit: int = 0) -> scholarly.data_types.Author\n",
      " |      Fills the object according to its type.\n",
      " |      If the container type is Author it will fill the additional author fields\n",
      " |      If it is Publication it will fill it accordingly.\n",
      " |      \n",
      " |      :param object: the Author or Publication object that needs to get filled\n",
      " |      :type object: Author or Publication\n",
      " |      :param sections: the sections that the user wants filled for an Author object. This can be: ['basics', 'indices', 'counts', 'coauthors', 'publications', 'public_access']\n",
      " |      :type sections: list\n",
      " |      :param sortby: if the object is an author, select the order of the citations in the author page. Either by 'citedby' or 'year'. Defaults to 'citedby'.\n",
      " |      :type sortby: string\n",
      " |      :param publication_limit: if the object is an author, select the max number of publications you want you want to fill for the author. Defaults to no limit.\n",
      " |      :type publication_limit: int\n",
      " |      \n",
      " |      Note:  For Author objects, if 'public_access' is filled prior to 'publications',\n",
      " |      only the total counts from the Public Access section of the author's profile page is filled.\n",
      " |      If 'public_access' is filled along with 'publications' or afterwards for the first time,\n",
      " |      the publication entries are also marked whether they satisfy public access mandates or not.\n",
      " |  \n",
      " |  get_journal_categories(self)\n",
      " |      Get a dict of journal categories and subcategories.\n",
      " |  \n",
      " |  get_journals(self, category='English', subcategory=None, include_comments: bool = False) -> Dict[int, scholarly.data_types.Journal]\n",
      " |  \n",
      " |  get_related_articles(self, object: scholarly.data_types.Publication) -> scholarly.publication_parser._SearchScholarIterator\n",
      " |      Search google scholar for related articles to a specific publication.\n",
      " |      \n",
      " |      :param object: Publication object used to get the related articles\n",
      " |      :type object: Publication\n",
      " |  \n",
      " |  pprint(self, object: scholarly.data_types.Author) -> None\n",
      " |      Pretty print an Author or Publication container object\n",
      " |      \n",
      " |      :param object: Publication or Author container object\n",
      " |      :type object: Author or Publication\n",
      " |  \n",
      " |  save_journals_csv(self, filename, category='English', subcategory=None, include_comments=False)\n",
      " |      Save a list of journals to a file in CSV format.\n",
      " |  \n",
      " |  search_author(self, name: str)\n",
      " |      Search by author name and return a generator of Author objects\n",
      " |      \n",
      " |      :Example::\n",
      " |      \n",
      " |          .. testcode::\n",
      " |      \n",
      " |              search_query = scholarly.search_author('Marty Banks, Berkeley')\n",
      " |              scholarly.pprint(next(search_query))\n",
      " |      \n",
      " |      :Output::\n",
      " |      \n",
      " |      .. testoutput::\n",
      " |      \n",
      " |          {'affiliation': 'Professor of Vision Science, UC Berkeley',\n",
      " |           'citedby': 21074,\n",
      " |           'email_domain': '@berkeley.edu',\n",
      " |           'filled': False,\n",
      " |           'interests': ['vision science', 'psychology', 'human factors', 'neuroscience'],\n",
      " |           'name': 'Martin Banks',\n",
      " |           'scholar_id': 'Smr99uEAAAAJ',\n",
      " |           'source': 'SEARCH_AUTHOR_SNIPPETS',\n",
      " |           'url_picture': 'https://scholar.google.com/citations?view_op=medium_photo&user=Smr99uEAAAAJ'}\n",
      " |  \n",
      " |  search_author_by_organization(self, organization_id: int)\n",
      " |      Search for authors in an organization and return a generator of Authors\n",
      " |      \n",
      " |      ``organization_id`` can be found from the organization name using\n",
      " |      ``search_org``. Alternatively, they can be found in the ``Author`` object.\n",
      " |      \n",
      " |      The returned authors are typically in the decreasing order of total citations.\n",
      " |      The authors must have a verified email address and set their affiliation\n",
      " |      appropriately to appear on this list.\n",
      " |      \n",
      " |      :param organization_id: unique integer id for each organization\n",
      " |      :type organization_id: integer\n",
      " |  \n",
      " |  search_author_custom_url(self, url: str) -> scholarly.data_types.Author\n",
      " |      Search by custom URL and return a generator of Author objects\n",
      " |      URL should be of the form '/citation?q=...'\n",
      " |      \n",
      " |      :param url: url for the custom author url\n",
      " |      :type url: string\n",
      " |  \n",
      " |  search_author_id(self, id: str, filled: bool = False, sortby: str = 'citedby', publication_limit: int = 0) -> scholarly.data_types.Author\n",
      " |      Search by author id and return a single Author object\n",
      " |      :param sortby: select the order of the citations in the author page. Either by 'citedby' or 'year'. Defaults to 'citedby'.\n",
      " |      :type sortby: string\n",
      " |      :param publication_limit: if the object is an author, select the max number of publications you want you want to fill for the author. Defaults to no limit.\n",
      " |      :type publication_limit: int\n",
      " |      \n",
      " |      :Example::\n",
      " |      \n",
      " |          .. testcode::\n",
      " |      \n",
      " |              search_query = scholarly.search_author_id('EmD_lTEAAAAJ')\n",
      " |              scholarly.pprint(search_query)\n",
      " |      \n",
      " |      :Output::\n",
      " |      \n",
      " |          .. testoutput::\n",
      " |      \n",
      " |              {'affiliation': 'Institut du radium, University of Paris',\n",
      " |               'citedby': 2208,\n",
      " |               'filled': False,\n",
      " |               'interests': [],\n",
      " |               'name': 'Marie Skłodowska-Curie',\n",
      " |               'scholar_id': 'EmD_lTEAAAAJ',\n",
      " |               'source': 'AUTHOR_PROFILE_PAGE',\n",
      " |               'url_picture': 'https://scholar.googleusercontent.com/citations?view_op=view_photo&user=EmD_lTEAAAAJ&citpid=3'}\n",
      " |  \n",
      " |  search_citedby(self, publication_id: Union[int, str], **kwargs)\n",
      " |      Searches by Google Scholar publication id and returns a generator of Publication objects.\n",
      " |      \n",
      " |      :param publication_id: Google Scholar publication id\n",
      " |      :type publication_id: int or str\n",
      " |      \n",
      " |      For the remaining parameters, see documentation of `search_pubs`.\n",
      " |  \n",
      " |  search_keyword(self, keyword: str)\n",
      " |      Search by keyword and return a generator of Author objects\n",
      " |      \n",
      " |      :param keyword: keyword to be searched\n",
      " |      :type keyword: str\n",
      " |      \n",
      " |      :Example::\n",
      " |      \n",
      " |      .. testcode::\n",
      " |      \n",
      " |          search_query = scholarly.search_keyword('Haptics')\n",
      " |          scholarly.pprint(next(search_query))\n",
      " |      \n",
      " |      :Output::\n",
      " |      \n",
      " |      .. testoutput::\n",
      " |      \n",
      " |          {'affiliation': 'Postdoctoral research assistant, University of Bremen',\n",
      " |           'citedby': 56666,\n",
      " |           'email_domain': '@collision-detection.com',\n",
      " |           'filled': False,\n",
      " |           'interests': ['Computer Graphics',\n",
      " |                         'Collision Detection',\n",
      " |                         'Haptics',\n",
      " |                         'Geometric Data Structures'],\n",
      " |           'name': 'Rene Weller',\n",
      " |           'scholar_id': 'lHrs3Y4AAAAJ',\n",
      " |           'source': 'SEARCH_AUTHOR_SNIPPETS',\n",
      " |           'url_picture': 'https://scholar.google.com/citations?view_op=medium_photo&user=lHrs3Y4AAAAJ'}\n",
      " |  \n",
      " |  search_keywords(self, keywords: List[str])\n",
      " |      Search by keywords and return a generator of Author objects\n",
      " |      \n",
      " |      :param keywords: a list of keywords to be searched\n",
      " |      :type keyword: List[str]\n",
      " |      \n",
      " |      :Example::\n",
      " |      \n",
      " |      .. testcode::\n",
      " |      \n",
      " |          search_query = scholarly.search_keywords(['crowdsourcing', 'privacy'])\n",
      " |          scholarly.pprint(next(search_query))\n",
      " |      \n",
      " |      :Output::\n",
      " |      \n",
      " |      .. testoutput::\n",
      " |              {'affiliation': 'Cornell University',\n",
      " |               'citedby': 40976,\n",
      " |               'email_domain': '',\n",
      " |               'filled': False,\n",
      " |               'interests': ['Crowdsourcing',\n",
      " |                             'privacy',\n",
      " |                             'social computing',\n",
      " |                             'game theory',\n",
      " |                             'user-generated content'],\n",
      " |               'name': 'Arpita Ghosh',\n",
      " |               'scholar_id': '_cMw1IUAAAAJ',\n",
      " |               'source': 'SEARCH_AUTHOR_SNIPPETS',\n",
      " |               'url_picture': 'https://scholar.google.com/citations?view_op=medium_photo&user=_cMw1IUAAAAJ'}\n",
      " |  \n",
      " |  search_org(self, name: str, fromauthor: bool = False) -> list\n",
      " |      Search by organization name and return a list of possible disambiguations\n",
      " |      \n",
      " |      :Example::\n",
      " |          .. testcode::\n",
      " |              search_query = scholarly.search_org('ucla')\n",
      " |              print(search_query)\n",
      " |      \n",
      " |      :Output::\n",
      " |          .. testoutput::\n",
      " |              [{'Organization': 'University of California, Los Angeles',\n",
      " |                'id': '14108176128635076915'},\n",
      " |               {'Organization': 'Universidad Centroccidental Lisandro Alvarado',\n",
      " |                'id': '9670678584336165373'}\n",
      " |              ]\n",
      " |  \n",
      " |  search_pubs(self, query: str, patents: bool = True, citations: bool = True, year_low: int = None, year_high: int = None, sort_by: str = 'relevance', include_last_year: str = 'abstracts', start_index: int = 0) -> scholarly.publication_parser._SearchScholarIterator\n",
      " |      Searches by query and returns a generator of Publication objects\n",
      " |      \n",
      " |      :param query: terms to be searched\n",
      " |      :type query: str\n",
      " |      :param patents: Whether or not to include patents, defaults to True\n",
      " |      :type patents: bool, optional\n",
      " |      :param citations: Whether or not to include citations, defaults to True\n",
      " |      :type citations: bool, optional\n",
      " |      :param year_low: minimum year of publication, defaults to None\n",
      " |      :type year_low: int, optional\n",
      " |      :param year_high: maximum year of publication, defaults to None\n",
      " |      :type year_high: int, optional\n",
      " |      :param sort_by: 'relevance' or 'date', defaults to 'relevance'\n",
      " |      :type sort_by: string, optional\n",
      " |      :param include_last_year: 'abstracts' or 'everything', defaults to 'abstracts' and only applies if 'sort_by' is 'date'\n",
      " |      :type include_last_year: string, optional\n",
      " |      :param start_index: starting index of list of publications, defaults to 0\n",
      " |      :type start_index: int, optional\n",
      " |      :returns: Generator of Publication objects\n",
      " |      :rtype: Iterator[:class:`Publication`]\n",
      " |      \n",
      " |      :Example::\n",
      " |      \n",
      " |      .. testcode::\n",
      " |      \n",
      " |          search_query = scholarly.search_pubs('Perception of physical stability and center of mass of 3D objects')\n",
      " |          scholarly.pprint(next(search_query)) # in order to pretty print the result\n",
      " |      \n",
      " |      :Output::\n",
      " |      \n",
      " |      .. testoutput::\n",
      " |      \n",
      " |          {'author_id': ['4bahYMkAAAAJ', 'ruUKktgAAAAJ', ''],\n",
      " |           'bib': {'abstract': 'Humans can judge from vision alone whether an object is '\n",
      " |                               'physically stable or not. Such judgments allow observers '\n",
      " |                               'to predict the physical behavior of objects, and hence '\n",
      " |                               'to guide their motor actions. We investigated the visual '\n",
      " |                               'estimation of physical stability of 3-D objects (shown '\n",
      " |                               'in stereoscopically viewed rendered scenes) and how it '\n",
      " |                               'relates to visual estimates of their center of mass '\n",
      " |                               '(COM). In Experiment 1, observers viewed an object near '\n",
      " |                               'the edge of a table and adjusted its tilt to the '\n",
      " |                               'perceived critical angle, ie, the tilt angle at which '\n",
      " |                               'the object',\n",
      " |                   'author': ['SA Cholewiak', 'RW Fleming', 'M Singh'],\n",
      " |                   'pub_year': '2015',\n",
      " |                   'title': 'Perception of physical stability and center of mass of 3-D '\n",
      " |                            'objects',\n",
      " |                   'venue': 'Journal of vision'},\n",
      " |           'citedby_url': '/scholar?cites=15736880631888070187&as_sdt=5,33&sciodt=0,33&hl=en',\n",
      " |           'eprint_url': 'https://jov.arvojournals.org/article.aspx?articleID=2213254',\n",
      " |           'filled': False,\n",
      " |           'gsrank': 1,\n",
      " |           'num_citations': 23,\n",
      " |           'pub_url': 'https://jov.arvojournals.org/article.aspx?articleID=2213254',\n",
      " |           'source': 'PUBLICATION_SEARCH_SNIPPET',\n",
      " |           'url_add_sclib': '/citations?hl=en&xsrf=&continue=/scholar%3Fq%3DPerception%2Bof%2Bphysical%2Bstability%2Band%2Bcenter%2Bof%2Bmass%2Bof%2B3D%2Bobjects%26hl%3Den%26as_sdt%3D0,33&citilm=1&json=&update_op=library_add&info=K8ZpoI6hZNoJ&ei=QhqhX66wKoyNy9YPociEuA0',\n",
      " |           'url_scholarbib': '/scholar?q=info:K8ZpoI6hZNoJ:scholar.google.com/&output=cite&scirp=0&hl=en'}\n",
      " |  \n",
      " |  search_pubs_custom_url(self, url: str) -> scholarly.publication_parser._SearchScholarIterator\n",
      " |      Search by custom URL and return a generator of Publication objects\n",
      " |      URL should be of the form '/scholar?q=...'\n",
      " |      \n",
      " |      A typical use case is to generate the URL by first typing in search\n",
      " |      parameters in the Advanced Search dialog box and then use the URL here\n",
      " |      to programmatically fetch the results.\n",
      " |      \n",
      " |      :param url: custom url to seach for the publication\n",
      " |      :type url: string\n",
      " |  \n",
      " |  search_single_pub(self, pub_title: str, filled: bool = False) -> scholarly.publication_parser.PublicationParser\n",
      " |      Search by scholar query and return a single Publication container object\n",
      " |      \n",
      " |      :param pub_title: Title of the publication to search\n",
      " |      :type pub_title: string\n",
      " |      :param filled: Whether the application should be filled with additional information\n",
      " |      :type filled: bool\n",
      " |  \n",
      " |  set_logger(self, enable: bool)\n",
      " |      Enable or disable the logger for google scholar.\n",
      " |      Enabled by default\n",
      " |  \n",
      " |  set_retries(self, num_retries: int) -> None\n",
      " |      Sets the number of retries in case of errors\n",
      " |      \n",
      " |      :param num_retries: the number of retries\n",
      " |      :type num_retries: int\n",
      " |  \n",
      " |  set_timeout(self, timeout: int)\n",
      " |      Set timeout period in seconds for scholarly\n",
      " |  \n",
      " |  use_proxy(self, proxy_generator: scholarly._proxy_generator.ProxyGenerator, secondary_proxy_generator: scholarly._proxy_generator.ProxyGenerator = None) -> None\n",
      " |      Select which proxy method to use.\n",
      " |      \n",
      " |      See the available ProxyGenerator methods.\n",
      " |      \n",
      " |      This is used to get some pages that have strong anti-bot prevention.\n",
      " |      ``secondary_proxy_generator`` is used for other pages that do not have\n",
      " |      a strong anti-bot prevention. If not set, free proxies are used.\n",
      " |      \n",
      " |      :param proxy_generator: a proxy generator object, typically setup with\n",
      " |                             a premium proxy service (ScraperAPI or Luminati)\n",
      " |      :type proxy_generator: ProxyGenerator\n",
      " |      :param proxy_generator: a second proxy generator object, optional\n",
      " |      :type proxy_generator: ProxyGenerator\n",
      " |      \n",
      " |      :Example::\n",
      " |      \n",
      " |      .. testcode::\n",
      " |      \n",
      " |          pg = ProxyGenerator()\n",
      " |          pg.ScraperAPI(YOUR_SCRAPER_API_KEY)\n",
      " |          scholarly.use_proxy(pg)\n",
      " |  \n",
      " |  ----------------------------------------------------------------------\n",
      " |  Readonly properties defined here:\n",
      " |  \n",
      " |  journal_categories\n",
      " |  \n",
      " |  ----------------------------------------------------------------------\n",
      " |  Data descriptors defined here:\n",
      " |  \n",
      " |  __dict__\n",
      " |      dictionary for instance variables (if defined)\n",
      " |  \n",
      " |  __weakref__\n",
      " |      list of weak references to the object (if defined)\n",
      "\n"
     ]
    }
   ],
   "source": [
    "# scholarly 패키지에서 사용할 수 있는 함수 보고 싶은 경우 import 후 help 실행하면 확인 가능\n",
    "help(scholarly)"
   ]
  },
  {
   "cell_type": "code",
   "execution_count": 3,
   "id": "c8365dc9",
   "metadata": {},
   "outputs": [
    {
     "ename": "StopIteration",
     "evalue": "",
     "output_type": "error",
     "traceback": [
      "\u001b[0;31m---------------------------------------------------------------------------\u001b[0m",
      "\u001b[0;31mStopIteration\u001b[0m                             Traceback (most recent call last)",
      "Cell \u001b[0;32mIn[3], line 4\u001b[0m\n\u001b[1;32m      1\u001b[0m \u001b[38;5;66;03m# API페이지에 나와있는 예시 소스코드로 테스트 \u001b[39;00m\n\u001b[1;32m      2\u001b[0m \u001b[38;5;66;03m## 에러 발생! > 에러내용을 살펴보면 __next__에서 에러가 난것으로 검색결과가 없어서 next호출 도중에 문제가 발생한것을 알 수 있음 \u001b[39;00m\n\u001b[1;32m      3\u001b[0m search_query \u001b[38;5;241m=\u001b[39m scholarly\u001b[38;5;241m.\u001b[39msearch_pubs(\u001b[38;5;124m'\u001b[39m\u001b[38;5;124mPerception of physical stability and center of mass of 3D objects\u001b[39m\u001b[38;5;124m'\u001b[39m)\n\u001b[0;32m----> 4\u001b[0m scholarly\u001b[38;5;241m.\u001b[39mpprint(\u001b[38;5;28mnext\u001b[39m(search_query))\n",
      "File \u001b[0;32m~/anaconda3/lib/python3.11/site-packages/scholarly/publication_parser.py:93\u001b[0m, in \u001b[0;36m_SearchScholarIterator.__next__\u001b[0;34m(self)\u001b[0m\n\u001b[1;32m     91\u001b[0m     \u001b[38;5;28;01mreturn\u001b[39;00m \u001b[38;5;28mself\u001b[39m\u001b[38;5;241m.\u001b[39m\u001b[38;5;21m__next__\u001b[39m()\n\u001b[1;32m     92\u001b[0m \u001b[38;5;28;01melse\u001b[39;00m:\n\u001b[0;32m---> 93\u001b[0m     \u001b[38;5;28;01mraise\u001b[39;00m \u001b[38;5;167;01mStopIteration\u001b[39;00m\n",
      "\u001b[0;31mStopIteration\u001b[0m: "
     ]
    }
   ],
   "source": [
    "# API페이지에 나와있는 예시 소스코드로 테스트 \n",
    "## 에러 발생! > 에러내용을 살펴보면 __next__에서 에러가 난것으로 검색결과가 없어서 next호출 도중에 문제가 발생한것을 알 수 있음 \n",
    "search_query = scholarly.search_pubs('Perception of physical stability and center of mass of 3D objects')\n",
    "scholarly.pprint(next(search_query))"
   ]
  },
  {
   "cell_type": "code",
   "execution_count": 5,
   "id": "c73a09dd",
   "metadata": {},
   "outputs": [
    {
     "name": "stdout",
     "output_type": "stream",
     "text": [
      "더이상 논문이 존재하지 않습니다\n"
     ]
    }
   ],
   "source": [
    "# try catch 구문을 사용하여 처리 가능 \n",
    "## 위 에러메시지에서 출력한 StopIteration 클래스를 except 구문에 넣어 에러 조치 \n",
    "search_query = scholarly.search_pubs('Perception of physical stability and center of mass of 3D objects')\n",
    "try : \n",
    "    scholarly.pprint(next(search_query))\n",
    "except StopIteration:\n",
    "    print(\"더이상 논문이 존재하지 않습니다\")\n",
    "    "
   ]
  },
  {
   "cell_type": "code",
   "execution_count": 39,
   "id": "cb4356a6",
   "metadata": {},
   "outputs": [
    {
     "name": "stdout",
     "output_type": "stream",
     "text": [
      "{'author_id': ['', ''],\n",
      " 'bib': {'abstract': ', problem-solving quality, and organizational flexibility as six dimensions '\n",
      "                     'of business   diversity. We then offer suggestions for improving '\n",
      "                     'organizational capability to manage this diversity',\n",
      "         'author': ['TH Cox', 'S Blake'],\n",
      "         'pub_year': '1991',\n",
      "         'title': 'Managing cultural diversity: Implications for organizational competitiveness',\n",
      "         'venue': 'Academy of Management Perspectives'},\n",
      " 'citedby_url': '/scholar?cites=13461870021577527769&as_sdt=5,33&sciodt=0,33&hl=en',\n",
      " 'container_type': 'Publication',\n",
      " 'eprint_url': 'https://www.academia.edu/download/31290602/cox_and_blake_1991.pdf',\n",
      " 'filled': False,\n",
      " 'gsrank': 1,\n",
      " 'num_citations': 4547,\n",
      " 'pub_url': 'https://journals.aom.org/doi/abs/10.5465/ame.1991.4274465',\n",
      " 'source': <PublicationSource.PUBLICATION_SEARCH_SNIPPET: 'PUBLICATION_SEARCH_SNIPPET'>,\n",
      " 'url_add_sclib': '/citations?hl=en&xsrf=&continue=/scholar%3Fq%3Ddiversity%2Borganization%26hl%3Den%26as_sdt%3D0,33&citilm=1&update_op=library_add&info=2dGb6HUr0roJ&ei=kwVHZbCDPfOl6rQP1-mo2AE&json=',\n",
      " 'url_related_articles': '/scholar?q=related:2dGb6HUr0roJ:scholar.google.com/&scioq=diversity+organization&hl=en&as_sdt=0,33',\n",
      " 'url_scholarbib': '/scholar?hl=en&q=info:2dGb6HUr0roJ:scholar.google.com/&output=cite&scirp=0&hl=en'}\n"
     ]
    }
   ],
   "source": [
    "# try-catch구문을 사용하여 diversity와 organization 키워드가 들어있는 논문 검색 \n",
    "\n",
    "try : \n",
    "    search_query = scholarly.search_pubs('diversity organization')\n",
    "    pub = next(search_query)\n",
    "\n",
    "except StopIteration:\n",
    "    print(\"더이상 논문이 존재하지 않습니다\")\n",
    "    \n",
    "\n",
    "pp.pprint(pub)"
   ]
  },
  {
   "cell_type": "code",
   "execution_count": 40,
   "id": "ed936908",
   "metadata": {},
   "outputs": [
    {
     "data": {
      "text/plain": [
       "'Managing cultural diversity: Implications for organizational competitiveness'"
      ]
     },
     "execution_count": 40,
     "metadata": {},
     "output_type": "execute_result"
    }
   ],
   "source": [
    "pub['bib']['title']"
   ]
  },
  {
   "cell_type": "code",
   "execution_count": null,
   "id": "5f379ce3",
   "metadata": {},
   "outputs": [],
   "source": [
    "type(pub)"
   ]
  },
  {
   "cell_type": "code",
   "execution_count": null,
   "id": "83b98323",
   "metadata": {},
   "outputs": [],
   "source": [
    "type(pub['bib'])"
   ]
  },
  {
   "cell_type": "code",
   "execution_count": 45,
   "id": "e0e664c0",
   "metadata": {},
   "outputs": [],
   "source": [
    "def set_new_proxy():\n",
    "    while True:\n",
    "        pg = ProxyGenerator()\n",
    "        pg.FreeProxies()\n",
    "        proxy_works = scholarly.use_proxy(pg)\n",
    "\n",
    "        if proxy_works:\n",
    "            break\n",
    "    print(\"Working proxy:\", pg)\n",
    "    return pg"
   ]
  },
  {
   "cell_type": "code",
   "execution_count": 46,
   "id": "c4f1ddbe",
   "metadata": {
    "scrolled": true
   },
   "outputs": [
    {
     "ename": "NameError",
     "evalue": "name 'MaxTriesExceededException' is not defined",
     "output_type": "error",
     "traceback": [
      "\u001b[0;31m---------------------------------------------------------------------------\u001b[0m",
      "\u001b[0;31mMaxTriesExceededException\u001b[0m                 Traceback (most recent call last)",
      "Cell \u001b[0;32mIn[46], line 16\u001b[0m\n\u001b[1;32m     15\u001b[0m \u001b[38;5;66;03m# scholarly 패기지의 search_pubs 함수를 활용하여 diversity organization을 키워드로 논문 검색 \u001b[39;00m\n\u001b[0;32m---> 16\u001b[0m search_query \u001b[38;5;241m=\u001b[39m scholarly\u001b[38;5;241m.\u001b[39msearch_pubs(\u001b[38;5;124m'\u001b[39m\u001b[38;5;124mdiversity organization\u001b[39m\u001b[38;5;124m'\u001b[39m)\n\u001b[1;32m     18\u001b[0m \u001b[38;5;66;03m# 검색 결과가 없을때까지 search_query에 저장된 논문정보 꺼내오기     \u001b[39;00m\n",
      "File \u001b[0;32m~/anaconda3/lib/python3.11/site-packages/scholarly/_scholarly.py:160\u001b[0m, in \u001b[0;36m_Scholarly.search_pubs\u001b[0;34m(self, query, patents, citations, year_low, year_high, sort_by, include_last_year, start_index)\u001b[0m\n\u001b[1;32m    157\u001b[0m url \u001b[38;5;241m=\u001b[39m \u001b[38;5;28mself\u001b[39m\u001b[38;5;241m.\u001b[39m_construct_url(_PUBSEARCH\u001b[38;5;241m.\u001b[39mformat(requests\u001b[38;5;241m.\u001b[39mutils\u001b[38;5;241m.\u001b[39mquote(query)), patents\u001b[38;5;241m=\u001b[39mpatents,\n\u001b[1;32m    158\u001b[0m                           citations\u001b[38;5;241m=\u001b[39mcitations, year_low\u001b[38;5;241m=\u001b[39myear_low, year_high\u001b[38;5;241m=\u001b[39myear_high,\n\u001b[1;32m    159\u001b[0m                           sort_by\u001b[38;5;241m=\u001b[39msort_by, include_last_year\u001b[38;5;241m=\u001b[39minclude_last_year, start_index\u001b[38;5;241m=\u001b[39mstart_index)\n\u001b[0;32m--> 160\u001b[0m \u001b[38;5;28;01mreturn\u001b[39;00m \u001b[38;5;28mself\u001b[39m\u001b[38;5;241m.\u001b[39m__nav\u001b[38;5;241m.\u001b[39msearch_publications(url)\n",
      "File \u001b[0;32m~/anaconda3/lib/python3.11/site-packages/scholarly/_navigator.py:296\u001b[0m, in \u001b[0;36mNavigator.search_publications\u001b[0;34m(self, url)\u001b[0m\n\u001b[1;32m    289\u001b[0m \u001b[38;5;250m\u001b[39m\u001b[38;5;124;03m\"\"\"Returns a Publication Generator given a url\u001b[39;00m\n\u001b[1;32m    290\u001b[0m \n\u001b[1;32m    291\u001b[0m \u001b[38;5;124;03m:param url: the url where publications can be found.\u001b[39;00m\n\u001b[0;32m   (...)\u001b[0m\n\u001b[1;32m    294\u001b[0m \u001b[38;5;124;03m:rtype: {_SearchScholarIterator}\u001b[39;00m\n\u001b[1;32m    295\u001b[0m \u001b[38;5;124;03m\"\"\"\u001b[39;00m\n\u001b[0;32m--> 296\u001b[0m \u001b[38;5;28;01mreturn\u001b[39;00m _SearchScholarIterator(\u001b[38;5;28mself\u001b[39m, url)\n",
      "File \u001b[0;32m~/anaconda3/lib/python3.11/site-packages/scholarly/publication_parser.py:53\u001b[0m, in \u001b[0;36m_SearchScholarIterator.__init__\u001b[0;34m(self, nav, url)\u001b[0m\n\u001b[1;32m     52\u001b[0m \u001b[38;5;28mself\u001b[39m\u001b[38;5;241m.\u001b[39m_nav \u001b[38;5;241m=\u001b[39m nav\n\u001b[0;32m---> 53\u001b[0m \u001b[38;5;28mself\u001b[39m\u001b[38;5;241m.\u001b[39m_load_url(url)\n\u001b[1;32m     54\u001b[0m \u001b[38;5;28mself\u001b[39m\u001b[38;5;241m.\u001b[39mtotal_results \u001b[38;5;241m=\u001b[39m \u001b[38;5;28mself\u001b[39m\u001b[38;5;241m.\u001b[39m_get_total_results()\n",
      "File \u001b[0;32m~/anaconda3/lib/python3.11/site-packages/scholarly/publication_parser.py:59\u001b[0m, in \u001b[0;36m_SearchScholarIterator._load_url\u001b[0;34m(self, url)\u001b[0m\n\u001b[1;32m     57\u001b[0m \u001b[38;5;28;01mdef\u001b[39;00m \u001b[38;5;21m_load_url\u001b[39m(\u001b[38;5;28mself\u001b[39m, url: \u001b[38;5;28mstr\u001b[39m):\n\u001b[1;32m     58\u001b[0m     \u001b[38;5;66;03m# this is temporary until setup json file\u001b[39;00m\n\u001b[0;32m---> 59\u001b[0m     \u001b[38;5;28mself\u001b[39m\u001b[38;5;241m.\u001b[39m_soup \u001b[38;5;241m=\u001b[39m \u001b[38;5;28mself\u001b[39m\u001b[38;5;241m.\u001b[39m_nav\u001b[38;5;241m.\u001b[39m_get_soup(url)\n\u001b[1;32m     60\u001b[0m     \u001b[38;5;28mself\u001b[39m\u001b[38;5;241m.\u001b[39m_pos \u001b[38;5;241m=\u001b[39m \u001b[38;5;241m0\u001b[39m\n",
      "File \u001b[0;32m~/anaconda3/lib/python3.11/site-packages/scholarly/_navigator.py:239\u001b[0m, in \u001b[0;36mNavigator._get_soup\u001b[0;34m(self, url)\u001b[0m\n\u001b[1;32m    238\u001b[0m \u001b[38;5;250m\u001b[39m\u001b[38;5;124;03m\"\"\"Return the BeautifulSoup for a page on scholar.google.com\"\"\"\u001b[39;00m\n\u001b[0;32m--> 239\u001b[0m html \u001b[38;5;241m=\u001b[39m \u001b[38;5;28mself\u001b[39m\u001b[38;5;241m.\u001b[39m_get_page(\u001b[38;5;124m'\u001b[39m\u001b[38;5;124mhttps://scholar.google.com\u001b[39m\u001b[38;5;132;01m{0}\u001b[39;00m\u001b[38;5;124m'\u001b[39m\u001b[38;5;241m.\u001b[39mformat(url))\n\u001b[1;32m    240\u001b[0m html \u001b[38;5;241m=\u001b[39m html\u001b[38;5;241m.\u001b[39mreplace(\u001b[38;5;124mu\u001b[39m\u001b[38;5;124m'\u001b[39m\u001b[38;5;130;01m\\xa0\u001b[39;00m\u001b[38;5;124m'\u001b[39m, \u001b[38;5;124mu\u001b[39m\u001b[38;5;124m'\u001b[39m\u001b[38;5;124m \u001b[39m\u001b[38;5;124m'\u001b[39m)\n",
      "File \u001b[0;32m~/anaconda3/lib/python3.11/site-packages/scholarly/_navigator.py:190\u001b[0m, in \u001b[0;36mNavigator._get_page\u001b[0;34m(self, pagerequest, premium)\u001b[0m\n\u001b[1;32m    189\u001b[0m \u001b[38;5;28;01melse\u001b[39;00m:\n\u001b[0;32m--> 190\u001b[0m     \u001b[38;5;28;01mraise\u001b[39;00m MaxTriesExceededException(\u001b[38;5;124m\"\u001b[39m\u001b[38;5;124mCannot Fetch from Google Scholar.\u001b[39m\u001b[38;5;124m\"\u001b[39m)\n",
      "\u001b[0;31mMaxTriesExceededException\u001b[0m: Cannot Fetch from Google Scholar.",
      "\nDuring handling of the above exception, another exception occurred:\n",
      "\u001b[0;31mNameError\u001b[0m                                 Traceback (most recent call last)",
      "Cell \u001b[0;32mIn[46], line 38\u001b[0m\n\u001b[1;32m     35\u001b[0m         \u001b[38;5;66;03m# 파일에 작업한 논문의 제목 저장\u001b[39;00m\n\u001b[1;32m     36\u001b[0m         file\u001b[38;5;241m.\u001b[39mwrite(pub[\u001b[38;5;124m'\u001b[39m\u001b[38;5;124mbib\u001b[39m\u001b[38;5;124m'\u001b[39m][\u001b[38;5;124m'\u001b[39m\u001b[38;5;124mtitle\u001b[39m\u001b[38;5;124m'\u001b[39m])\n\u001b[0;32m---> 38\u001b[0m \u001b[38;5;28;01mexcept\u001b[39;00m MaxTriesExceededException:\n\u001b[1;32m     39\u001b[0m     set_new_proxy()\n\u001b[1;32m     40\u001b[0m     \u001b[38;5;28mprint\u001b[39m(\u001b[38;5;124m\"\u001b[39m\u001b[38;5;124mset new proxy\u001b[39m\u001b[38;5;124m\"\u001b[39m)\n",
      "\u001b[0;31mNameError\u001b[0m: name 'MaxTriesExceededException' is not defined"
     ]
    }
   ],
   "source": [
    "# try-catch구문을 사용하여 diversity와 organization 키워드가 들어있는 논문 검색 \n",
    "\n",
    "# 전체 정보를 저장하기 위한 데이터 프레임 생성\n",
    "df_do = pd.DataFrame()\n",
    "\n",
    "# bibiograph정보를 저장하기 위한 데이터 프레인 생성 \n",
    "df_bib = pd.DataFrame()\n",
    "\n",
    "try : \n",
    "    # 논문 크롤링 진척률을 확인하기 위해 텍스트 파일 생성      \n",
    "    file = open('title.txt', 'w')    \n",
    "\n",
    " \n",
    "\n",
    "    # scholarly 패기지의 search_pubs 함수를 활용하여 diversity organization을 키워드로 논문 검색 \n",
    "    search_query = scholarly.search_pubs('diversity organization')\n",
    "\n",
    "    # 검색 결과가 없을때까지 search_query에 저장된 논문정보 꺼내오기     \n",
    "    while True : \n",
    "        # 다음이 있는경우          \n",
    "        pub = next(search_query) # dictionary type data\n",
    "        # 전체 정보를 저장        \n",
    "        # 한 행을 데이터 프레임에 입력할 경우 []를 사용하여 행이라는 표시를 해주어야 에러 없이 입력되므로 \n",
    "        # [pub.items()]로 작성하여 신규 데이터 프레임 생성 \n",
    "        # 출처 : https://stackoverflow.com/questions/50185926/valueerror-shape-of-passed-values-is-1-6-indices-imply-6-6\n",
    "        df = pd.DataFrame([pub.items()], columns=list(pub.keys()))\n",
    "        df_do = pd.concat([df_do, df] , axis = 0 )\n",
    "        \n",
    "        # bibiograph정보를 저장\n",
    "        bib = pub['bib']\n",
    "        \n",
    "        df = pd.DataFrame([bib.items()], columns=list(bib.keys()))\n",
    "        df_bib = pd.concat([df_bib, df] , axis = 0 )\n",
    "        \n",
    "        # 파일에 작업한 논문의 제목 저장\n",
    "        file.write(pub['bib']['title'])\n",
    "\n",
    "except MaxTriesExceededException:\n",
    "    set_new_proxy()\n",
    "    print(\"set new proxy\")\n",
    "\n",
    "# 더이상 논문이 없는경우 문자열 출력하고 종료\n",
    "except StopIteration:\n",
    "    print(\"더이상 논문이 존재하지 않습니다\")\n",
    "    #논문 크롤링이 끝난 경우 파일 닫기\n",
    "    file.close()  \n",
    "    \n",
    "\n",
    "pp.pprint(pub)"
   ]
  },
  {
   "cell_type": "code",
   "execution_count": 47,
   "id": "19135b9a",
   "metadata": {},
   "outputs": [
    {
     "ename": "ValueError",
     "evalue": "Mixing dicts with non-Series may lead to ambiguous ordering.",
     "output_type": "error",
     "traceback": [
      "\u001b[0;31m---------------------------------------------------------------------------\u001b[0m",
      "\u001b[0;31mValueError\u001b[0m                                Traceback (most recent call last)",
      "Cell \u001b[0;32mIn[47], line 1\u001b[0m\n\u001b[0;32m----> 1\u001b[0m pd\u001b[38;5;241m.\u001b[39mDataFrame(pub)\n",
      "File \u001b[0;32m~/anaconda3/lib/python3.11/site-packages/pandas/core/frame.py:664\u001b[0m, in \u001b[0;36mDataFrame.__init__\u001b[0;34m(self, data, index, columns, dtype, copy)\u001b[0m\n\u001b[1;32m    658\u001b[0m     mgr \u001b[38;5;241m=\u001b[39m \u001b[38;5;28mself\u001b[39m\u001b[38;5;241m.\u001b[39m_init_mgr(\n\u001b[1;32m    659\u001b[0m         data, axes\u001b[38;5;241m=\u001b[39m{\u001b[38;5;124m\"\u001b[39m\u001b[38;5;124mindex\u001b[39m\u001b[38;5;124m\"\u001b[39m: index, \u001b[38;5;124m\"\u001b[39m\u001b[38;5;124mcolumns\u001b[39m\u001b[38;5;124m\"\u001b[39m: columns}, dtype\u001b[38;5;241m=\u001b[39mdtype, copy\u001b[38;5;241m=\u001b[39mcopy\n\u001b[1;32m    660\u001b[0m     )\n\u001b[1;32m    662\u001b[0m \u001b[38;5;28;01melif\u001b[39;00m \u001b[38;5;28misinstance\u001b[39m(data, \u001b[38;5;28mdict\u001b[39m):\n\u001b[1;32m    663\u001b[0m     \u001b[38;5;66;03m# GH#38939 de facto copy defaults to False only in non-dict cases\u001b[39;00m\n\u001b[0;32m--> 664\u001b[0m     mgr \u001b[38;5;241m=\u001b[39m dict_to_mgr(data, index, columns, dtype\u001b[38;5;241m=\u001b[39mdtype, copy\u001b[38;5;241m=\u001b[39mcopy, typ\u001b[38;5;241m=\u001b[39mmanager)\n\u001b[1;32m    665\u001b[0m \u001b[38;5;28;01melif\u001b[39;00m \u001b[38;5;28misinstance\u001b[39m(data, ma\u001b[38;5;241m.\u001b[39mMaskedArray):\n\u001b[1;32m    666\u001b[0m     \u001b[38;5;28;01mimport\u001b[39;00m \u001b[38;5;21;01mnumpy\u001b[39;00m\u001b[38;5;21;01m.\u001b[39;00m\u001b[38;5;21;01mma\u001b[39;00m\u001b[38;5;21;01m.\u001b[39;00m\u001b[38;5;21;01mmrecords\u001b[39;00m \u001b[38;5;28;01mas\u001b[39;00m \u001b[38;5;21;01mmrecords\u001b[39;00m\n",
      "File \u001b[0;32m~/anaconda3/lib/python3.11/site-packages/pandas/core/internals/construction.py:493\u001b[0m, in \u001b[0;36mdict_to_mgr\u001b[0;34m(data, index, columns, dtype, typ, copy)\u001b[0m\n\u001b[1;32m    489\u001b[0m     \u001b[38;5;28;01melse\u001b[39;00m:\n\u001b[1;32m    490\u001b[0m         \u001b[38;5;66;03m# dtype check to exclude e.g. range objects, scalars\u001b[39;00m\n\u001b[1;32m    491\u001b[0m         arrays \u001b[38;5;241m=\u001b[39m [x\u001b[38;5;241m.\u001b[39mcopy() \u001b[38;5;28;01mif\u001b[39;00m \u001b[38;5;28mhasattr\u001b[39m(x, \u001b[38;5;124m\"\u001b[39m\u001b[38;5;124mdtype\u001b[39m\u001b[38;5;124m\"\u001b[39m) \u001b[38;5;28;01melse\u001b[39;00m x \u001b[38;5;28;01mfor\u001b[39;00m x \u001b[38;5;129;01min\u001b[39;00m arrays]\n\u001b[0;32m--> 493\u001b[0m \u001b[38;5;28;01mreturn\u001b[39;00m arrays_to_mgr(arrays, columns, index, dtype\u001b[38;5;241m=\u001b[39mdtype, typ\u001b[38;5;241m=\u001b[39mtyp, consolidate\u001b[38;5;241m=\u001b[39mcopy)\n",
      "File \u001b[0;32m~/anaconda3/lib/python3.11/site-packages/pandas/core/internals/construction.py:118\u001b[0m, in \u001b[0;36marrays_to_mgr\u001b[0;34m(arrays, columns, index, dtype, verify_integrity, typ, consolidate)\u001b[0m\n\u001b[1;32m    115\u001b[0m \u001b[38;5;28;01mif\u001b[39;00m verify_integrity:\n\u001b[1;32m    116\u001b[0m     \u001b[38;5;66;03m# figure out the index, if necessary\u001b[39;00m\n\u001b[1;32m    117\u001b[0m     \u001b[38;5;28;01mif\u001b[39;00m index \u001b[38;5;129;01mis\u001b[39;00m \u001b[38;5;28;01mNone\u001b[39;00m:\n\u001b[0;32m--> 118\u001b[0m         index \u001b[38;5;241m=\u001b[39m _extract_index(arrays)\n\u001b[1;32m    119\u001b[0m     \u001b[38;5;28;01melse\u001b[39;00m:\n\u001b[1;32m    120\u001b[0m         index \u001b[38;5;241m=\u001b[39m ensure_index(index)\n",
      "File \u001b[0;32m~/anaconda3/lib/python3.11/site-packages/pandas/core/internals/construction.py:669\u001b[0m, in \u001b[0;36m_extract_index\u001b[0;34m(data)\u001b[0m\n\u001b[1;32m    666\u001b[0m     \u001b[38;5;28;01mraise\u001b[39;00m \u001b[38;5;167;01mValueError\u001b[39;00m(\u001b[38;5;124m\"\u001b[39m\u001b[38;5;124mAll arrays must be of the same length\u001b[39m\u001b[38;5;124m\"\u001b[39m)\n\u001b[1;32m    668\u001b[0m \u001b[38;5;28;01mif\u001b[39;00m have_dicts:\n\u001b[0;32m--> 669\u001b[0m     \u001b[38;5;28;01mraise\u001b[39;00m \u001b[38;5;167;01mValueError\u001b[39;00m(\n\u001b[1;32m    670\u001b[0m         \u001b[38;5;124m\"\u001b[39m\u001b[38;5;124mMixing dicts with non-Series may lead to ambiguous ordering.\u001b[39m\u001b[38;5;124m\"\u001b[39m\n\u001b[1;32m    671\u001b[0m     )\n\u001b[1;32m    673\u001b[0m \u001b[38;5;28;01mif\u001b[39;00m have_series:\n\u001b[1;32m    674\u001b[0m     \u001b[38;5;28;01massert\u001b[39;00m index \u001b[38;5;129;01mis\u001b[39;00m \u001b[38;5;129;01mnot\u001b[39;00m \u001b[38;5;28;01mNone\u001b[39;00m  \u001b[38;5;66;03m# for mypy\u001b[39;00m\n",
      "\u001b[0;31mValueError\u001b[0m: Mixing dicts with non-Series may lead to ambiguous ordering."
     ]
    }
   ],
   "source": [
    "pd.DataFrame(pub)"
   ]
  },
  {
   "cell_type": "code",
   "execution_count": 36,
   "id": "661c20c4",
   "metadata": {},
   "outputs": [
    {
     "data": {
      "text/plain": [
       "dict"
      ]
     },
     "execution_count": 36,
     "metadata": {},
     "output_type": "execute_result"
    }
   ],
   "source": [
    "type(pub['bib'])"
   ]
  },
  {
   "cell_type": "code",
   "execution_count": 8,
   "id": "3dd7b415",
   "metadata": {},
   "outputs": [
    {
     "ename": "ValueError",
     "evalue": "Mixing dicts with non-Series may lead to ambiguous ordering.",
     "output_type": "error",
     "traceback": [
      "\u001b[0;31m---------------------------------------------------------------------------\u001b[0m",
      "\u001b[0;31mValueError\u001b[0m                                Traceback (most recent call last)",
      "Cell \u001b[0;32mIn[8], line 1\u001b[0m\n\u001b[0;32m----> 1\u001b[0m pd\u001b[38;5;241m.\u001b[39mDataFrame(pub)\n",
      "File \u001b[0;32m~/anaconda3/lib/python3.11/site-packages/pandas/core/frame.py:664\u001b[0m, in \u001b[0;36mDataFrame.__init__\u001b[0;34m(self, data, index, columns, dtype, copy)\u001b[0m\n\u001b[1;32m    658\u001b[0m     mgr \u001b[38;5;241m=\u001b[39m \u001b[38;5;28mself\u001b[39m\u001b[38;5;241m.\u001b[39m_init_mgr(\n\u001b[1;32m    659\u001b[0m         data, axes\u001b[38;5;241m=\u001b[39m{\u001b[38;5;124m\"\u001b[39m\u001b[38;5;124mindex\u001b[39m\u001b[38;5;124m\"\u001b[39m: index, \u001b[38;5;124m\"\u001b[39m\u001b[38;5;124mcolumns\u001b[39m\u001b[38;5;124m\"\u001b[39m: columns}, dtype\u001b[38;5;241m=\u001b[39mdtype, copy\u001b[38;5;241m=\u001b[39mcopy\n\u001b[1;32m    660\u001b[0m     )\n\u001b[1;32m    662\u001b[0m \u001b[38;5;28;01melif\u001b[39;00m \u001b[38;5;28misinstance\u001b[39m(data, \u001b[38;5;28mdict\u001b[39m):\n\u001b[1;32m    663\u001b[0m     \u001b[38;5;66;03m# GH#38939 de facto copy defaults to False only in non-dict cases\u001b[39;00m\n\u001b[0;32m--> 664\u001b[0m     mgr \u001b[38;5;241m=\u001b[39m dict_to_mgr(data, index, columns, dtype\u001b[38;5;241m=\u001b[39mdtype, copy\u001b[38;5;241m=\u001b[39mcopy, typ\u001b[38;5;241m=\u001b[39mmanager)\n\u001b[1;32m    665\u001b[0m \u001b[38;5;28;01melif\u001b[39;00m \u001b[38;5;28misinstance\u001b[39m(data, ma\u001b[38;5;241m.\u001b[39mMaskedArray):\n\u001b[1;32m    666\u001b[0m     \u001b[38;5;28;01mimport\u001b[39;00m \u001b[38;5;21;01mnumpy\u001b[39;00m\u001b[38;5;21;01m.\u001b[39;00m\u001b[38;5;21;01mma\u001b[39;00m\u001b[38;5;21;01m.\u001b[39;00m\u001b[38;5;21;01mmrecords\u001b[39;00m \u001b[38;5;28;01mas\u001b[39;00m \u001b[38;5;21;01mmrecords\u001b[39;00m\n",
      "File \u001b[0;32m~/anaconda3/lib/python3.11/site-packages/pandas/core/internals/construction.py:493\u001b[0m, in \u001b[0;36mdict_to_mgr\u001b[0;34m(data, index, columns, dtype, typ, copy)\u001b[0m\n\u001b[1;32m    489\u001b[0m     \u001b[38;5;28;01melse\u001b[39;00m:\n\u001b[1;32m    490\u001b[0m         \u001b[38;5;66;03m# dtype check to exclude e.g. range objects, scalars\u001b[39;00m\n\u001b[1;32m    491\u001b[0m         arrays \u001b[38;5;241m=\u001b[39m [x\u001b[38;5;241m.\u001b[39mcopy() \u001b[38;5;28;01mif\u001b[39;00m \u001b[38;5;28mhasattr\u001b[39m(x, \u001b[38;5;124m\"\u001b[39m\u001b[38;5;124mdtype\u001b[39m\u001b[38;5;124m\"\u001b[39m) \u001b[38;5;28;01melse\u001b[39;00m x \u001b[38;5;28;01mfor\u001b[39;00m x \u001b[38;5;129;01min\u001b[39;00m arrays]\n\u001b[0;32m--> 493\u001b[0m \u001b[38;5;28;01mreturn\u001b[39;00m arrays_to_mgr(arrays, columns, index, dtype\u001b[38;5;241m=\u001b[39mdtype, typ\u001b[38;5;241m=\u001b[39mtyp, consolidate\u001b[38;5;241m=\u001b[39mcopy)\n",
      "File \u001b[0;32m~/anaconda3/lib/python3.11/site-packages/pandas/core/internals/construction.py:118\u001b[0m, in \u001b[0;36marrays_to_mgr\u001b[0;34m(arrays, columns, index, dtype, verify_integrity, typ, consolidate)\u001b[0m\n\u001b[1;32m    115\u001b[0m \u001b[38;5;28;01mif\u001b[39;00m verify_integrity:\n\u001b[1;32m    116\u001b[0m     \u001b[38;5;66;03m# figure out the index, if necessary\u001b[39;00m\n\u001b[1;32m    117\u001b[0m     \u001b[38;5;28;01mif\u001b[39;00m index \u001b[38;5;129;01mis\u001b[39;00m \u001b[38;5;28;01mNone\u001b[39;00m:\n\u001b[0;32m--> 118\u001b[0m         index \u001b[38;5;241m=\u001b[39m _extract_index(arrays)\n\u001b[1;32m    119\u001b[0m     \u001b[38;5;28;01melse\u001b[39;00m:\n\u001b[1;32m    120\u001b[0m         index \u001b[38;5;241m=\u001b[39m ensure_index(index)\n",
      "File \u001b[0;32m~/anaconda3/lib/python3.11/site-packages/pandas/core/internals/construction.py:669\u001b[0m, in \u001b[0;36m_extract_index\u001b[0;34m(data)\u001b[0m\n\u001b[1;32m    666\u001b[0m     \u001b[38;5;28;01mraise\u001b[39;00m \u001b[38;5;167;01mValueError\u001b[39;00m(\u001b[38;5;124m\"\u001b[39m\u001b[38;5;124mAll arrays must be of the same length\u001b[39m\u001b[38;5;124m\"\u001b[39m)\n\u001b[1;32m    668\u001b[0m \u001b[38;5;28;01mif\u001b[39;00m have_dicts:\n\u001b[0;32m--> 669\u001b[0m     \u001b[38;5;28;01mraise\u001b[39;00m \u001b[38;5;167;01mValueError\u001b[39;00m(\n\u001b[1;32m    670\u001b[0m         \u001b[38;5;124m\"\u001b[39m\u001b[38;5;124mMixing dicts with non-Series may lead to ambiguous ordering.\u001b[39m\u001b[38;5;124m\"\u001b[39m\n\u001b[1;32m    671\u001b[0m     )\n\u001b[1;32m    673\u001b[0m \u001b[38;5;28;01mif\u001b[39;00m have_series:\n\u001b[1;32m    674\u001b[0m     \u001b[38;5;28;01massert\u001b[39;00m index \u001b[38;5;129;01mis\u001b[39;00m \u001b[38;5;129;01mnot\u001b[39;00m \u001b[38;5;28;01mNone\u001b[39;00m  \u001b[38;5;66;03m# for mypy\u001b[39;00m\n",
      "\u001b[0;31mValueError\u001b[0m: Mixing dicts with non-Series may lead to ambiguous ordering."
     ]
    }
   ],
   "source": [
    "pd.DataFrame(pub)"
   ]
  },
  {
   "cell_type": "code",
   "execution_count": 24,
   "id": "c23715b2",
   "metadata": {},
   "outputs": [
    {
     "name": "stdout",
     "output_type": "stream",
     "text": [
      "<class 'dict_keys'>\n",
      "<class 'dict_items'>\n"
     ]
    }
   ],
   "source": [
    "print(type(pub.keys()))\n",
    "print(type(pub.items()))"
   ]
  },
  {
   "cell_type": "code",
   "execution_count": 27,
   "id": "83fe7341",
   "metadata": {},
   "outputs": [],
   "source": [
    "# You want [data] for pandas to understand they're rows.\n",
    "# https://stackoverflow.com/questions/50185926/valueerror-shape-of-passed-values-is-1-6-indices-imply-6-6\n",
    "df = pd.DataFrame([pub.items()], columns=list(pub.keys()))"
   ]
  },
  {
   "cell_type": "code",
   "execution_count": 26,
   "id": "8348b36c",
   "metadata": {
    "scrolled": true
   },
   "outputs": [],
   "source": [
    "df_do = pd.DataFrame()"
   ]
  },
  {
   "cell_type": "code",
   "execution_count": 29,
   "id": "a7232ad2",
   "metadata": {},
   "outputs": [
    {
     "data": {
      "text/html": [
       "<div>\n",
       "<style scoped>\n",
       "    .dataframe tbody tr th:only-of-type {\n",
       "        vertical-align: middle;\n",
       "    }\n",
       "\n",
       "    .dataframe tbody tr th {\n",
       "        vertical-align: top;\n",
       "    }\n",
       "\n",
       "    .dataframe thead th {\n",
       "        text-align: right;\n",
       "    }\n",
       "</style>\n",
       "<table border=\"1\" class=\"dataframe\">\n",
       "  <thead>\n",
       "    <tr style=\"text-align: right;\">\n",
       "      <th></th>\n",
       "      <th>container_type</th>\n",
       "      <th>source</th>\n",
       "      <th>bib</th>\n",
       "      <th>filled</th>\n",
       "      <th>gsrank</th>\n",
       "      <th>pub_url</th>\n",
       "      <th>author_id</th>\n",
       "      <th>url_scholarbib</th>\n",
       "      <th>url_add_sclib</th>\n",
       "      <th>num_citations</th>\n",
       "      <th>citedby_url</th>\n",
       "      <th>url_related_articles</th>\n",
       "      <th>eprint_url</th>\n",
       "    </tr>\n",
       "  </thead>\n",
       "  <tbody>\n",
       "    <tr>\n",
       "      <th>0</th>\n",
       "      <td>(container_type, Publication)</td>\n",
       "      <td>(source, PublicationSource.PUBLICATION_SEARCH_...</td>\n",
       "      <td>(bib, {'title': 'Managing cultural diversity: ...</td>\n",
       "      <td>(filled, False)</td>\n",
       "      <td>(gsrank, 1)</td>\n",
       "      <td>(pub_url, https://journals.aom.org/doi/abs/10....</td>\n",
       "      <td>(author_id, [, ])</td>\n",
       "      <td>(url_scholarbib, /scholar?hl=en&amp;q=info:2dGb6HU...</td>\n",
       "      <td>(url_add_sclib, /citations?hl=en&amp;xsrf=&amp;continu...</td>\n",
       "      <td>(num_citations, 4547)</td>\n",
       "      <td>(citedby_url, /scholar?cites=13461870021577527...</td>\n",
       "      <td>(url_related_articles, /scholar?q=related:2dGb...</td>\n",
       "      <td>(eprint_url, https://www.academia.edu/download...</td>\n",
       "    </tr>\n",
       "  </tbody>\n",
       "</table>\n",
       "</div>"
      ],
      "text/plain": [
       "                  container_type  \\\n",
       "0  (container_type, Publication)   \n",
       "\n",
       "                                              source  \\\n",
       "0  (source, PublicationSource.PUBLICATION_SEARCH_...   \n",
       "\n",
       "                                                 bib           filled  \\\n",
       "0  (bib, {'title': 'Managing cultural diversity: ...  (filled, False)   \n",
       "\n",
       "        gsrank                                            pub_url  \\\n",
       "0  (gsrank, 1)  (pub_url, https://journals.aom.org/doi/abs/10....   \n",
       "\n",
       "           author_id                                     url_scholarbib  \\\n",
       "0  (author_id, [, ])  (url_scholarbib, /scholar?hl=en&q=info:2dGb6HU...   \n",
       "\n",
       "                                       url_add_sclib          num_citations  \\\n",
       "0  (url_add_sclib, /citations?hl=en&xsrf=&continu...  (num_citations, 4547)   \n",
       "\n",
       "                                         citedby_url  \\\n",
       "0  (citedby_url, /scholar?cites=13461870021577527...   \n",
       "\n",
       "                                url_related_articles  \\\n",
       "0  (url_related_articles, /scholar?q=related:2dGb...   \n",
       "\n",
       "                                          eprint_url  \n",
       "0  (eprint_url, https://www.academia.edu/download...  "
      ]
     },
     "execution_count": 29,
     "metadata": {},
     "output_type": "execute_result"
    }
   ],
   "source": [
    "pd.concat([df_do, df] , axis = 0 )"
   ]
  },
  {
   "cell_type": "code",
   "execution_count": 23,
   "id": "15cd457a",
   "metadata": {},
   "outputs": [
    {
     "ename": "TypeError",
     "evalue": "Series.__init__() got an unexpected keyword argument 'ignore_index'",
     "output_type": "error",
     "traceback": [
      "\u001b[0;31m---------------------------------------------------------------------------\u001b[0m",
      "\u001b[0;31mTypeError\u001b[0m                                 Traceback (most recent call last)",
      "Cell \u001b[0;32mIn[23], line 3\u001b[0m\n\u001b[1;32m      1\u001b[0m \u001b[38;5;66;03m# pd.DataFrame(columns = list(pub.keys()), data = list(pub.values()))\u001b[39;00m\n\u001b[0;32m----> 3\u001b[0m pd\u001b[38;5;241m.\u001b[39mDataFrame(pd\u001b[38;5;241m.\u001b[39mSeries(\u001b[38;5;28mlist\u001b[39m(pub\u001b[38;5;241m.\u001b[39mvalues()), index\u001b[38;5;241m=\u001b[39m\u001b[38;5;28mlist\u001b[39m(pub\u001b[38;5;241m.\u001b[39mkeys()), ignore_index \u001b[38;5;241m=\u001b[39m \u001b[38;5;28;01mTrue\u001b[39;00m))\n",
      "\u001b[0;31mTypeError\u001b[0m: Series.__init__() got an unexpected keyword argument 'ignore_index'"
     ]
    }
   ],
   "source": [
    "# pd.DataFrame(columns = list(pub.keys()), data = list(pub.values()))\n",
    "\n",
    "pd.DataFrame(pd.Series(list(pub.values()), index=list(pub.keys()), ignore_index = True))\n"
   ]
  },
  {
   "cell_type": "code",
   "execution_count": 18,
   "id": "f8b44552",
   "metadata": {},
   "outputs": [
    {
     "data": {
      "text/plain": [
       "['Publication',\n",
       " <PublicationSource.PUBLICATION_SEARCH_SNIPPET: 'PUBLICATION_SEARCH_SNIPPET'>,\n",
       " {'title': 'Managing cultural diversity: Implications for organizational competitiveness',\n",
       "  'author': ['TH Cox', 'S Blake'],\n",
       "  'pub_year': '1991',\n",
       "  'venue': 'Academy of Management Perspectives',\n",
       "  'abstract': ', problem-solving quality, and organizational flexibility as six dimensions of business   diversity. We then offer suggestions for improving organizational capability to manage this diversity'},\n",
       " False,\n",
       " 1,\n",
       " 'https://journals.aom.org/doi/abs/10.5465/ame.1991.4274465',\n",
       " ['', ''],\n",
       " '/scholar?hl=en&q=info:2dGb6HUr0roJ:scholar.google.com/&output=cite&scirp=0&hl=en',\n",
       " '/citations?hl=en&xsrf=&continue=/scholar%3Fq%3Ddiversity%2Borganization%26hl%3Den%26as_sdt%3D0,33&citilm=1&update_op=library_add&info=2dGb6HUr0roJ&ei=4f9GZdPcCMTGywSGjKGIAg&json=',\n",
       " 4547,\n",
       " '/scholar?cites=13461870021577527769&as_sdt=5,33&sciodt=0,33&hl=en',\n",
       " '/scholar?q=related:2dGb6HUr0roJ:scholar.google.com/&scioq=diversity+organization&hl=en&as_sdt=0,33',\n",
       " 'https://www.academia.edu/download/31290602/cox_and_blake_1991.pdf']"
      ]
     },
     "execution_count": 18,
     "metadata": {},
     "output_type": "execute_result"
    }
   ],
   "source": [
    "list(pub.values())"
   ]
  },
  {
   "cell_type": "code",
   "execution_count": null,
   "id": "bd5b25ad",
   "metadata": {},
   "outputs": [],
   "source": [
    "pd.DataFrame(pub, columns = list(pub.keys()) )"
   ]
  },
  {
   "cell_type": "code",
   "execution_count": null,
   "id": "157627a5",
   "metadata": {},
   "outputs": [],
   "source": [
    "pub['author_id']\n",
    "pub['author_id']"
   ]
  },
  {
   "cell_type": "code",
   "execution_count": null,
   "id": "80fd09d7",
   "metadata": {},
   "outputs": [],
   "source": [
    "pp.pprint(scholarly.bibtex(pub))"
   ]
  },
  {
   "cell_type": "code",
   "execution_count": null,
   "id": "4f1cc227",
   "metadata": {},
   "outputs": [],
   "source": [
    "from scholarly import scholarly\n",
    "\n",
    "# Retrieve the author's data, fill-in, and print\n",
    "# Get an iterator for the author results\n",
    "search_query = scholarly.search_author('Steven A Cholewiak')\n",
    "# Retrieve the first result from the iterator\n",
    "first_author_result = next(search_query)\n",
    "scholarly.pprint(first_author_result)\n",
    "\n",
    "# Retrieve all the details for the author\n",
    "author = scholarly.fill(first_author_result )\n",
    "scholarly.pprint(author)\n",
    "\n",
    "# Take a closer look at the first publication\n",
    "first_publication = author['publications'][0]\n",
    "first_publication_filled = scholarly.fill(first_publication)\n",
    "scholarly.pprint(first_publication_filled)\n",
    "\n",
    "# Print the titles of the author's publications\n",
    "publication_titles = [pub['bib']['title'] for pub in author['publications']]\n",
    "print(publication_titles)\n",
    "\n",
    "# Which papers cited that publication?\n",
    "citations = [citation['bib']['title'] for citation in scholarly.citedby(first_publication_filled)]\n",
    "print(citations)"
   ]
  },
  {
   "cell_type": "code",
   "execution_count": null,
   "id": "db099df6",
   "metadata": {},
   "outputs": [],
   "source": [
    "search_query = scholarly.search_keyword('diversity')\n",
    "scholarly.pprint(next(search_query))"
   ]
  },
  {
   "cell_type": "code",
   "execution_count": null,
   "id": "21bc33d5",
   "metadata": {},
   "outputs": [],
   "source": [
    "search_query = scholarly.search_pubs('diversity')\n",
    "scholarly.pprint(next(search_query))"
   ]
  },
  {
   "cell_type": "code",
   "execution_count": 1,
   "id": "0292b043",
   "metadata": {},
   "outputs": [],
   "source": [
    "def test_a():\n",
    "    print('a')"
   ]
  },
  {
   "cell_type": "code",
   "execution_count": null,
   "id": "c65e0f1e",
   "metadata": {},
   "outputs": [],
   "source": [
    "def test_b():\n",
    "    print('b')"
   ]
  },
  {
   "cell_type": "code",
   "execution_count": 2,
   "id": "fa7579bd",
   "metadata": {},
   "outputs": [],
   "source": [
    "def test (a, b):\n",
    "    while True:\n",
    "        try:\n",
    "            print(a/b)\n",
    "        except Exception as e:\n",
    "            test_a()\n",
    "            test_b()"
   ]
  },
  {
   "cell_type": "code",
   "execution_count": 3,
   "id": "c2647bd0",
   "metadata": {
    "scrolled": false
   },
   "outputs": [
    {
     "name": "stdout",
     "output_type": "stream",
     "text": [
      "a\n"
     ]
    }
   ],
   "source": [
    "test(1,0)"
   ]
  },
  {
   "cell_type": "code",
   "execution_count": null,
   "id": "a87ea488",
   "metadata": {},
   "outputs": [],
   "source": []
  }
 ],
 "metadata": {
  "kernelspec": {
   "display_name": "Python 3 (ipykernel)",
   "language": "python",
   "name": "python3"
  },
  "language_info": {
   "codemirror_mode": {
    "name": "ipython",
    "version": 3
   },
   "file_extension": ".py",
   "mimetype": "text/x-python",
   "name": "python",
   "nbconvert_exporter": "python",
   "pygments_lexer": "ipython3",
   "version": "3.11.4"
  }
 },
 "nbformat": 4,
 "nbformat_minor": 5
}
