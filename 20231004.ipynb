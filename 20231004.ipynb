{
 "cells": [
  {
   "cell_type": "code",
   "execution_count": 1,
   "id": "a552b999",
   "metadata": {},
   "outputs": [],
   "source": [
    "import numpy as np\n",
    "\n",
    "arr_32 = np.array([1.5] * 1000000, dtype = np.float32)"
   ]
  },
  {
   "cell_type": "code",
   "execution_count": 2,
   "id": "3aaf9d02",
   "metadata": {},
   "outputs": [
    {
     "data": {
      "text/plain": [
       "array([1.5, 1.5, 1.5, ..., 1.5, 1.5, 1.5], dtype=float32)"
      ]
     },
     "execution_count": 2,
     "metadata": {},
     "output_type": "execute_result"
    }
   ],
   "source": [
    "arr_32"
   ]
  },
  {
   "cell_type": "code",
   "execution_count": 3,
   "id": "9152ae57",
   "metadata": {},
   "outputs": [
    {
     "name": "stdout",
     "output_type": "stream",
     "text": [
      "4000000 bytes\n"
     ]
    }
   ],
   "source": [
    "print(arr_32.nbytes, \"bytes\")"
   ]
  },
  {
   "cell_type": "code",
   "execution_count": 4,
   "id": "6afc942a",
   "metadata": {},
   "outputs": [],
   "source": [
    "arr1 = np.array([[1., 2., 3.], [4., 1., 6.]])\n",
    "arr2 = np.array([[0.5, 1., 1.], [2., 2., -1.]])"
   ]
  },
  {
   "cell_type": "code",
   "execution_count": 5,
   "id": "6b0ba761",
   "metadata": {},
   "outputs": [
    {
     "name": "stdout",
     "output_type": "stream",
     "text": [
      "[[ 0.5  2.   3. ]\n",
      " [ 8.   2.  -6. ]]\n"
     ]
    }
   ],
   "source": [
    "print(arr1 * arr2)"
   ]
  },
  {
   "cell_type": "code",
   "execution_count": 6,
   "id": "a8795510",
   "metadata": {},
   "outputs": [],
   "source": [
    "from timeit import default_timer as timer\n",
    "size = 1000000  # one million elements\n",
    "a_list = [i for i in range(size)]\n",
    "b_list = [i for i in range(size, 0, -1)]\n",
    "a_array = np.array(a_list)\n",
    "b_array = np.array(b_list)"
   ]
  },
  {
   "cell_type": "code",
   "execution_count": 7,
   "id": "ad85d235",
   "metadata": {},
   "outputs": [
    {
     "name": "stdout",
     "output_type": "stream",
     "text": [
      "Traditional for loop: 0.107 seconds\n"
     ]
    }
   ],
   "source": [
    "start = timer()\n",
    "result_loop = []\n",
    "for i in range(len(a_list)):\n",
    "    result_loop.append(a_list[i] + b_list[i])\n",
    "end = timer()\n",
    "loop_time = end - start\n",
    "print(f\"Traditional for loop: {loop_time:.3f} seconds\")"
   ]
  },
  {
   "cell_type": "code",
   "execution_count": 8,
   "id": "2eec5530",
   "metadata": {},
   "outputs": [
    {
     "name": "stdout",
     "output_type": "stream",
     "text": [
      "List comprehension: 0.062 seconds\n"
     ]
    }
   ],
   "source": [
    "start = timer()\n",
    "result_list_comp = [a_list[i] + b_list[i] for i in range(len(a_list))]\n",
    "end = timer()\n",
    "list_comp_time = end - start\n",
    "print(f\"List comprehension: {list_comp_time:.3f} seconds\")"
   ]
  },
  {
   "cell_type": "code",
   "execution_count": 9,
   "id": "8b5b0f0f",
   "metadata": {},
   "outputs": [
    {
     "name": "stdout",
     "output_type": "stream",
     "text": [
      "NumPy vectorized addition: 0.005 seconds\n"
     ]
    }
   ],
   "source": [
    "start = timer()\n",
    "result_numpy = a_array + b_array\n",
    "end = timer()\n",
    "numpy_time = end - start\n",
    "print(f\"NumPy vectorized addition: {numpy_time:.3f} seconds\")"
   ]
  },
  {
   "cell_type": "code",
   "execution_count": 10,
   "id": "a576e442",
   "metadata": {},
   "outputs": [
    {
     "ename": "NameError",
     "evalue": "name 'arr4' is not defined",
     "output_type": "error",
     "traceback": [
      "\u001b[0;31m---------------------------------------------------------------------------\u001b[0m",
      "\u001b[0;31mNameError\u001b[0m                                 Traceback (most recent call last)",
      "Cell \u001b[0;32mIn[10], line 1\u001b[0m\n\u001b[0;32m----> 1\u001b[0m \u001b[38;5;28mprint\u001b[39m(arr4)\n\u001b[1;32m      2\u001b[0m arr4[\u001b[38;5;241m0\u001b[39m]\n\u001b[1;32m      3\u001b[0m arr4[\u001b[38;5;241m-\u001b[39m\u001b[38;5;241m2\u001b[39m]\n",
      "\u001b[0;31mNameError\u001b[0m: name 'arr4' is not defined"
     ]
    }
   ],
   "source": [
    "print(arr4)\n",
    "arr4[0]\n",
    "arr4[-2]\n",
    "arr4[1:3]"
   ]
  },
  {
   "cell_type": "code",
   "execution_count": 11,
   "id": "a98326cf",
   "metadata": {},
   "outputs": [
    {
     "name": "stdout",
     "output_type": "stream",
     "text": [
      "[[1 2 3]\n",
      " [4 5 6]\n",
      " [7 8 9]]\n"
     ]
    }
   ],
   "source": [
    "arr2d = np.array([[1, 2, 3], [4, 5, 6], [7, 8, 9]])\n",
    "print(arr2d)"
   ]
  },
  {
   "cell_type": "code",
   "execution_count": 12,
   "id": "10ea0ceb",
   "metadata": {},
   "outputs": [
    {
     "name": "stdout",
     "output_type": "stream",
     "text": [
      "[[1 2 3]\n",
      " [4 5 6]\n",
      " [7 8 9]]\n",
      "9\n",
      "9\n"
     ]
    }
   ],
   "source": [
    "print(arr2d)\n",
    "print(arr2d[2][-1])\n",
    "print(arr2d[2, -1])"
   ]
  },
  {
   "cell_type": "code",
   "execution_count": 13,
   "id": "263bc7fd",
   "metadata": {},
   "outputs": [
    {
     "data": {
      "text/plain": [
       "array([7, 8, 9])"
      ]
     },
     "execution_count": 13,
     "metadata": {},
     "output_type": "execute_result"
    }
   ],
   "source": [
    "arr2d[2]"
   ]
  },
  {
   "cell_type": "code",
   "execution_count": 14,
   "id": "e4347c07",
   "metadata": {},
   "outputs": [
    {
     "data": {
      "text/plain": [
       "array([7, 8, 9])"
      ]
     },
     "execution_count": 14,
     "metadata": {},
     "output_type": "execute_result"
    }
   ],
   "source": [
    "arr2d[2, :]"
   ]
  },
  {
   "cell_type": "code",
   "execution_count": 15,
   "id": "21bcb82d",
   "metadata": {},
   "outputs": [
    {
     "data": {
      "text/plain": [
       "array([[7, 8, 9]])"
      ]
     },
     "execution_count": 15,
     "metadata": {},
     "output_type": "execute_result"
    }
   ],
   "source": [
    "arr2d[2:, :]"
   ]
  },
  {
   "cell_type": "code",
   "execution_count": 16,
   "id": "ffbc2ac9",
   "metadata": {},
   "outputs": [
    {
     "name": "stdout",
     "output_type": "stream",
     "text": [
      "0    163\n",
      "1    156\n",
      "2    177\n",
      "dtype: int64\n"
     ]
    }
   ],
   "source": [
    "import pandas as pd\n",
    "\n",
    "height = pd.Series([163, 156, 177])\n",
    "print(height)"
   ]
  },
  {
   "cell_type": "code",
   "execution_count": 17,
   "id": "d4fea4b9",
   "metadata": {},
   "outputs": [
    {
     "name": "stdout",
     "output_type": "stream",
     "text": [
      "Lee     163\n",
      "Kim     156\n",
      "Jung    177\n",
      "dtype: int64\n"
     ]
    }
   ],
   "source": [
    "height2 = pd.Series([163, 156, 177],\n",
    "                    index = ['Lee', 'Kim', 'Jung'])\n",
    "print(height2)"
   ]
  },
  {
   "cell_type": "code",
   "execution_count": 18,
   "id": "e57b1a7a",
   "metadata": {},
   "outputs": [
    {
     "name": "stdout",
     "output_type": "stream",
     "text": [
      "Lee    163\n",
      "Kim    156\n",
      "Kim    177\n",
      "dtype: int64\n"
     ]
    }
   ],
   "source": [
    "height2 = pd.Series([163, 156, 177],\n",
    "                    index = ['Lee', 'Kim', 'Kim'])\n",
    "print(height2)"
   ]
  },
  {
   "cell_type": "code",
   "execution_count": 19,
   "id": "295f9ffe",
   "metadata": {},
   "outputs": [
    {
     "data": {
      "text/plain": [
       "Kim    156\n",
       "Kim    177\n",
       "dtype: int64"
      ]
     },
     "execution_count": 19,
     "metadata": {},
     "output_type": "execute_result"
    }
   ],
   "source": [
    "height2.loc['Kim']"
   ]
  },
  {
   "cell_type": "code",
   "execution_count": 21,
   "id": "95d5089f",
   "metadata": {},
   "outputs": [
    {
     "name": "stdout",
     "output_type": "stream",
     "text": [
      "Choi    163\n",
      "Han     156\n",
      "Han     177\n",
      "dtype: int64\n"
     ]
    }
   ],
   "source": [
    "height2.index = ['Choi', 'Han', 'Han']\n",
    "print(height2)"
   ]
  },
  {
   "cell_type": "code",
   "execution_count": 22,
   "id": "4f341f82",
   "metadata": {},
   "outputs": [
    {
     "data": {
      "text/plain": [
       "Han    156\n",
       "Han    177\n",
       "dtype: int64"
      ]
     },
     "execution_count": 22,
     "metadata": {},
     "output_type": "execute_result"
    }
   ],
   "source": [
    "height2.loc['Han']"
   ]
  },
  {
   "cell_type": "code",
   "execution_count": 23,
   "id": "24f09ee7",
   "metadata": {},
   "outputs": [
    {
     "name": "stdout",
     "output_type": "stream",
     "text": [
      "Choi    163\n",
      "Han     156\n",
      "Han     177\n",
      "Name: name_height, dtype: int64\n"
     ]
    }
   ],
   "source": [
    "height2.name = 'name_height'\n",
    "print(height2)"
   ]
  },
  {
   "cell_type": "code",
   "execution_count": 24,
   "id": "458382d2",
   "metadata": {},
   "outputs": [
    {
     "name": "stdout",
     "output_type": "stream",
     "text": [
      "name\n",
      "Choi    163\n",
      "Han     156\n",
      "Han     177\n",
      "Name: name_height, dtype: int64\n"
     ]
    }
   ],
   "source": [
    "height2.index.name = 'name'\n",
    "print(height2)"
   ]
  },
  {
   "cell_type": "code",
   "execution_count": 25,
   "id": "6bde7cb0",
   "metadata": {},
   "outputs": [
    {
     "name": "stdout",
     "output_type": "stream",
     "text": [
      "0    163\n",
      "1    156\n",
      "dtype: int64\n",
      "0    163\n",
      "2    177\n",
      "dtype: int64\n"
     ]
    }
   ],
   "source": [
    "print(height[0:2])\n",
    "print(height[[0, 2]])"
   ]
  },
  {
   "cell_type": "code",
   "execution_count": 26,
   "id": "963b0e18",
   "metadata": {},
   "outputs": [
    {
     "name": "stdout",
     "output_type": "stream",
     "text": [
      "name\n",
      "Choi    163\n",
      "Han     156\n",
      "Han     177\n",
      "Name: name_height, dtype: int64\n"
     ]
    },
    {
     "data": {
      "text/plain": [
       "name\n",
       "Choi    163\n",
       "Han     156\n",
       "Name: name_height, dtype: int64"
      ]
     },
     "execution_count": 26,
     "metadata": {},
     "output_type": "execute_result"
    }
   ],
   "source": [
    "print(height2)\n",
    "height2['Choi':'Park'] # inclusive with string indices\n",
    "height2[:2] # it also works with positions"
   ]
  },
  {
   "cell_type": "code",
   "execution_count": 27,
   "id": "e20de7b5",
   "metadata": {},
   "outputs": [
    {
     "name": "stdout",
     "output_type": "stream",
     "text": [
      "2    1\n",
      "0    2\n",
      "1    3\n",
      "dtype: int64\n",
      "0    2\n",
      "1    3\n",
      "2    1\n",
      "dtype: int64\n"
     ]
    }
   ],
   "source": [
    "obj = pd.Series([1, 2, 3], index = [2, 0, 1])\n",
    "print(obj)\n",
    "print(obj[[0, 1, 2]])"
   ]
  },
  {
   "cell_type": "code",
   "execution_count": 28,
   "id": "aba37492",
   "metadata": {},
   "outputs": [
    {
     "data": {
      "text/plain": [
       "0    2\n",
       "1    3\n",
       "2    1\n",
       "dtype: int64"
      ]
     },
     "execution_count": 28,
     "metadata": {},
     "output_type": "execute_result"
    }
   ],
   "source": [
    "obj.sort_index()"
   ]
  },
  {
   "cell_type": "code",
   "execution_count": 35,
   "id": "3d3e2c68",
   "metadata": {},
   "outputs": [
    {
     "data": {
      "text/plain": [
       "0    163\n",
       "2    177\n",
       "dtype: int64"
      ]
     },
     "execution_count": 35,
     "metadata": {},
     "output_type": "execute_result"
    }
   ],
   "source": [
    "height[height > 160]\n",
    "feet = height * 0.0328084\n",
    "np.exp(pd.Series([1, 2, 3]))"
   ]
  },
  {
   "cell_type": "code",
   "execution_count": 34,
   "id": "1294cf11",
   "metadata": {},
   "outputs": [
    {
     "data": {
      "text/plain": [
       "NaN    1\n",
       "2      1\n",
       "b      1\n",
       "a+     1\n",
       "a      1\n",
       "f      1\n",
       "dtype: int64"
      ]
     },
     "execution_count": 34,
     "metadata": {},
     "output_type": "execute_result"
    }
   ],
   "source": [
    "grades = pd.Series([np.nan, 2, 'b', 'a+',  'a', 'f'])\n",
    "grades.head(3) # similarly tail()\n",
    "grades.value_counts(dropna = False)"
   ]
  },
  {
   "cell_type": "code",
   "execution_count": 36,
   "id": "73b9f182",
   "metadata": {},
   "outputs": [
    {
     "data": {
      "text/plain": [
       "0    NaN\n",
       "1      2\n",
       "2      b\n",
       "dtype: object"
      ]
     },
     "execution_count": 36,
     "metadata": {},
     "output_type": "execute_result"
    }
   ],
   "source": [
    "grades.head(3) # similarly tail()"
   ]
  },
  {
   "cell_type": "code",
   "execution_count": 37,
   "id": "8bc5bb92",
   "metadata": {},
   "outputs": [
    {
     "data": {
      "text/plain": [
       "0     True\n",
       "1    False\n",
       "2    False\n",
       "3    False\n",
       "4    False\n",
       "5    False\n",
       "dtype: bool"
      ]
     },
     "execution_count": 37,
     "metadata": {},
     "output_type": "execute_result"
    }
   ],
   "source": [
    "grades.isin(['a+', 'a', 'b+', 'b'])\n",
    "grades.isnull() # the opposite is notnull()"
   ]
  },
  {
   "cell_type": "code",
   "execution_count": 47,
   "id": "cbdeb819",
   "metadata": {},
   "outputs": [
    {
     "data": {
      "text/plain": [
       "2     b\n",
       "3    a+\n",
       "4     a\n",
       "dtype: object"
      ]
     },
     "execution_count": 47,
     "metadata": {},
     "output_type": "execute_result"
    }
   ],
   "source": [
    "grades[grades.isin(['a+', 'a', 'b+', 'b'])]"
   ]
  },
  {
   "cell_type": "code",
   "execution_count": 39,
   "id": "8586bd64",
   "metadata": {},
   "outputs": [
    {
     "data": {
      "text/plain": [
       "0     f\n",
       "1     2\n",
       "2     b\n",
       "3    a+\n",
       "4     a\n",
       "5     f\n",
       "dtype: object"
      ]
     },
     "execution_count": 39,
     "metadata": {},
     "output_type": "execute_result"
    }
   ],
   "source": [
    "grades.dropna()\n",
    "grades.fillna('f')"
   ]
  },
  {
   "cell_type": "code",
   "execution_count": 48,
   "id": "e53a8a69",
   "metadata": {},
   "outputs": [
    {
     "data": {
      "text/plain": [
       "0    NaN\n",
       "1      2\n",
       "2      b\n",
       "3     a+\n",
       "4      a\n",
       "5      f\n",
       "dtype: object"
      ]
     },
     "execution_count": 48,
     "metadata": {},
     "output_type": "execute_result"
    }
   ],
   "source": [
    "grades"
   ]
  },
  {
   "cell_type": "code",
   "execution_count": 42,
   "id": "aab31dc9",
   "metadata": {},
   "outputs": [
    {
     "data": {
      "text/plain": [
       "0      NaN\n",
       "1      NaN\n",
       "2    False\n",
       "3     True\n",
       "4     True\n",
       "5    False\n",
       "dtype: object"
      ]
     },
     "execution_count": 42,
     "metadata": {},
     "output_type": "execute_result"
    }
   ],
   "source": [
    "grades.str.contains('a|a+')\n",
    "# grades.str.replace('a+', 'a')"
   ]
  },
  {
   "cell_type": "code",
   "execution_count": 46,
   "id": "f79654b8",
   "metadata": {},
   "outputs": [
    {
     "name": "stderr",
     "output_type": "stream",
     "text": [
      "/var/folders/ps/mmfjqxl52pb1b3b_0bbt37gr0000gn/T/ipykernel_5304/79958305.py:1: FutureWarning: The default value of regex will change from True to False in a future version.\n",
      "  grades.str.replace('a+', 'a')\n"
     ]
    },
    {
     "data": {
      "text/plain": [
       "0    NaN\n",
       "1    NaN\n",
       "2      b\n",
       "3     a+\n",
       "4      a\n",
       "5      f\n",
       "dtype: object"
      ]
     },
     "execution_count": 46,
     "metadata": {},
     "output_type": "execute_result"
    }
   ],
   "source": [
    "grades.str.replace('a+', 'a')"
   ]
  },
  {
   "cell_type": "code",
   "execution_count": 50,
   "id": "17dd480c",
   "metadata": {},
   "outputs": [
    {
     "data": {
      "text/plain": [
       "pandas.core.series.Series"
      ]
     },
     "execution_count": 50,
     "metadata": {},
     "output_type": "execute_result"
    }
   ],
   "source": [
    "type(grades)"
   ]
  },
  {
   "cell_type": "code",
   "execution_count": 51,
   "id": "6ac127c0",
   "metadata": {},
   "outputs": [
    {
     "data": {
      "text/plain": [
       "dtype('O')"
      ]
     },
     "execution_count": 51,
     "metadata": {},
     "output_type": "execute_result"
    }
   ],
   "source": [
    "grades.dtypes"
   ]
  },
  {
   "cell_type": "code",
   "execution_count": 52,
   "id": "1d9eadd2",
   "metadata": {},
   "outputs": [
    {
     "name": "stdout",
     "output_type": "stream",
     "text": [
      "         age    income gender  married\n",
      "Jessica   23   30000.0      F     True\n",
      "Jisoo     34   56000.0   None    False\n",
      "Peter     23       NaN      M    False\n",
      "Susan     45  112000.0      F    False\n",
      "Rui       67  179000.0      F     True\n",
      "Alex      26   78000.0      M     True\n"
     ]
    }
   ],
   "source": [
    "df = pd.DataFrame(\n",
    "  {'age': [23, 34, 23, 45, 67, 26],\n",
    "  'income': [30000, 56000, None, 112000, 179000, 78000],\n",
    "  'gender': ['F', None, 'M', 'F', 'F', 'M'],\n",
    "  'married': [True, False, False, False, True, True]},\n",
    "  index = ['Jessica', 'Jisoo', 'Peter', 'Susan', 'Rui', 'Alex'])\n",
    "print(df)"
   ]
  },
  {
   "cell_type": "code",
   "execution_count": 53,
   "id": "57ca6208",
   "metadata": {},
   "outputs": [
    {
     "name": "stdout",
     "output_type": "stream",
     "text": [
      "age             26\n",
      "income     78000.0\n",
      "gender           M\n",
      "married       True\n",
      "Name: Alex, dtype: object\n",
      "       age   income gender  married\n",
      "Jisoo   34  56000.0   None    False\n",
      "Alex    26  78000.0      M     True\n"
     ]
    }
   ],
   "source": [
    "print(df.loc['Alex'])\n",
    "print(df.loc[['Jisoo', 'Alex']])"
   ]
  },
  {
   "cell_type": "code",
   "execution_count": 54,
   "id": "5a801411",
   "metadata": {},
   "outputs": [
    {
     "data": {
      "text/plain": [
       "pandas.core.series.Series"
      ]
     },
     "execution_count": 54,
     "metadata": {},
     "output_type": "execute_result"
    }
   ],
   "source": [
    "type(df.loc['Alex'])"
   ]
  },
  {
   "cell_type": "code",
   "execution_count": 55,
   "id": "54470e5b",
   "metadata": {},
   "outputs": [
    {
     "name": "stdout",
     "output_type": "stream",
     "text": [
      "       age    income gender  married\n",
      "Jisoo   34   56000.0   None    False\n",
      "Peter   23       NaN      M    False\n",
      "Susan   45  112000.0      F    False\n",
      "Rui     67  179000.0      F     True\n",
      "Alex    26   78000.0      M     True\n"
     ]
    }
   ],
   "source": [
    "\n",
    "print(df.loc['Jisoo':'Alex'])"
   ]
  },
  {
   "cell_type": "code",
   "execution_count": 57,
   "id": "908b9596",
   "metadata": {},
   "outputs": [
    {
     "data": {
      "text/plain": [
       "age             23\n",
       "income     30000.0\n",
       "gender           F\n",
       "married       True\n",
       "Name: Jessica, dtype: object"
      ]
     },
     "execution_count": 57,
     "metadata": {},
     "output_type": "execute_result"
    }
   ],
   "source": [
    "df.iloc[0]"
   ]
  },
  {
   "cell_type": "code",
   "execution_count": 59,
   "id": "58306322",
   "metadata": {},
   "outputs": [],
   "source": [
    "df.index = [x for x in range(0,6)]"
   ]
  },
  {
   "cell_type": "code",
   "execution_count": 60,
   "id": "98edf123",
   "metadata": {},
   "outputs": [
    {
     "data": {
      "text/plain": [
       "age             23\n",
       "income     30000.0\n",
       "gender           F\n",
       "married       True\n",
       "Name: 0, dtype: object"
      ]
     },
     "execution_count": 60,
     "metadata": {},
     "output_type": "execute_result"
    }
   ],
   "source": [
    "df.loc[0]"
   ]
  },
  {
   "cell_type": "code",
   "execution_count": 61,
   "id": "72ffdb56",
   "metadata": {},
   "outputs": [
    {
     "name": "stdout",
     "output_type": "stream",
     "text": [
      "   age   income gender  married\n",
      "0   23  30000.0      F     True\n",
      "1   34  56000.0   None    False\n",
      "2   23      NaN      M    False\n"
     ]
    }
   ],
   "source": [
    "print(df.iloc[0:3, :])"
   ]
  },
  {
   "cell_type": "code",
   "execution_count": 62,
   "id": "49e95843",
   "metadata": {},
   "outputs": [
    {
     "name": "stdout",
     "output_type": "stream",
     "text": [
      "      age    income gender  married\n",
      "1001   23   30000.0      F     True\n",
      "1002   34   56000.0   None    False\n",
      "1003   23       NaN      M    False\n",
      "1004   45  112000.0      F    False\n",
      "1005   67  179000.0      F     True\n",
      "1006   26   78000.0      M     True\n"
     ]
    }
   ],
   "source": [
    "df.index = range(1001, 1007) # let see this as survey\n",
    "df = df.reindex(range(1001, 1007))\n",
    "print(df)"
   ]
  },
  {
   "cell_type": "code",
   "execution_count": 63,
   "id": "bad8b37c",
   "metadata": {},
   "outputs": [
    {
     "name": "stdout",
     "output_type": "stream",
     "text": [
      "      age   income gender  married\n",
      "1001   23  30000.0      F     True\n",
      "1002   34  56000.0   None    False\n",
      "1003   23      NaN      M    False\n"
     ]
    }
   ],
   "source": [
    "print(df.iloc[0:3, :])"
   ]
  },
  {
   "cell_type": "code",
   "execution_count": 64,
   "id": "54762304",
   "metadata": {},
   "outputs": [
    {
     "name": "stdout",
     "output_type": "stream",
     "text": [
      "      age   income gender  married\n",
      "1001   23  30000.0      F     True\n",
      "1002   34  56000.0   None    False\n",
      "1003   23      NaN      M    False\n"
     ]
    }
   ],
   "source": [
    "print(df.iloc[0:3, :]) # non-inclusive"
   ]
  },
  {
   "cell_type": "code",
   "execution_count": 65,
   "id": "45b28ac4",
   "metadata": {},
   "outputs": [
    {
     "name": "stdout",
     "output_type": "stream",
     "text": [
      "      age   income\n",
      "1001   23  30000.0\n",
      "1002   34  56000.0\n",
      "1003   23      NaN\n"
     ]
    }
   ],
   "source": [
    "print(df[['age', 'income']].iloc[:3])"
   ]
  },
  {
   "cell_type": "code",
   "execution_count": 66,
   "id": "d690b830",
   "metadata": {},
   "outputs": [
    {
     "name": "stdout",
     "output_type": "stream",
     "text": [
      "      age   income gender  married\n",
      "1001   23  30000.0      F     True\n",
      "1002   34  56000.0   None    False\n"
     ]
    }
   ],
   "source": [
    "print(df.loc[1001:1002])"
   ]
  },
  {
   "cell_type": "code",
   "execution_count": 68,
   "id": "433f5736",
   "metadata": {},
   "outputs": [],
   "source": [
    "# print(df.iloc[1001]) 에러 ....위치니까 에러다"
   ]
  },
  {
   "cell_type": "code",
   "execution_count": 70,
   "id": "d4ea2240",
   "metadata": {},
   "outputs": [
    {
     "name": "stdout",
     "output_type": "stream",
     "text": [
      "d    0\n",
      "a    1\n",
      "b    2\n",
      "c    3\n",
      "dtype: int64\n",
      "   d  a  b  c\n",
      "y  0  1  2  3\n",
      "x  4  5  6  7\n"
     ]
    }
   ],
   "source": [
    "obj = pd.Series(np.arange(4),\n",
    "                index=['d', 'a', 'b', 'c'])\n",
    "frame = pd.DataFrame(np.arange(8).reshape((2, 4)),\n",
    "                    index=['y', 'x'],\n",
    "                    columns = ['d', 'a', 'b', 'c'])\n",
    "print(obj)\n",
    "print(frame)"
   ]
  },
  {
   "cell_type": "code",
   "execution_count": 71,
   "id": "358fd3bb",
   "metadata": {},
   "outputs": [
    {
     "name": "stdout",
     "output_type": "stream",
     "text": [
      "a    1\n",
      "b    2\n",
      "c    3\n",
      "d    0\n",
      "dtype: int64\n"
     ]
    }
   ],
   "source": [
    "print(obj.sort_index())"
   ]
  },
  {
   "cell_type": "code",
   "execution_count": 72,
   "id": "53fdbd1f",
   "metadata": {},
   "outputs": [
    {
     "name": "stdout",
     "output_type": "stream",
     "text": [
      "   d  a  b  c\n",
      "x  4  5  6  7\n",
      "y  0  1  2  3\n"
     ]
    }
   ],
   "source": [
    "print(frame.sort_index())"
   ]
  },
  {
   "cell_type": "code",
   "execution_count": 73,
   "id": "b6852fab",
   "metadata": {},
   "outputs": [
    {
     "name": "stdout",
     "output_type": "stream",
     "text": [
      "   d  c  b  a\n",
      "y  0  3  2  1\n",
      "x  4  7  6  5\n"
     ]
    }
   ],
   "source": [
    "print(frame.sort_index(axis = 'columns',\n",
    "                       ascending = False))"
   ]
  },
  {
   "cell_type": "code",
   "execution_count": 75,
   "id": "c6fbba6e",
   "metadata": {},
   "outputs": [
    {
     "name": "stdout",
     "output_type": "stream",
     "text": [
      "   b  a\n",
      "0  4  0\n",
      "1  7  1\n",
      "2 -3  0\n",
      "3  2  1\n"
     ]
    }
   ],
   "source": [
    "\n",
    "frame = pd.DataFrame({'b': [4, 7, -3, 2],\n",
    "                      'a': [0, 1, 0, 1]})\n",
    "print(frame)"
   ]
  },
  {
   "cell_type": "code",
   "execution_count": 76,
   "id": "0c9c1d0e",
   "metadata": {},
   "outputs": [
    {
     "name": "stdout",
     "output_type": "stream",
     "text": [
      "   b  a\n",
      "1  7  1\n",
      "3  2  1\n",
      "0  4  0\n",
      "2 -3  0\n"
     ]
    }
   ],
   "source": [
    "print(frame.sort_values(['a'], ascending = False))"
   ]
  },
  {
   "cell_type": "code",
   "execution_count": 77,
   "id": "f8b26b15",
   "metadata": {},
   "outputs": [
    {
     "name": "stdout",
     "output_type": "stream",
     "text": [
      "   b  a\n",
      "2 -3  0\n",
      "0  4  0\n",
      "3  2  1\n",
      "1  7  1\n"
     ]
    }
   ],
   "source": [
    "print(frame.sort_values(['a', 'b'])) "
   ]
  },
  {
   "cell_type": "code",
   "execution_count": 78,
   "id": "3e6e248b",
   "metadata": {},
   "outputs": [
    {
     "name": "stdout",
     "output_type": "stream",
     "text": [
      "0    False\n",
      "1    False\n",
      "2     True\n",
      "3     True\n",
      "4    False\n",
      "dtype: bool\n"
     ]
    }
   ],
   "source": [
    "ser = pd.Series([4.3, 3.3, np.nan, None, 0])\n",
    "print(ser.isna())"
   ]
  },
  {
   "cell_type": "code",
   "execution_count": 79,
   "id": "2a9f1883",
   "metadata": {},
   "outputs": [
    {
     "name": "stdout",
     "output_type": "stream",
     "text": [
      "0    False\n",
      "1    False\n",
      "2     True\n",
      "3     True\n",
      "4    False\n",
      "dtype: bool\n"
     ]
    }
   ],
   "source": [
    "print(ser.isnull())"
   ]
  },
  {
   "cell_type": "code",
   "execution_count": 80,
   "id": "5fc85d95",
   "metadata": {},
   "outputs": [
    {
     "name": "stdout",
     "output_type": "stream",
     "text": [
      "0    4.3\n",
      "1    3.3\n",
      "4    0.0\n",
      "dtype: float64\n"
     ]
    }
   ],
   "source": [
    "ser = pd.Series([4.3, 3.3, np.nan, None, 0])\n",
    "print(ser.dropna()) # re-assignment necessary"
   ]
  },
  {
   "cell_type": "code",
   "execution_count": 82,
   "id": "d7ddd2dd",
   "metadata": {},
   "outputs": [
    {
     "name": "stdout",
     "output_type": "stream",
     "text": [
      "     0    1    2\n",
      "0  1.0  6.5  3.0\n",
      "1  1.0  NaN  NaN\n",
      "2  NaN  NaN  NaN\n",
      "3  NaN  6.5  3.0\n"
     ]
    }
   ],
   "source": [
    "data = pd.DataFrame([[1., 6.5, 3.],\n",
    "                    [1., np.nan, np.nan],\n",
    "                    [np.nan, np.nan, np.nan],\n",
    "                    [np.nan, 6.5, 3.]])\n",
    "\n",
    "print(data)"
   ]
  },
  {
   "cell_type": "code",
   "execution_count": 83,
   "id": "3c7de9e4",
   "metadata": {},
   "outputs": [
    {
     "name": "stdout",
     "output_type": "stream",
     "text": [
      "    k1  k2\n",
      "0  one   1\n",
      "1  two   1\n",
      "2  one   2\n",
      "3  two   3\n",
      "4  one   3\n",
      "5  two   4\n",
      "6  two   4\n",
      "7  one   3\n"
     ]
    }
   ],
   "source": [
    "data = pd.DataFrame({'k1': ['one', 'two'] * 3 + ['two'] + ['one'],\n",
    "                     'k2': [1, 1, 2, 3, 3, 4, 4, 3]})\n",
    "print(data)"
   ]
  },
  {
   "cell_type": "code",
   "execution_count": 84,
   "id": "5ee5251e",
   "metadata": {},
   "outputs": [
    {
     "name": "stdout",
     "output_type": "stream",
     "text": [
      "0    False\n",
      "1    False\n",
      "2    False\n",
      "3    False\n",
      "4    False\n",
      "5    False\n",
      "6     True\n",
      "7     True\n",
      "dtype: bool\n"
     ]
    }
   ],
   "source": [
    "print(data.duplicated())"
   ]
  },
  {
   "cell_type": "code",
   "execution_count": 85,
   "id": "adb1cd8b",
   "metadata": {},
   "outputs": [
    {
     "name": "stdout",
     "output_type": "stream",
     "text": [
      "    k1  k2\n",
      "0  one   1\n",
      "1  two   1\n",
      "2  one   2\n",
      "3  two   3\n",
      "4  one   3\n",
      "5  two   4\n"
     ]
    }
   ],
   "source": [
    "print(data.drop_duplicates())"
   ]
  },
  {
   "cell_type": "code",
   "execution_count": 86,
   "id": "6c9ca2a0",
   "metadata": {},
   "outputs": [
    {
     "name": "stdout",
     "output_type": "stream",
     "text": [
      "    k1  k2  k3\n",
      "0  one   1   0\n",
      "1  two   1   1\n",
      "2  one   2   2\n",
      "3  two   3   3\n",
      "4  one   3   4\n",
      "5  two   4   5\n",
      "6  two   4   6\n",
      "7  one   3   7\n"
     ]
    }
   ],
   "source": [
    "data['k3'] = range(8)\n",
    "print(data)"
   ]
  },
  {
   "cell_type": "code",
   "execution_count": null,
   "id": "6e730a8c",
   "metadata": {},
   "outputs": [],
   "source": [
    "print(data.drop_duplicates(subset = 'k1', keep = 'first'))\n"
   ]
  }
 ],
 "metadata": {
  "kernelspec": {
   "display_name": "Python 3 (ipykernel)",
   "language": "python",
   "name": "python3"
  },
  "language_info": {
   "codemirror_mode": {
    "name": "ipython",
    "version": 3
   },
   "file_extension": ".py",
   "mimetype": "text/x-python",
   "name": "python",
   "nbconvert_exporter": "python",
   "pygments_lexer": "ipython3",
   "version": "3.11.4"
  }
 },
 "nbformat": 4,
 "nbformat_minor": 5
}
